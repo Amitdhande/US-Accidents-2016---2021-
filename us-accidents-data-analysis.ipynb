{
 "cells": [
  {
   "cell_type": "markdown",
   "metadata": {
    "id": "nq_17WWE25as"
   },
   "source": [
    "# us-accidents-data-analysis\n",
    "\n",
    "Use the \"Run\" button to execute the code."
   ]
  },
  {
   "cell_type": "code",
   "execution_count": 1,
   "metadata": {
    "colab": {
     "base_uri": "https://localhost:8080/"
    },
    "executionInfo": {
     "elapsed": 5953,
     "status": "ok",
     "timestamp": 1678507366926,
     "user": {
      "displayName": "Amit Dhande",
      "userId": "10537376303475725898"
     },
     "user_tz": -330
    },
    "id": "oJDeNTiu25a0",
    "outputId": "d1ec4cad-f7fe-4f8e-bcb7-316d974b707a"
   },
   "outputs": [
    {
     "name": "stdout",
     "output_type": "stream",
     "text": [
      "\u001b[?25l     \u001b[90m━━━━━━━━━━━━━━━━━━━━━━━━━━━━━━━━━━━━━━━━\u001b[0m \u001b[32m0.0/68.6 KB\u001b[0m \u001b[31m?\u001b[0m eta \u001b[36m-:--:--\u001b[0m\r",
      "\u001b[2K     \u001b[90m━━━━━━━━━━━━━━━━━━━━━━━━━━━━━━━━━━━━━━━━\u001b[0m \u001b[32m68.6/68.6 KB\u001b[0m \u001b[31m2.9 MB/s\u001b[0m eta \u001b[36m0:00:00\u001b[0m\n",
      "\u001b[?25h  Preparing metadata (setup.py) ... \u001b[?25l\u001b[?25hdone\n",
      "  Building wheel for uuid (setup.py) ... \u001b[?25l\u001b[?25hdone\n"
     ]
    }
   ],
   "source": [
    "!pip install jovian --upgrade -q\n",
    "import jovian\n",
    "jovian.set_project(\"us-accidents-data-analysis\")\n",
    "jovian.set_colab_id(\"17sNb6nLRaJ4m-UOWaqG9xL1LcHLT74cg\")"
   ]
  },
  {
   "cell_type": "markdown",
   "metadata": {
    "id": "TmWcqjYQ4lCw"
   },
   "source": [
    "#US Accidents Exploratory Data Analysis\n",
    "\n",
    "TODO- Talk about EDA\n",
    "TODO - Talk about the dataset( Sources,what it contains, how it will be useful)\n",
    "*   Kaggle\n",
    "*   Information about accident\n",
    "*   Can be useful to prevent accident\n",
    "*   This data don't have New york city data\n",
    "\n",
    "\n",
    "\n"
   ]
  },
  {
   "cell_type": "code",
   "execution_count": 2,
   "metadata": {
    "executionInfo": {
     "elapsed": 5727,
     "status": "ok",
     "timestamp": 1678507372644,
     "user": {
      "displayName": "Amit Dhande",
      "userId": "10537376303475725898"
     },
     "user_tz": -330
    },
    "id": "R2A6tWsG7bCJ"
   },
   "outputs": [],
   "source": [
    "pip install opendatasets --upgrade --quiet"
   ]
  },
  {
   "cell_type": "code",
   "execution_count": 3,
   "metadata": {
    "colab": {
     "base_uri": "https://localhost:8080/"
    },
    "executionInfo": {
     "elapsed": 34429,
     "status": "ok",
     "timestamp": 1678507407065,
     "user": {
      "displayName": "Amit Dhande",
      "userId": "10537376303475725898"
     },
     "user_tz": -330
    },
    "id": "VDQUWwhL8MRg",
    "outputId": "b7226212-19a9-4c5f-9ded-000ace1fbf85"
   },
   "outputs": [
    {
     "name": "stdout",
     "output_type": "stream",
     "text": [
      "Please provide your Kaggle credentials to download this dataset. Learn more: http://bit.ly/kaggle-creds\n",
      "Your Kaggle username: amit1dhande\n",
      "Your Kaggle Key: ··········\n",
      "Downloading us-accidents.zip to ./us-accidents\n"
     ]
    },
    {
     "name": "stderr",
     "output_type": "stream",
     "text": [
      "100%|██████████| 269M/269M [00:02<00:00, 116MB/s]\n"
     ]
    },
    {
     "name": "stdout",
     "output_type": "stream",
     "text": [
      "\n"
     ]
    }
   ],
   "source": [
    "import opendatasets as od\n",
    "dataset_url = 'https://www.kaggle.com/datasets/sobhanmoosavi/us-accidents'\n",
    "od.download(dataset_url)"
   ]
  },
  {
   "cell_type": "code",
   "execution_count": 4,
   "metadata": {
    "executionInfo": {
     "elapsed": 20,
     "status": "ok",
     "timestamp": 1678507407066,
     "user": {
      "displayName": "Amit Dhande",
      "userId": "10537376303475725898"
     },
     "user_tz": -330
    },
    "id": "vFrIRq1w_Dn9"
   },
   "outputs": [],
   "source": [
    "data_filename = \"./us-accidents/US_Accidents_Dec21_updated.csv\""
   ]
  },
  {
   "cell_type": "markdown",
   "metadata": {
    "id": "Xjvpkwe55xel"
   },
   "source": [
    "## Data Prepration And Cleaning¶\n",
    "*   Load the files using Pandas.\n",
    "*   Looks at some information about the data and columns.\n",
    "*   Fix any missing and incorrect value.\n",
    "\n",
    "\n"
   ]
  },
  {
   "cell_type": "code",
   "execution_count": 5,
   "metadata": {
    "executionInfo": {
     "elapsed": 19,
     "status": "ok",
     "timestamp": 1678507407067,
     "user": {
      "displayName": "Amit Dhande",
      "userId": "10537376303475725898"
     },
     "user_tz": -330
    },
    "id": "q1fW08_p_n2x"
   },
   "outputs": [],
   "source": [
    "import pandas as pd\n"
   ]
  },
  {
   "cell_type": "code",
   "execution_count": 6,
   "metadata": {
    "executionInfo": {
     "elapsed": 46768,
     "status": "ok",
     "timestamp": 1678507453817,
     "user": {
      "displayName": "Amit Dhande",
      "userId": "10537376303475725898"
     },
     "user_tz": -330
    },
    "id": "hKlXrWT75eYo"
   },
   "outputs": [],
   "source": [
    "df = pd.read_csv(data_filename)"
   ]
  },
  {
   "cell_type": "code",
   "execution_count": 7,
   "metadata": {
    "colab": {
     "base_uri": "https://localhost:8080/",
     "height": 939
    },
    "executionInfo": {
     "elapsed": 1856,
     "status": "ok",
     "timestamp": 1678507455651,
     "user": {
      "displayName": "Amit Dhande",
      "userId": "10537376303475725898"
     },
     "user_tz": -330
    },
    "id": "aegkBXzq5ea1",
    "outputId": "b9dd20e8-c236-4de6-aed7-dd8a3f7476f5"
   },
   "outputs": [
    {
     "data": {
      "text/html": [
       "\n",
       "  <div id=\"df-3b53da45-04e2-4c12-8b35-5a98b19a2d86\">\n",
       "    <div class=\"colab-df-container\">\n",
       "      <div>\n",
       "<style scoped>\n",
       "    .dataframe tbody tr th:only-of-type {\n",
       "        vertical-align: middle;\n",
       "    }\n",
       "\n",
       "    .dataframe tbody tr th {\n",
       "        vertical-align: top;\n",
       "    }\n",
       "\n",
       "    .dataframe thead th {\n",
       "        text-align: right;\n",
       "    }\n",
       "</style>\n",
       "<table border=\"1\" class=\"dataframe\">\n",
       "  <thead>\n",
       "    <tr style=\"text-align: right;\">\n",
       "      <th></th>\n",
       "      <th>ID</th>\n",
       "      <th>Severity</th>\n",
       "      <th>Start_Time</th>\n",
       "      <th>End_Time</th>\n",
       "      <th>Start_Lat</th>\n",
       "      <th>Start_Lng</th>\n",
       "      <th>End_Lat</th>\n",
       "      <th>End_Lng</th>\n",
       "      <th>Distance(mi)</th>\n",
       "      <th>Description</th>\n",
       "      <th>...</th>\n",
       "      <th>Roundabout</th>\n",
       "      <th>Station</th>\n",
       "      <th>Stop</th>\n",
       "      <th>Traffic_Calming</th>\n",
       "      <th>Traffic_Signal</th>\n",
       "      <th>Turning_Loop</th>\n",
       "      <th>Sunrise_Sunset</th>\n",
       "      <th>Civil_Twilight</th>\n",
       "      <th>Nautical_Twilight</th>\n",
       "      <th>Astronomical_Twilight</th>\n",
       "    </tr>\n",
       "  </thead>\n",
       "  <tbody>\n",
       "    <tr>\n",
       "      <th>0</th>\n",
       "      <td>A-1</td>\n",
       "      <td>3</td>\n",
       "      <td>2016-02-08 00:37:08</td>\n",
       "      <td>2016-02-08 06:37:08</td>\n",
       "      <td>40.108910</td>\n",
       "      <td>-83.092860</td>\n",
       "      <td>40.112060</td>\n",
       "      <td>-83.031870</td>\n",
       "      <td>3.230</td>\n",
       "      <td>Between Sawmill Rd/Exit 20 and OH-315/Olentang...</td>\n",
       "      <td>...</td>\n",
       "      <td>False</td>\n",
       "      <td>False</td>\n",
       "      <td>False</td>\n",
       "      <td>False</td>\n",
       "      <td>False</td>\n",
       "      <td>False</td>\n",
       "      <td>Night</td>\n",
       "      <td>Night</td>\n",
       "      <td>Night</td>\n",
       "      <td>Night</td>\n",
       "    </tr>\n",
       "    <tr>\n",
       "      <th>1</th>\n",
       "      <td>A-2</td>\n",
       "      <td>2</td>\n",
       "      <td>2016-02-08 05:56:20</td>\n",
       "      <td>2016-02-08 11:56:20</td>\n",
       "      <td>39.865420</td>\n",
       "      <td>-84.062800</td>\n",
       "      <td>39.865010</td>\n",
       "      <td>-84.048730</td>\n",
       "      <td>0.747</td>\n",
       "      <td>At OH-4/OH-235/Exit 41 - Accident.</td>\n",
       "      <td>...</td>\n",
       "      <td>False</td>\n",
       "      <td>False</td>\n",
       "      <td>False</td>\n",
       "      <td>False</td>\n",
       "      <td>False</td>\n",
       "      <td>False</td>\n",
       "      <td>Night</td>\n",
       "      <td>Night</td>\n",
       "      <td>Night</td>\n",
       "      <td>Night</td>\n",
       "    </tr>\n",
       "    <tr>\n",
       "      <th>2</th>\n",
       "      <td>A-3</td>\n",
       "      <td>2</td>\n",
       "      <td>2016-02-08 06:15:39</td>\n",
       "      <td>2016-02-08 12:15:39</td>\n",
       "      <td>39.102660</td>\n",
       "      <td>-84.524680</td>\n",
       "      <td>39.102090</td>\n",
       "      <td>-84.523960</td>\n",
       "      <td>0.055</td>\n",
       "      <td>At I-71/US-50/Exit 1 - Accident.</td>\n",
       "      <td>...</td>\n",
       "      <td>False</td>\n",
       "      <td>False</td>\n",
       "      <td>False</td>\n",
       "      <td>False</td>\n",
       "      <td>False</td>\n",
       "      <td>False</td>\n",
       "      <td>Night</td>\n",
       "      <td>Night</td>\n",
       "      <td>Night</td>\n",
       "      <td>Day</td>\n",
       "    </tr>\n",
       "    <tr>\n",
       "      <th>3</th>\n",
       "      <td>A-4</td>\n",
       "      <td>2</td>\n",
       "      <td>2016-02-08 06:51:45</td>\n",
       "      <td>2016-02-08 12:51:45</td>\n",
       "      <td>41.062130</td>\n",
       "      <td>-81.537840</td>\n",
       "      <td>41.062170</td>\n",
       "      <td>-81.535470</td>\n",
       "      <td>0.123</td>\n",
       "      <td>At Dart Ave/Exit 21 - Accident.</td>\n",
       "      <td>...</td>\n",
       "      <td>False</td>\n",
       "      <td>False</td>\n",
       "      <td>False</td>\n",
       "      <td>False</td>\n",
       "      <td>False</td>\n",
       "      <td>False</td>\n",
       "      <td>Night</td>\n",
       "      <td>Night</td>\n",
       "      <td>Day</td>\n",
       "      <td>Day</td>\n",
       "    </tr>\n",
       "    <tr>\n",
       "      <th>4</th>\n",
       "      <td>A-5</td>\n",
       "      <td>3</td>\n",
       "      <td>2016-02-08 07:53:43</td>\n",
       "      <td>2016-02-08 13:53:43</td>\n",
       "      <td>39.172393</td>\n",
       "      <td>-84.492792</td>\n",
       "      <td>39.170476</td>\n",
       "      <td>-84.501798</td>\n",
       "      <td>0.500</td>\n",
       "      <td>At Mitchell Ave/Exit 6 - Accident.</td>\n",
       "      <td>...</td>\n",
       "      <td>False</td>\n",
       "      <td>False</td>\n",
       "      <td>False</td>\n",
       "      <td>False</td>\n",
       "      <td>False</td>\n",
       "      <td>False</td>\n",
       "      <td>Day</td>\n",
       "      <td>Day</td>\n",
       "      <td>Day</td>\n",
       "      <td>Day</td>\n",
       "    </tr>\n",
       "    <tr>\n",
       "      <th>...</th>\n",
       "      <td>...</td>\n",
       "      <td>...</td>\n",
       "      <td>...</td>\n",
       "      <td>...</td>\n",
       "      <td>...</td>\n",
       "      <td>...</td>\n",
       "      <td>...</td>\n",
       "      <td>...</td>\n",
       "      <td>...</td>\n",
       "      <td>...</td>\n",
       "      <td>...</td>\n",
       "      <td>...</td>\n",
       "      <td>...</td>\n",
       "      <td>...</td>\n",
       "      <td>...</td>\n",
       "      <td>...</td>\n",
       "      <td>...</td>\n",
       "      <td>...</td>\n",
       "      <td>...</td>\n",
       "      <td>...</td>\n",
       "      <td>...</td>\n",
       "    </tr>\n",
       "    <tr>\n",
       "      <th>2845337</th>\n",
       "      <td>A-2845338</td>\n",
       "      <td>2</td>\n",
       "      <td>2019-08-23 18:03:25</td>\n",
       "      <td>2019-08-23 18:32:01</td>\n",
       "      <td>34.002480</td>\n",
       "      <td>-117.379360</td>\n",
       "      <td>33.998880</td>\n",
       "      <td>-117.370940</td>\n",
       "      <td>0.543</td>\n",
       "      <td>At Market St - Accident.</td>\n",
       "      <td>...</td>\n",
       "      <td>False</td>\n",
       "      <td>False</td>\n",
       "      <td>False</td>\n",
       "      <td>False</td>\n",
       "      <td>False</td>\n",
       "      <td>False</td>\n",
       "      <td>Day</td>\n",
       "      <td>Day</td>\n",
       "      <td>Day</td>\n",
       "      <td>Day</td>\n",
       "    </tr>\n",
       "    <tr>\n",
       "      <th>2845338</th>\n",
       "      <td>A-2845339</td>\n",
       "      <td>2</td>\n",
       "      <td>2019-08-23 19:11:30</td>\n",
       "      <td>2019-08-23 19:38:23</td>\n",
       "      <td>32.766960</td>\n",
       "      <td>-117.148060</td>\n",
       "      <td>32.765550</td>\n",
       "      <td>-117.153630</td>\n",
       "      <td>0.338</td>\n",
       "      <td>At Camino Del Rio/Mission Center Rd - Accident.</td>\n",
       "      <td>...</td>\n",
       "      <td>False</td>\n",
       "      <td>False</td>\n",
       "      <td>False</td>\n",
       "      <td>False</td>\n",
       "      <td>False</td>\n",
       "      <td>False</td>\n",
       "      <td>Day</td>\n",
       "      <td>Day</td>\n",
       "      <td>Day</td>\n",
       "      <td>Day</td>\n",
       "    </tr>\n",
       "    <tr>\n",
       "      <th>2845339</th>\n",
       "      <td>A-2845340</td>\n",
       "      <td>2</td>\n",
       "      <td>2019-08-23 19:00:21</td>\n",
       "      <td>2019-08-23 19:28:49</td>\n",
       "      <td>33.775450</td>\n",
       "      <td>-117.847790</td>\n",
       "      <td>33.777400</td>\n",
       "      <td>-117.857270</td>\n",
       "      <td>0.561</td>\n",
       "      <td>At Glassell St/Grand Ave - Accident. in the ri...</td>\n",
       "      <td>...</td>\n",
       "      <td>False</td>\n",
       "      <td>False</td>\n",
       "      <td>False</td>\n",
       "      <td>False</td>\n",
       "      <td>False</td>\n",
       "      <td>False</td>\n",
       "      <td>Day</td>\n",
       "      <td>Day</td>\n",
       "      <td>Day</td>\n",
       "      <td>Day</td>\n",
       "    </tr>\n",
       "    <tr>\n",
       "      <th>2845340</th>\n",
       "      <td>A-2845341</td>\n",
       "      <td>2</td>\n",
       "      <td>2019-08-23 19:00:21</td>\n",
       "      <td>2019-08-23 19:29:42</td>\n",
       "      <td>33.992460</td>\n",
       "      <td>-118.403020</td>\n",
       "      <td>33.983110</td>\n",
       "      <td>-118.395650</td>\n",
       "      <td>0.772</td>\n",
       "      <td>At CA-90/Marina Fwy/Jefferson Blvd - Accident.</td>\n",
       "      <td>...</td>\n",
       "      <td>False</td>\n",
       "      <td>False</td>\n",
       "      <td>False</td>\n",
       "      <td>False</td>\n",
       "      <td>False</td>\n",
       "      <td>False</td>\n",
       "      <td>Day</td>\n",
       "      <td>Day</td>\n",
       "      <td>Day</td>\n",
       "      <td>Day</td>\n",
       "    </tr>\n",
       "    <tr>\n",
       "      <th>2845341</th>\n",
       "      <td>A-2845342</td>\n",
       "      <td>2</td>\n",
       "      <td>2019-08-23 18:52:06</td>\n",
       "      <td>2019-08-23 19:21:31</td>\n",
       "      <td>34.133930</td>\n",
       "      <td>-117.230920</td>\n",
       "      <td>34.137360</td>\n",
       "      <td>-117.239340</td>\n",
       "      <td>0.537</td>\n",
       "      <td>At Highland Ave/Arden Ave - Accident.</td>\n",
       "      <td>...</td>\n",
       "      <td>False</td>\n",
       "      <td>False</td>\n",
       "      <td>False</td>\n",
       "      <td>False</td>\n",
       "      <td>False</td>\n",
       "      <td>False</td>\n",
       "      <td>Day</td>\n",
       "      <td>Day</td>\n",
       "      <td>Day</td>\n",
       "      <td>Day</td>\n",
       "    </tr>\n",
       "  </tbody>\n",
       "</table>\n",
       "<p>2845342 rows × 47 columns</p>\n",
       "</div>\n",
       "      <button class=\"colab-df-convert\" onclick=\"convertToInteractive('df-3b53da45-04e2-4c12-8b35-5a98b19a2d86')\"\n",
       "              title=\"Convert this dataframe to an interactive table.\"\n",
       "              style=\"display:none;\">\n",
       "        \n",
       "  <svg xmlns=\"http://www.w3.org/2000/svg\" height=\"24px\"viewBox=\"0 0 24 24\"\n",
       "       width=\"24px\">\n",
       "    <path d=\"M0 0h24v24H0V0z\" fill=\"none\"/>\n",
       "    <path d=\"M18.56 5.44l.94 2.06.94-2.06 2.06-.94-2.06-.94-.94-2.06-.94 2.06-2.06.94zm-11 1L8.5 8.5l.94-2.06 2.06-.94-2.06-.94L8.5 2.5l-.94 2.06-2.06.94zm10 10l.94 2.06.94-2.06 2.06-.94-2.06-.94-.94-2.06-.94 2.06-2.06.94z\"/><path d=\"M17.41 7.96l-1.37-1.37c-.4-.4-.92-.59-1.43-.59-.52 0-1.04.2-1.43.59L10.3 9.45l-7.72 7.72c-.78.78-.78 2.05 0 2.83L4 21.41c.39.39.9.59 1.41.59.51 0 1.02-.2 1.41-.59l7.78-7.78 2.81-2.81c.8-.78.8-2.07 0-2.86zM5.41 20L4 18.59l7.72-7.72 1.47 1.35L5.41 20z\"/>\n",
       "  </svg>\n",
       "      </button>\n",
       "      \n",
       "  <style>\n",
       "    .colab-df-container {\n",
       "      display:flex;\n",
       "      flex-wrap:wrap;\n",
       "      gap: 12px;\n",
       "    }\n",
       "\n",
       "    .colab-df-convert {\n",
       "      background-color: #E8F0FE;\n",
       "      border: none;\n",
       "      border-radius: 50%;\n",
       "      cursor: pointer;\n",
       "      display: none;\n",
       "      fill: #1967D2;\n",
       "      height: 32px;\n",
       "      padding: 0 0 0 0;\n",
       "      width: 32px;\n",
       "    }\n",
       "\n",
       "    .colab-df-convert:hover {\n",
       "      background-color: #E2EBFA;\n",
       "      box-shadow: 0px 1px 2px rgba(60, 64, 67, 0.3), 0px 1px 3px 1px rgba(60, 64, 67, 0.15);\n",
       "      fill: #174EA6;\n",
       "    }\n",
       "\n",
       "    [theme=dark] .colab-df-convert {\n",
       "      background-color: #3B4455;\n",
       "      fill: #D2E3FC;\n",
       "    }\n",
       "\n",
       "    [theme=dark] .colab-df-convert:hover {\n",
       "      background-color: #434B5C;\n",
       "      box-shadow: 0px 1px 3px 1px rgba(0, 0, 0, 0.15);\n",
       "      filter: drop-shadow(0px 1px 2px rgba(0, 0, 0, 0.3));\n",
       "      fill: #FFFFFF;\n",
       "    }\n",
       "  </style>\n",
       "\n",
       "      <script>\n",
       "        const buttonEl =\n",
       "          document.querySelector('#df-3b53da45-04e2-4c12-8b35-5a98b19a2d86 button.colab-df-convert');\n",
       "        buttonEl.style.display =\n",
       "          google.colab.kernel.accessAllowed ? 'block' : 'none';\n",
       "\n",
       "        async function convertToInteractive(key) {\n",
       "          const element = document.querySelector('#df-3b53da45-04e2-4c12-8b35-5a98b19a2d86');\n",
       "          const dataTable =\n",
       "            await google.colab.kernel.invokeFunction('convertToInteractive',\n",
       "                                                     [key], {});\n",
       "          if (!dataTable) return;\n",
       "\n",
       "          const docLinkHtml = 'Like what you see? Visit the ' +\n",
       "            '<a target=\"_blank\" href=https://colab.research.google.com/notebooks/data_table.ipynb>data table notebook</a>'\n",
       "            + ' to learn more about interactive tables.';\n",
       "          element.innerHTML = '';\n",
       "          dataTable['output_type'] = 'display_data';\n",
       "          await google.colab.output.renderOutput(dataTable, element);\n",
       "          const docLink = document.createElement('div');\n",
       "          docLink.innerHTML = docLinkHtml;\n",
       "          element.appendChild(docLink);\n",
       "        }\n",
       "      </script>\n",
       "    </div>\n",
       "  </div>\n",
       "  "
      ],
      "text/plain": [
       "                ID  Severity           Start_Time             End_Time  \\\n",
       "0              A-1         3  2016-02-08 00:37:08  2016-02-08 06:37:08   \n",
       "1              A-2         2  2016-02-08 05:56:20  2016-02-08 11:56:20   \n",
       "2              A-3         2  2016-02-08 06:15:39  2016-02-08 12:15:39   \n",
       "3              A-4         2  2016-02-08 06:51:45  2016-02-08 12:51:45   \n",
       "4              A-5         3  2016-02-08 07:53:43  2016-02-08 13:53:43   \n",
       "...            ...       ...                  ...                  ...   \n",
       "2845337  A-2845338         2  2019-08-23 18:03:25  2019-08-23 18:32:01   \n",
       "2845338  A-2845339         2  2019-08-23 19:11:30  2019-08-23 19:38:23   \n",
       "2845339  A-2845340         2  2019-08-23 19:00:21  2019-08-23 19:28:49   \n",
       "2845340  A-2845341         2  2019-08-23 19:00:21  2019-08-23 19:29:42   \n",
       "2845341  A-2845342         2  2019-08-23 18:52:06  2019-08-23 19:21:31   \n",
       "\n",
       "         Start_Lat   Start_Lng    End_Lat     End_Lng  Distance(mi)  \\\n",
       "0        40.108910  -83.092860  40.112060  -83.031870         3.230   \n",
       "1        39.865420  -84.062800  39.865010  -84.048730         0.747   \n",
       "2        39.102660  -84.524680  39.102090  -84.523960         0.055   \n",
       "3        41.062130  -81.537840  41.062170  -81.535470         0.123   \n",
       "4        39.172393  -84.492792  39.170476  -84.501798         0.500   \n",
       "...            ...         ...        ...         ...           ...   \n",
       "2845337  34.002480 -117.379360  33.998880 -117.370940         0.543   \n",
       "2845338  32.766960 -117.148060  32.765550 -117.153630         0.338   \n",
       "2845339  33.775450 -117.847790  33.777400 -117.857270         0.561   \n",
       "2845340  33.992460 -118.403020  33.983110 -118.395650         0.772   \n",
       "2845341  34.133930 -117.230920  34.137360 -117.239340         0.537   \n",
       "\n",
       "                                               Description  ...  Roundabout  \\\n",
       "0        Between Sawmill Rd/Exit 20 and OH-315/Olentang...  ...       False   \n",
       "1                       At OH-4/OH-235/Exit 41 - Accident.  ...       False   \n",
       "2                         At I-71/US-50/Exit 1 - Accident.  ...       False   \n",
       "3                          At Dart Ave/Exit 21 - Accident.  ...       False   \n",
       "4                       At Mitchell Ave/Exit 6 - Accident.  ...       False   \n",
       "...                                                    ...  ...         ...   \n",
       "2845337                           At Market St - Accident.  ...       False   \n",
       "2845338    At Camino Del Rio/Mission Center Rd - Accident.  ...       False   \n",
       "2845339  At Glassell St/Grand Ave - Accident. in the ri...  ...       False   \n",
       "2845340     At CA-90/Marina Fwy/Jefferson Blvd - Accident.  ...       False   \n",
       "2845341              At Highland Ave/Arden Ave - Accident.  ...       False   \n",
       "\n",
       "        Station   Stop Traffic_Calming Traffic_Signal Turning_Loop  \\\n",
       "0         False  False           False          False        False   \n",
       "1         False  False           False          False        False   \n",
       "2         False  False           False          False        False   \n",
       "3         False  False           False          False        False   \n",
       "4         False  False           False          False        False   \n",
       "...         ...    ...             ...            ...          ...   \n",
       "2845337   False  False           False          False        False   \n",
       "2845338   False  False           False          False        False   \n",
       "2845339   False  False           False          False        False   \n",
       "2845340   False  False           False          False        False   \n",
       "2845341   False  False           False          False        False   \n",
       "\n",
       "        Sunrise_Sunset Civil_Twilight Nautical_Twilight Astronomical_Twilight  \n",
       "0                Night          Night             Night                 Night  \n",
       "1                Night          Night             Night                 Night  \n",
       "2                Night          Night             Night                   Day  \n",
       "3                Night          Night               Day                   Day  \n",
       "4                  Day            Day               Day                   Day  \n",
       "...                ...            ...               ...                   ...  \n",
       "2845337            Day            Day               Day                   Day  \n",
       "2845338            Day            Day               Day                   Day  \n",
       "2845339            Day            Day               Day                   Day  \n",
       "2845340            Day            Day               Day                   Day  \n",
       "2845341            Day            Day               Day                   Day  \n",
       "\n",
       "[2845342 rows x 47 columns]"
      ]
     },
     "execution_count": 7,
     "metadata": {},
     "output_type": "execute_result"
    }
   ],
   "source": [
    "df"
   ]
  },
  {
   "cell_type": "code",
   "execution_count": 8,
   "metadata": {
    "colab": {
     "base_uri": "https://localhost:8080/"
    },
    "executionInfo": {
     "elapsed": 17,
     "status": "ok",
     "timestamp": 1678507455652,
     "user": {
      "displayName": "Amit Dhande",
      "userId": "10537376303475725898"
     },
     "user_tz": -330
    },
    "id": "F6LdIMu35ehN",
    "outputId": "9bf3d144-ac26-4f67-f4da-1a9d85bd74e4"
   },
   "outputs": [
    {
     "data": {
      "text/plain": [
       "Index(['ID', 'Severity', 'Start_Time', 'End_Time', 'Start_Lat', 'Start_Lng',\n",
       "       'End_Lat', 'End_Lng', 'Distance(mi)', 'Description', 'Number', 'Street',\n",
       "       'Side', 'City', 'County', 'State', 'Zipcode', 'Country', 'Timezone',\n",
       "       'Airport_Code', 'Weather_Timestamp', 'Temperature(F)', 'Wind_Chill(F)',\n",
       "       'Humidity(%)', 'Pressure(in)', 'Visibility(mi)', 'Wind_Direction',\n",
       "       'Wind_Speed(mph)', 'Precipitation(in)', 'Weather_Condition', 'Amenity',\n",
       "       'Bump', 'Crossing', 'Give_Way', 'Junction', 'No_Exit', 'Railway',\n",
       "       'Roundabout', 'Station', 'Stop', 'Traffic_Calming', 'Traffic_Signal',\n",
       "       'Turning_Loop', 'Sunrise_Sunset', 'Civil_Twilight', 'Nautical_Twilight',\n",
       "       'Astronomical_Twilight'],\n",
       "      dtype='object')"
      ]
     },
     "execution_count": 8,
     "metadata": {},
     "output_type": "execute_result"
    }
   ],
   "source": [
    "df.columns"
   ]
  },
  {
   "cell_type": "code",
   "execution_count": 9,
   "metadata": {
    "colab": {
     "base_uri": "https://localhost:8080/"
    },
    "executionInfo": {
     "elapsed": 12,
     "status": "ok",
     "timestamp": 1678507455653,
     "user": {
      "displayName": "Amit Dhande",
      "userId": "10537376303475725898"
     },
     "user_tz": -330
    },
    "id": "lPXAd5ozw8vp",
    "outputId": "ed8e2beb-7904-421a-ff57-91aaa800233c"
   },
   "outputs": [
    {
     "name": "stdout",
     "output_type": "stream",
     "text": [
      "<class 'pandas.core.frame.DataFrame'>\n",
      "RangeIndex: 2845342 entries, 0 to 2845341\n",
      "Data columns (total 47 columns):\n",
      " #   Column                 Dtype  \n",
      "---  ------                 -----  \n",
      " 0   ID                     object \n",
      " 1   Severity               int64  \n",
      " 2   Start_Time             object \n",
      " 3   End_Time               object \n",
      " 4   Start_Lat              float64\n",
      " 5   Start_Lng              float64\n",
      " 6   End_Lat                float64\n",
      " 7   End_Lng                float64\n",
      " 8   Distance(mi)           float64\n",
      " 9   Description            object \n",
      " 10  Number                 float64\n",
      " 11  Street                 object \n",
      " 12  Side                   object \n",
      " 13  City                   object \n",
      " 14  County                 object \n",
      " 15  State                  object \n",
      " 16  Zipcode                object \n",
      " 17  Country                object \n",
      " 18  Timezone               object \n",
      " 19  Airport_Code           object \n",
      " 20  Weather_Timestamp      object \n",
      " 21  Temperature(F)         float64\n",
      " 22  Wind_Chill(F)          float64\n",
      " 23  Humidity(%)            float64\n",
      " 24  Pressure(in)           float64\n",
      " 25  Visibility(mi)         float64\n",
      " 26  Wind_Direction         object \n",
      " 27  Wind_Speed(mph)        float64\n",
      " 28  Precipitation(in)      float64\n",
      " 29  Weather_Condition      object \n",
      " 30  Amenity                bool   \n",
      " 31  Bump                   bool   \n",
      " 32  Crossing               bool   \n",
      " 33  Give_Way               bool   \n",
      " 34  Junction               bool   \n",
      " 35  No_Exit                bool   \n",
      " 36  Railway                bool   \n",
      " 37  Roundabout             bool   \n",
      " 38  Station                bool   \n",
      " 39  Stop                   bool   \n",
      " 40  Traffic_Calming        bool   \n",
      " 41  Traffic_Signal         bool   \n",
      " 42  Turning_Loop           bool   \n",
      " 43  Sunrise_Sunset         object \n",
      " 44  Civil_Twilight         object \n",
      " 45  Nautical_Twilight      object \n",
      " 46  Astronomical_Twilight  object \n",
      "dtypes: bool(13), float64(13), int64(1), object(20)\n",
      "memory usage: 773.4+ MB\n"
     ]
    }
   ],
   "source": [
    "df.info()"
   ]
  },
  {
   "cell_type": "code",
   "execution_count": 10,
   "metadata": {
    "colab": {
     "base_uri": "https://localhost:8080/",
     "height": 364
    },
    "executionInfo": {
     "elapsed": 2282,
     "status": "ok",
     "timestamp": 1678507457925,
     "user": {
      "displayName": "Amit Dhande",
      "userId": "10537376303475725898"
     },
     "user_tz": -330
    },
    "id": "4x9SfrH7wycI",
    "outputId": "cb328d80-2fb8-4b9c-8539-5bbe17f8c758"
   },
   "outputs": [
    {
     "data": {
      "text/html": [
       "\n",
       "  <div id=\"df-0f096e31-8b30-4c97-ab5f-095d1ca54513\">\n",
       "    <div class=\"colab-df-container\">\n",
       "      <div>\n",
       "<style scoped>\n",
       "    .dataframe tbody tr th:only-of-type {\n",
       "        vertical-align: middle;\n",
       "    }\n",
       "\n",
       "    .dataframe tbody tr th {\n",
       "        vertical-align: top;\n",
       "    }\n",
       "\n",
       "    .dataframe thead th {\n",
       "        text-align: right;\n",
       "    }\n",
       "</style>\n",
       "<table border=\"1\" class=\"dataframe\">\n",
       "  <thead>\n",
       "    <tr style=\"text-align: right;\">\n",
       "      <th></th>\n",
       "      <th>Severity</th>\n",
       "      <th>Start_Lat</th>\n",
       "      <th>Start_Lng</th>\n",
       "      <th>End_Lat</th>\n",
       "      <th>End_Lng</th>\n",
       "      <th>Distance(mi)</th>\n",
       "      <th>Number</th>\n",
       "      <th>Temperature(F)</th>\n",
       "      <th>Wind_Chill(F)</th>\n",
       "      <th>Humidity(%)</th>\n",
       "      <th>Pressure(in)</th>\n",
       "      <th>Visibility(mi)</th>\n",
       "      <th>Wind_Speed(mph)</th>\n",
       "      <th>Precipitation(in)</th>\n",
       "    </tr>\n",
       "  </thead>\n",
       "  <tbody>\n",
       "    <tr>\n",
       "      <th>count</th>\n",
       "      <td>2.845342e+06</td>\n",
       "      <td>2.845342e+06</td>\n",
       "      <td>2.845342e+06</td>\n",
       "      <td>2.845342e+06</td>\n",
       "      <td>2.845342e+06</td>\n",
       "      <td>2.845342e+06</td>\n",
       "      <td>1.101431e+06</td>\n",
       "      <td>2.776068e+06</td>\n",
       "      <td>2.375699e+06</td>\n",
       "      <td>2.772250e+06</td>\n",
       "      <td>2.786142e+06</td>\n",
       "      <td>2.774796e+06</td>\n",
       "      <td>2.687398e+06</td>\n",
       "      <td>2.295884e+06</td>\n",
       "    </tr>\n",
       "    <tr>\n",
       "      <th>mean</th>\n",
       "      <td>2.137572e+00</td>\n",
       "      <td>3.624520e+01</td>\n",
       "      <td>-9.711463e+01</td>\n",
       "      <td>3.624532e+01</td>\n",
       "      <td>-9.711439e+01</td>\n",
       "      <td>7.026779e-01</td>\n",
       "      <td>8.089408e+03</td>\n",
       "      <td>6.179356e+01</td>\n",
       "      <td>5.965823e+01</td>\n",
       "      <td>6.436545e+01</td>\n",
       "      <td>2.947234e+01</td>\n",
       "      <td>9.099391e+00</td>\n",
       "      <td>7.395044e+00</td>\n",
       "      <td>7.016940e-03</td>\n",
       "    </tr>\n",
       "    <tr>\n",
       "      <th>std</th>\n",
       "      <td>4.787216e-01</td>\n",
       "      <td>5.363797e+00</td>\n",
       "      <td>1.831782e+01</td>\n",
       "      <td>5.363873e+00</td>\n",
       "      <td>1.831763e+01</td>\n",
       "      <td>1.560361e+00</td>\n",
       "      <td>1.836009e+04</td>\n",
       "      <td>1.862263e+01</td>\n",
       "      <td>2.116097e+01</td>\n",
       "      <td>2.287457e+01</td>\n",
       "      <td>1.045286e+00</td>\n",
       "      <td>2.717546e+00</td>\n",
       "      <td>5.527454e+00</td>\n",
       "      <td>9.348831e-02</td>\n",
       "    </tr>\n",
       "    <tr>\n",
       "      <th>min</th>\n",
       "      <td>1.000000e+00</td>\n",
       "      <td>2.456603e+01</td>\n",
       "      <td>-1.245481e+02</td>\n",
       "      <td>2.456601e+01</td>\n",
       "      <td>-1.245457e+02</td>\n",
       "      <td>0.000000e+00</td>\n",
       "      <td>0.000000e+00</td>\n",
       "      <td>-8.900000e+01</td>\n",
       "      <td>-8.900000e+01</td>\n",
       "      <td>1.000000e+00</td>\n",
       "      <td>0.000000e+00</td>\n",
       "      <td>0.000000e+00</td>\n",
       "      <td>0.000000e+00</td>\n",
       "      <td>0.000000e+00</td>\n",
       "    </tr>\n",
       "    <tr>\n",
       "      <th>25%</th>\n",
       "      <td>2.000000e+00</td>\n",
       "      <td>3.344517e+01</td>\n",
       "      <td>-1.180331e+02</td>\n",
       "      <td>3.344628e+01</td>\n",
       "      <td>-1.180333e+02</td>\n",
       "      <td>5.200000e-02</td>\n",
       "      <td>1.270000e+03</td>\n",
       "      <td>5.000000e+01</td>\n",
       "      <td>4.600000e+01</td>\n",
       "      <td>4.800000e+01</td>\n",
       "      <td>2.931000e+01</td>\n",
       "      <td>1.000000e+01</td>\n",
       "      <td>3.500000e+00</td>\n",
       "      <td>0.000000e+00</td>\n",
       "    </tr>\n",
       "    <tr>\n",
       "      <th>50%</th>\n",
       "      <td>2.000000e+00</td>\n",
       "      <td>3.609861e+01</td>\n",
       "      <td>-9.241808e+01</td>\n",
       "      <td>3.609799e+01</td>\n",
       "      <td>-9.241772e+01</td>\n",
       "      <td>2.440000e-01</td>\n",
       "      <td>4.007000e+03</td>\n",
       "      <td>6.400000e+01</td>\n",
       "      <td>6.300000e+01</td>\n",
       "      <td>6.700000e+01</td>\n",
       "      <td>2.982000e+01</td>\n",
       "      <td>1.000000e+01</td>\n",
       "      <td>7.000000e+00</td>\n",
       "      <td>0.000000e+00</td>\n",
       "    </tr>\n",
       "    <tr>\n",
       "      <th>75%</th>\n",
       "      <td>2.000000e+00</td>\n",
       "      <td>4.016024e+01</td>\n",
       "      <td>-8.037243e+01</td>\n",
       "      <td>4.016105e+01</td>\n",
       "      <td>-8.037338e+01</td>\n",
       "      <td>7.640000e-01</td>\n",
       "      <td>9.567000e+03</td>\n",
       "      <td>7.600000e+01</td>\n",
       "      <td>7.600000e+01</td>\n",
       "      <td>8.300000e+01</td>\n",
       "      <td>3.001000e+01</td>\n",
       "      <td>1.000000e+01</td>\n",
       "      <td>1.000000e+01</td>\n",
       "      <td>0.000000e+00</td>\n",
       "    </tr>\n",
       "    <tr>\n",
       "      <th>max</th>\n",
       "      <td>4.000000e+00</td>\n",
       "      <td>4.900058e+01</td>\n",
       "      <td>-6.711317e+01</td>\n",
       "      <td>4.907500e+01</td>\n",
       "      <td>-6.710924e+01</td>\n",
       "      <td>1.551860e+02</td>\n",
       "      <td>9.999997e+06</td>\n",
       "      <td>1.960000e+02</td>\n",
       "      <td>1.960000e+02</td>\n",
       "      <td>1.000000e+02</td>\n",
       "      <td>5.890000e+01</td>\n",
       "      <td>1.400000e+02</td>\n",
       "      <td>1.087000e+03</td>\n",
       "      <td>2.400000e+01</td>\n",
       "    </tr>\n",
       "  </tbody>\n",
       "</table>\n",
       "</div>\n",
       "      <button class=\"colab-df-convert\" onclick=\"convertToInteractive('df-0f096e31-8b30-4c97-ab5f-095d1ca54513')\"\n",
       "              title=\"Convert this dataframe to an interactive table.\"\n",
       "              style=\"display:none;\">\n",
       "        \n",
       "  <svg xmlns=\"http://www.w3.org/2000/svg\" height=\"24px\"viewBox=\"0 0 24 24\"\n",
       "       width=\"24px\">\n",
       "    <path d=\"M0 0h24v24H0V0z\" fill=\"none\"/>\n",
       "    <path d=\"M18.56 5.44l.94 2.06.94-2.06 2.06-.94-2.06-.94-.94-2.06-.94 2.06-2.06.94zm-11 1L8.5 8.5l.94-2.06 2.06-.94-2.06-.94L8.5 2.5l-.94 2.06-2.06.94zm10 10l.94 2.06.94-2.06 2.06-.94-2.06-.94-.94-2.06-.94 2.06-2.06.94z\"/><path d=\"M17.41 7.96l-1.37-1.37c-.4-.4-.92-.59-1.43-.59-.52 0-1.04.2-1.43.59L10.3 9.45l-7.72 7.72c-.78.78-.78 2.05 0 2.83L4 21.41c.39.39.9.59 1.41.59.51 0 1.02-.2 1.41-.59l7.78-7.78 2.81-2.81c.8-.78.8-2.07 0-2.86zM5.41 20L4 18.59l7.72-7.72 1.47 1.35L5.41 20z\"/>\n",
       "  </svg>\n",
       "      </button>\n",
       "      \n",
       "  <style>\n",
       "    .colab-df-container {\n",
       "      display:flex;\n",
       "      flex-wrap:wrap;\n",
       "      gap: 12px;\n",
       "    }\n",
       "\n",
       "    .colab-df-convert {\n",
       "      background-color: #E8F0FE;\n",
       "      border: none;\n",
       "      border-radius: 50%;\n",
       "      cursor: pointer;\n",
       "      display: none;\n",
       "      fill: #1967D2;\n",
       "      height: 32px;\n",
       "      padding: 0 0 0 0;\n",
       "      width: 32px;\n",
       "    }\n",
       "\n",
       "    .colab-df-convert:hover {\n",
       "      background-color: #E2EBFA;\n",
       "      box-shadow: 0px 1px 2px rgba(60, 64, 67, 0.3), 0px 1px 3px 1px rgba(60, 64, 67, 0.15);\n",
       "      fill: #174EA6;\n",
       "    }\n",
       "\n",
       "    [theme=dark] .colab-df-convert {\n",
       "      background-color: #3B4455;\n",
       "      fill: #D2E3FC;\n",
       "    }\n",
       "\n",
       "    [theme=dark] .colab-df-convert:hover {\n",
       "      background-color: #434B5C;\n",
       "      box-shadow: 0px 1px 3px 1px rgba(0, 0, 0, 0.15);\n",
       "      filter: drop-shadow(0px 1px 2px rgba(0, 0, 0, 0.3));\n",
       "      fill: #FFFFFF;\n",
       "    }\n",
       "  </style>\n",
       "\n",
       "      <script>\n",
       "        const buttonEl =\n",
       "          document.querySelector('#df-0f096e31-8b30-4c97-ab5f-095d1ca54513 button.colab-df-convert');\n",
       "        buttonEl.style.display =\n",
       "          google.colab.kernel.accessAllowed ? 'block' : 'none';\n",
       "\n",
       "        async function convertToInteractive(key) {\n",
       "          const element = document.querySelector('#df-0f096e31-8b30-4c97-ab5f-095d1ca54513');\n",
       "          const dataTable =\n",
       "            await google.colab.kernel.invokeFunction('convertToInteractive',\n",
       "                                                     [key], {});\n",
       "          if (!dataTable) return;\n",
       "\n",
       "          const docLinkHtml = 'Like what you see? Visit the ' +\n",
       "            '<a target=\"_blank\" href=https://colab.research.google.com/notebooks/data_table.ipynb>data table notebook</a>'\n",
       "            + ' to learn more about interactive tables.';\n",
       "          element.innerHTML = '';\n",
       "          dataTable['output_type'] = 'display_data';\n",
       "          await google.colab.output.renderOutput(dataTable, element);\n",
       "          const docLink = document.createElement('div');\n",
       "          docLink.innerHTML = docLinkHtml;\n",
       "          element.appendChild(docLink);\n",
       "        }\n",
       "      </script>\n",
       "    </div>\n",
       "  </div>\n",
       "  "
      ],
      "text/plain": [
       "           Severity     Start_Lat     Start_Lng       End_Lat       End_Lng  \\\n",
       "count  2.845342e+06  2.845342e+06  2.845342e+06  2.845342e+06  2.845342e+06   \n",
       "mean   2.137572e+00  3.624520e+01 -9.711463e+01  3.624532e+01 -9.711439e+01   \n",
       "std    4.787216e-01  5.363797e+00  1.831782e+01  5.363873e+00  1.831763e+01   \n",
       "min    1.000000e+00  2.456603e+01 -1.245481e+02  2.456601e+01 -1.245457e+02   \n",
       "25%    2.000000e+00  3.344517e+01 -1.180331e+02  3.344628e+01 -1.180333e+02   \n",
       "50%    2.000000e+00  3.609861e+01 -9.241808e+01  3.609799e+01 -9.241772e+01   \n",
       "75%    2.000000e+00  4.016024e+01 -8.037243e+01  4.016105e+01 -8.037338e+01   \n",
       "max    4.000000e+00  4.900058e+01 -6.711317e+01  4.907500e+01 -6.710924e+01   \n",
       "\n",
       "       Distance(mi)        Number  Temperature(F)  Wind_Chill(F)  \\\n",
       "count  2.845342e+06  1.101431e+06    2.776068e+06   2.375699e+06   \n",
       "mean   7.026779e-01  8.089408e+03    6.179356e+01   5.965823e+01   \n",
       "std    1.560361e+00  1.836009e+04    1.862263e+01   2.116097e+01   \n",
       "min    0.000000e+00  0.000000e+00   -8.900000e+01  -8.900000e+01   \n",
       "25%    5.200000e-02  1.270000e+03    5.000000e+01   4.600000e+01   \n",
       "50%    2.440000e-01  4.007000e+03    6.400000e+01   6.300000e+01   \n",
       "75%    7.640000e-01  9.567000e+03    7.600000e+01   7.600000e+01   \n",
       "max    1.551860e+02  9.999997e+06    1.960000e+02   1.960000e+02   \n",
       "\n",
       "        Humidity(%)  Pressure(in)  Visibility(mi)  Wind_Speed(mph)  \\\n",
       "count  2.772250e+06  2.786142e+06    2.774796e+06     2.687398e+06   \n",
       "mean   6.436545e+01  2.947234e+01    9.099391e+00     7.395044e+00   \n",
       "std    2.287457e+01  1.045286e+00    2.717546e+00     5.527454e+00   \n",
       "min    1.000000e+00  0.000000e+00    0.000000e+00     0.000000e+00   \n",
       "25%    4.800000e+01  2.931000e+01    1.000000e+01     3.500000e+00   \n",
       "50%    6.700000e+01  2.982000e+01    1.000000e+01     7.000000e+00   \n",
       "75%    8.300000e+01  3.001000e+01    1.000000e+01     1.000000e+01   \n",
       "max    1.000000e+02  5.890000e+01    1.400000e+02     1.087000e+03   \n",
       "\n",
       "       Precipitation(in)  \n",
       "count       2.295884e+06  \n",
       "mean        7.016940e-03  \n",
       "std         9.348831e-02  \n",
       "min         0.000000e+00  \n",
       "25%         0.000000e+00  \n",
       "50%         0.000000e+00  \n",
       "75%         0.000000e+00  \n",
       "max         2.400000e+01  "
      ]
     },
     "execution_count": 10,
     "metadata": {},
     "output_type": "execute_result"
    }
   ],
   "source": [
    "df.describe()"
   ]
  },
  {
   "cell_type": "code",
   "execution_count": 11,
   "metadata": {
    "colab": {
     "base_uri": "https://localhost:8080/"
    },
    "executionInfo": {
     "elapsed": 15,
     "status": "ok",
     "timestamp": 1678507457926,
     "user": {
      "displayName": "Amit Dhande",
      "userId": "10537376303475725898"
     },
     "user_tz": -330
    },
    "id": "pMVye60_wyfo",
    "outputId": "521ece04-623f-4081-ec76-7fb05e06a719"
   },
   "outputs": [
    {
     "data": {
      "text/plain": [
       "14"
      ]
     },
     "execution_count": 11,
     "metadata": {},
     "output_type": "execute_result"
    }
   ],
   "source": [
    "numerics = ['int16', 'int32', 'int64', 'float16', 'float32', 'float64']\n",
    "\n",
    "numeric_df = df.select_dtypes(include=numerics)\n",
    "len(numeric_df.columns)"
   ]
  },
  {
   "cell_type": "markdown",
   "metadata": {
    "id": "uEJtayiazly1"
   },
   "source": [
    "Percentage of missing values per column"
   ]
  },
  {
   "cell_type": "code",
   "execution_count": 12,
   "metadata": {
    "colab": {
     "base_uri": "https://localhost:8080/"
    },
    "executionInfo": {
     "elapsed": 4059,
     "status": "ok",
     "timestamp": 1678507461977,
     "user": {
      "displayName": "Amit Dhande",
      "userId": "10537376303475725898"
     },
     "user_tz": -330
    },
    "id": "zlu_tEh6wyix",
    "outputId": "b381751e-3693-4e86-e355-c8ec5d41e4ec"
   },
   "outputs": [
    {
     "data": {
      "text/plain": [
       "Number                   6.129003e-01\n",
       "Precipitation(in)        1.931079e-01\n",
       "Wind_Chill(F)            1.650568e-01\n",
       "Wind_Speed(mph)          5.550967e-02\n",
       "Wind_Direction           2.592834e-02\n",
       "Humidity(%)              2.568830e-02\n",
       "Weather_Condition        2.482514e-02\n",
       "Visibility(mi)           2.479350e-02\n",
       "Temperature(F)           2.434646e-02\n",
       "Pressure(in)             2.080593e-02\n",
       "Weather_Timestamp        1.783125e-02\n",
       "Airport_Code             3.356011e-03\n",
       "Timezone                 1.285961e-03\n",
       "Nautical_Twilight        1.007612e-03\n",
       "Civil_Twilight           1.007612e-03\n",
       "Sunrise_Sunset           1.007612e-03\n",
       "Astronomical_Twilight    1.007612e-03\n",
       "Zipcode                  4.635647e-04\n",
       "City                     4.814887e-05\n",
       "Street                   7.029032e-07\n",
       "Country                  0.000000e+00\n",
       "Junction                 0.000000e+00\n",
       "Start_Time               0.000000e+00\n",
       "End_Time                 0.000000e+00\n",
       "Start_Lat                0.000000e+00\n",
       "Turning_Loop             0.000000e+00\n",
       "Traffic_Signal           0.000000e+00\n",
       "Traffic_Calming          0.000000e+00\n",
       "Stop                     0.000000e+00\n",
       "Station                  0.000000e+00\n",
       "Roundabout               0.000000e+00\n",
       "Railway                  0.000000e+00\n",
       "No_Exit                  0.000000e+00\n",
       "Crossing                 0.000000e+00\n",
       "Give_Way                 0.000000e+00\n",
       "Bump                     0.000000e+00\n",
       "Amenity                  0.000000e+00\n",
       "Start_Lng                0.000000e+00\n",
       "End_Lat                  0.000000e+00\n",
       "End_Lng                  0.000000e+00\n",
       "Distance(mi)             0.000000e+00\n",
       "Description              0.000000e+00\n",
       "Severity                 0.000000e+00\n",
       "Side                     0.000000e+00\n",
       "County                   0.000000e+00\n",
       "State                    0.000000e+00\n",
       "ID                       0.000000e+00\n",
       "dtype: float64"
      ]
     },
     "execution_count": 12,
     "metadata": {},
     "output_type": "execute_result"
    }
   ],
   "source": [
    "missing_percentage = df.isna().sum().sort_values(ascending=False)/len(df)\n",
    "missing_percentage"
   ]
  },
  {
   "cell_type": "code",
   "execution_count": 13,
   "metadata": {
    "colab": {
     "base_uri": "https://localhost:8080/",
     "height": 381
    },
    "executionInfo": {
     "elapsed": 1330,
     "status": "ok",
     "timestamp": 1678507463278,
     "user": {
      "displayName": "Amit Dhande",
      "userId": "10537376303475725898"
     },
     "user_tz": -330
    },
    "id": "a0cNBigE1_7i",
    "outputId": "73c016f4-1608-4d5f-8c9a-11c656444f75"
   },
   "outputs": [
    {
     "data": {
      "text/plain": [
       "<AxesSubplot:>"
      ]
     },
     "execution_count": 13,
     "metadata": {},
     "output_type": "execute_result"
    },
    {
     "data": {
      "image/png": "[encoded data removed]",
      "text/plain": [
       "<Figure size 432x288 with 1 Axes>"
      ]
     },
     "metadata": {
      "needs_background": "light"
     },
     "output_type": "display_data"
    }
   ],
   "source": [
    "missing_percentage.plot(kind=\"bar\")"
   ]
  },
  {
   "cell_type": "code",
   "execution_count": 14,
   "metadata": {
    "colab": {
     "base_uri": "https://localhost:8080/"
    },
    "executionInfo": {
     "elapsed": 26,
     "status": "ok",
     "timestamp": 1678507463279,
     "user": {
      "displayName": "Amit Dhande",
      "userId": "10537376303475725898"
     },
     "user_tz": -330
    },
    "id": "32CEtetnwyl0",
    "outputId": "3340ae39-4f69-43c5-a875-fd520ece3b27"
   },
   "outputs": [
    {
     "data": {
      "text/plain": [
       "pandas.core.series.Series"
      ]
     },
     "execution_count": 14,
     "metadata": {},
     "output_type": "execute_result"
    }
   ],
   "source": [
    "type(missing_percentage)"
   ]
  },
  {
   "cell_type": "code",
   "execution_count": 15,
   "metadata": {
    "colab": {
     "base_uri": "https://localhost:8080/",
     "height": 381
    },
    "executionInfo": {
     "elapsed": 20,
     "status": "ok",
     "timestamp": 1678507463280,
     "user": {
      "displayName": "Amit Dhande",
      "userId": "10537376303475725898"
     },
     "user_tz": -330
    },
    "id": "WkdbYvqy02yw",
    "outputId": "197c150c-25af-499f-c212-f3f026b7f17c"
   },
   "outputs": [
    {
     "data": {
      "text/plain": [
       "<AxesSubplot:>"
      ]
     },
     "execution_count": 15,
     "metadata": {},
     "output_type": "execute_result"
    },
    {
     "data": {
      "image/png": "[encoded data removed]",
      "text/plain": [
       "<Figure size 432x288 with 1 Axes>"
      ]
     },
     "metadata": {
      "needs_background": "light"
     },
     "output_type": "display_data"
    }
   ],
   "source": [
    "missing_percentage[missing_percentage!=0].plot(kind=\"bar\")"
   ]
  },
  {
   "cell_type": "markdown",
   "metadata": {
    "id": "Pl-gtdrX6bNN"
   },
   "source": [
    "Remove Columns that you dont want to use"
   ]
  },
  {
   "cell_type": "markdown",
   "metadata": {
    "id": "URcEGAqY6DHr"
   },
   "source": [
    "## Exploratory Analysis and Visualization\n",
    "\n",
    "Columns we'll analyze:\n",
    "1.   City\n",
    "2.   Start_Time, End_time\n",
    "3.   Start_Lat , End_Lat\n",
    "4.   State\n",
    "5.   Amenity\n",
    "4.   Weather_Condition\n",
    "\n",
    "\n",
    "\n",
    "\n",
    "\n"
   ]
  },
  {
   "cell_type": "code",
   "execution_count": 16,
   "metadata": {
    "colab": {
     "base_uri": "https://localhost:8080/"
    },
    "executionInfo": {
     "elapsed": 20,
     "status": "ok",
     "timestamp": 1678507463283,
     "user": {
      "displayName": "Amit Dhande",
      "userId": "10537376303475725898"
     },
     "user_tz": -330
    },
    "id": "TD2nnmeh6LFf",
    "outputId": "fc71f9be-fe54-4afa-9b29-80f48548abbf"
   },
   "outputs": [
    {
     "data": {
      "text/plain": [
       "Index(['ID', 'Severity', 'Start_Time', 'End_Time', 'Start_Lat', 'Start_Lng',\n",
       "       'End_Lat', 'End_Lng', 'Distance(mi)', 'Description', 'Number', 'Street',\n",
       "       'Side', 'City', 'County', 'State', 'Zipcode', 'Country', 'Timezone',\n",
       "       'Airport_Code', 'Weather_Timestamp', 'Temperature(F)', 'Wind_Chill(F)',\n",
       "       'Humidity(%)', 'Pressure(in)', 'Visibility(mi)', 'Wind_Direction',\n",
       "       'Wind_Speed(mph)', 'Precipitation(in)', 'Weather_Condition', 'Amenity',\n",
       "       'Bump', 'Crossing', 'Give_Way', 'Junction', 'No_Exit', 'Railway',\n",
       "       'Roundabout', 'Station', 'Stop', 'Traffic_Calming', 'Traffic_Signal',\n",
       "       'Turning_Loop', 'Sunrise_Sunset', 'Civil_Twilight', 'Nautical_Twilight',\n",
       "       'Astronomical_Twilight'],\n",
       "      dtype='object')"
      ]
     },
     "execution_count": 16,
     "metadata": {},
     "output_type": "execute_result"
    }
   ],
   "source": [
    "df.columns"
   ]
  },
  {
   "cell_type": "markdown",
   "metadata": {
    "id": "ntILPsqjRvv-"
   },
   "source": [
    "### City"
   ]
  },
  {
   "cell_type": "code",
   "execution_count": 17,
   "metadata": {
    "colab": {
     "base_uri": "https://localhost:8080/"
    },
    "executionInfo": {
     "elapsed": 61,
     "status": "ok",
     "timestamp": 1678507464105,
     "user": {
      "displayName": "Amit Dhande",
      "userId": "10537376303475725898"
     },
     "user_tz": -330
    },
    "id": "Vmd09KtB6LIl",
    "outputId": "4cd43e19-2d53-4743-86aa-b6d94ba86f5c"
   },
   "outputs": [
    {
     "data": {
      "text/plain": [
       "array(['Dublin', 'Dayton', 'Cincinnati', ..., 'Clarksdale', 'Bridgeboro',\n",
       "       'American Fork-Pleasant Grove'], dtype=object)"
      ]
     },
     "execution_count": 17,
     "metadata": {},
     "output_type": "execute_result"
    }
   ],
   "source": [
    "cities=df.City.unique()\n",
    "cities"
   ]
  },
  {
   "cell_type": "code",
   "execution_count": 18,
   "metadata": {
    "colab": {
     "base_uri": "https://localhost:8080/"
    },
    "executionInfo": {
     "elapsed": 57,
     "status": "ok",
     "timestamp": 1678507464107,
     "user": {
      "displayName": "Amit Dhande",
      "userId": "10537376303475725898"
     },
     "user_tz": -330
    },
    "id": "ct1NATSc6MQ1",
    "outputId": "a2b3cb50-a660-46ee-df81-90ec60ea5be7"
   },
   "outputs": [
    {
     "data": {
      "text/plain": [
       "Miami                           106966\n",
       "Los Angeles                      68956\n",
       "Orlando                          54691\n",
       "Dallas                           41979\n",
       "Houston                          39448\n",
       "                                 ...  \n",
       "Ridgedale                            1\n",
       "Sekiu                                1\n",
       "Wooldridge                           1\n",
       "Bullock                              1\n",
       "American Fork-Pleasant Grove         1\n",
       "Name: City, Length: 11681, dtype: int64"
      ]
     },
     "execution_count": 18,
     "metadata": {},
     "output_type": "execute_result"
    }
   ],
   "source": [
    "cities_by_accident = df.City.value_counts()\n",
    "cities_by_accident"
   ]
  },
  {
   "cell_type": "code",
   "execution_count": 19,
   "metadata": {
    "colab": {
     "base_uri": "https://localhost:8080/"
    },
    "executionInfo": {
     "elapsed": 52,
     "status": "ok",
     "timestamp": 1678507464109,
     "user": {
      "displayName": "Amit Dhande",
      "userId": "10537376303475725898"
     },
     "user_tz": -330
    },
    "id": "paN7oKIa6MTm",
    "outputId": "73d267cb-f554-434b-f06f-f831ad503264"
   },
   "outputs": [
    {
     "data": {
      "text/plain": [
       "Miami           106966\n",
       "Los Angeles      68956\n",
       "Orlando          54691\n",
       "Dallas           41979\n",
       "Houston          39448\n",
       "Charlotte        33152\n",
       "Sacramento       32559\n",
       "San Diego        26627\n",
       "Raleigh          22840\n",
       "Minneapolis      22768\n",
       "Portland         20944\n",
       "Nashville        20267\n",
       "Austin           18301\n",
       "Baton Rouge      18182\n",
       "Phoenix          17143\n",
       "Saint Paul       16869\n",
       "New Orleans      16251\n",
       "Atlanta          15622\n",
       "Jacksonville     14967\n",
       "Richmond         14349\n",
       "Name: City, dtype: int64"
      ]
     },
     "execution_count": 19,
     "metadata": {},
     "output_type": "execute_result"
    }
   ],
   "source": [
    "cities_by_accident.head(20)"
   ]
  },
  {
   "cell_type": "code",
   "execution_count": 20,
   "metadata": {
    "colab": {
     "base_uri": "https://localhost:8080/"
    },
    "executionInfo": {
     "elapsed": 47,
     "status": "ok",
     "timestamp": 1678507464111,
     "user": {
      "displayName": "Amit Dhande",
      "userId": "10537376303475725898"
     },
     "user_tz": -330
    },
    "id": "jK3Y84U5-pkZ",
    "outputId": "0161d628-f63f-4869-dde6-0ac97fcdc9bb"
   },
   "outputs": [
    {
     "data": {
      "text/plain": [
       "False"
      ]
     },
     "execution_count": 20,
     "metadata": {},
     "output_type": "execute_result"
    }
   ],
   "source": [
    "\"New York\" in df.City"
   ]
  },
  {
   "cell_type": "code",
   "execution_count": 21,
   "metadata": {
    "executionInfo": {
     "elapsed": 46,
     "status": "ok",
     "timestamp": 1678507464118,
     "user": {
      "displayName": "Amit Dhande",
      "userId": "10537376303475725898"
     },
     "user_tz": -330
    },
    "id": "FAGXZ4cTAfoE"
   },
   "outputs": [],
   "source": [
    "import matplotlib.pyplot as plt\n"
   ]
  },
  {
   "cell_type": "code",
   "execution_count": 22,
   "metadata": {
    "colab": {
     "base_uri": "https://localhost:8080/",
     "height": 391
    },
    "executionInfo": {
     "elapsed": 45,
     "status": "ok",
     "timestamp": 1678507464119,
     "user": {
      "displayName": "Amit Dhande",
      "userId": "10537376303475725898"
     },
     "user_tz": -330
    },
    "id": "PGYASO2H-pnI",
    "outputId": "cff2d730-6243-4494-db95-1c18f7b27939"
   },
   "outputs": [
    {
     "data": {
      "text/plain": [
       "<AxesSubplot:>"
      ]
     },
     "execution_count": 22,
     "metadata": {},
     "output_type": "execute_result"
    },
    {
     "data": {
      "image/png": "[encoded data removed]",
      "text/plain": [
       "<Figure size 720x360 with 1 Axes>"
      ]
     },
     "metadata": {
      "needs_background": "light"
     },
     "output_type": "display_data"
    }
   ],
   "source": [
    "plt.figure(figsize=(10,5))\n",
    "cities_by_accident.head(20).plot(kind=\"bar\")\n"
   ]
  },
  {
   "cell_type": "code",
   "execution_count": 23,
   "metadata": {
    "executionInfo": {
     "elapsed": 580,
     "status": "ok",
     "timestamp": 1678507464662,
     "user": {
      "displayName": "Amit Dhande",
      "userId": "10537376303475725898"
     },
     "user_tz": -330
    },
    "id": "xHGfmycrAPTY"
   },
   "outputs": [],
   "source": [
    "import seaborn as sns\n",
    "sns.set_style(\"darkgrid\")"
   ]
  },
  {
   "cell_type": "code",
   "execution_count": 24,
   "metadata": {
    "colab": {
     "base_uri": "https://localhost:8080/",
     "height": 572
    },
    "executionInfo": {
     "elapsed": 891,
     "status": "ok",
     "timestamp": 1678507465551,
     "user": {
      "displayName": "Amit Dhande",
      "userId": "10537376303475725898"
     },
     "user_tz": -330
    },
    "id": "CapaxwlyAKdX",
    "outputId": "5ae627ae-7399-4a5c-d303-bc26dbe75937"
   },
   "outputs": [
    {
     "name": "stderr",
     "output_type": "stream",
     "text": [
      "/usr/local/lib/python3.9/dist-packages/seaborn/distributions.py:2619: FutureWarning: `distplot` is a deprecated function and will be removed in a future version. Please adapt your code to use either `displot` (a figure-level function with similar flexibility) or `histplot` (an axes-level function for histograms).\n",
      "  warnings.warn(msg, FutureWarning)\n"
     ]
    },
    {
     "data": {
      "text/plain": [
       "<AxesSubplot:xlabel='City', ylabel='Density'>"
      ]
     },
     "execution_count": 24,
     "metadata": {},
     "output_type": "execute_result"
    },
    {
     "data": {
      "image/png": "[encoded data removed]",
      "text/plain": [
       "<Figure size 864x576 with 1 Axes>"
      ]
     },
     "metadata": {},
     "output_type": "display_data"
    }
   ],
   "source": [
    "plt.figure(figsize=(12,8))\n",
    "sns.distplot(cities_by_accident)"
   ]
  },
  {
   "cell_type": "code",
   "execution_count": 25,
   "metadata": {
    "executionInfo": {
     "elapsed": 25,
     "status": "ok",
     "timestamp": 1678507465552,
     "user": {
      "displayName": "Amit Dhande",
      "userId": "10537376303475725898"
     },
     "user_tz": -330
    },
    "id": "RqgNiVQoAKgy"
   },
   "outputs": [],
   "source": [
    "high_accident_cities = cities_by_accident[cities_by_accident>=1000]\n",
    "low_accident_cities = cities_by_accident[cities_by_accident<1000]"
   ]
  },
  {
   "cell_type": "code",
   "execution_count": 26,
   "metadata": {
    "colab": {
     "base_uri": "https://localhost:8080/"
    },
    "executionInfo": {
     "elapsed": 24,
     "status": "ok",
     "timestamp": 1678507465553,
     "user": {
      "displayName": "Amit Dhande",
      "userId": "10537376303475725898"
     },
     "user_tz": -330
    },
    "id": "RI86o3YANCcv",
    "outputId": "f7f2bb43-c271-4e96-d453-eef1a9b3de0c"
   },
   "outputs": [
    {
     "data": {
      "text/plain": [
       "0.04245848313644924"
      ]
     },
     "execution_count": 26,
     "metadata": {},
     "output_type": "execute_result"
    }
   ],
   "source": [
    "len(high_accident_cities)/len(cities)"
   ]
  },
  {
   "cell_type": "code",
   "execution_count": 27,
   "metadata": {
    "colab": {
     "base_uri": "https://localhost:8080/",
     "height": 354
    },
    "executionInfo": {
     "elapsed": 1073,
     "status": "ok",
     "timestamp": 1678507466611,
     "user": {
      "displayName": "Amit Dhande",
      "userId": "10537376303475725898"
     },
     "user_tz": -330
    },
    "id": "4qdAglZnMnnk",
    "outputId": "f5c3784e-1172-46a3-948c-c938368db7a0"
   },
   "outputs": [
    {
     "name": "stderr",
     "output_type": "stream",
     "text": [
      "/usr/local/lib/python3.9/dist-packages/seaborn/distributions.py:2619: FutureWarning: `distplot` is a deprecated function and will be removed in a future version. Please adapt your code to use either `displot` (a figure-level function with similar flexibility) or `histplot` (an axes-level function for histograms).\n",
      "  warnings.warn(msg, FutureWarning)\n"
     ]
    },
    {
     "data": {
      "text/plain": [
       "<AxesSubplot:xlabel='City', ylabel='Density'>"
      ]
     },
     "execution_count": 27,
     "metadata": {},
     "output_type": "execute_result"
    },
    {
     "data": {
      "image/png": "[encoded data removed]",
      "text/plain": [
       "<Figure size 432x288 with 1 Axes>"
      ]
     },
     "metadata": {},
     "output_type": "display_data"
    }
   ],
   "source": [
    "sns.distplot(high_accident_cities)"
   ]
  },
  {
   "cell_type": "code",
   "execution_count": 28,
   "metadata": {
    "colab": {
     "base_uri": "https://localhost:8080/",
     "height": 354
    },
    "executionInfo": {
     "elapsed": 29,
     "status": "ok",
     "timestamp": 1678507466612,
     "user": {
      "displayName": "Amit Dhande",
      "userId": "10537376303475725898"
     },
     "user_tz": -330
    },
    "id": "qmatReJyMnql",
    "outputId": "ae1e0e98-fec2-43d7-a350-4810a2cb9eae"
   },
   "outputs": [
    {
     "name": "stderr",
     "output_type": "stream",
     "text": [
      "/usr/local/lib/python3.9/dist-packages/seaborn/distributions.py:2619: FutureWarning: `distplot` is a deprecated function and will be removed in a future version. Please adapt your code to use either `displot` (a figure-level function with similar flexibility) or `histplot` (an axes-level function for histograms).\n",
      "  warnings.warn(msg, FutureWarning)\n"
     ]
    },
    {
     "data": {
      "text/plain": [
       "<AxesSubplot:xlabel='City', ylabel='Density'>"
      ]
     },
     "execution_count": 28,
     "metadata": {},
     "output_type": "execute_result"
    },
    {
     "data": {
      "image/png": "[encoded data removed]",
      "text/plain": [
       "<Figure size 432x288 with 1 Axes>"
      ]
     },
     "metadata": {},
     "output_type": "display_data"
    }
   ],
   "source": [
    "sns.distplot(low_accident_cities)"
   ]
  },
  {
   "cell_type": "code",
   "execution_count": 29,
   "metadata": {
    "colab": {
     "base_uri": "https://localhost:8080/",
     "height": 301
    },
    "executionInfo": {
     "elapsed": 1003,
     "status": "ok",
     "timestamp": 1678507467597,
     "user": {
      "displayName": "Amit Dhande",
      "userId": "10537376303475725898"
     },
     "user_tz": -330
    },
    "id": "Vjkes6kBNwh-",
    "outputId": "ec71bcc5-38cb-4c27-ba81-576aaaae74c3"
   },
   "outputs": [
    {
     "data": {
      "text/plain": [
       "<AxesSubplot:xlabel='City', ylabel='Count'>"
      ]
     },
     "execution_count": 29,
     "metadata": {},
     "output_type": "execute_result"
    },
    {
     "data": {
      "image/png": "[encoded data removed]",
      "text/plain": [
       "<Figure size 432x288 with 1 Axes>"
      ]
     },
     "metadata": {},
     "output_type": "display_data"
    }
   ],
   "source": [
    "sns.histplot(high_accident_cities, log_scale=True)"
   ]
  },
  {
   "cell_type": "code",
   "execution_count": 30,
   "metadata": {
    "colab": {
     "base_uri": "https://localhost:8080/",
     "height": 301
    },
    "executionInfo": {
     "elapsed": 496,
     "status": "ok",
     "timestamp": 1678507468082,
     "user": {
      "displayName": "Amit Dhande",
      "userId": "10537376303475725898"
     },
     "user_tz": -330
    },
    "id": "zvlMEb3vNwln",
    "outputId": "b1cc10a0-e08e-434c-810c-57439dce36bf"
   },
   "outputs": [
    {
     "data": {
      "text/plain": [
       "<AxesSubplot:xlabel='City', ylabel='Count'>"
      ]
     },
     "execution_count": 30,
     "metadata": {},
     "output_type": "execute_result"
    },
    {
     "data": {
      "image/png": "[encoded data removed]",
      "text/plain": [
       "<Figure size 432x288 with 1 Axes>"
      ]
     },
     "metadata": {},
     "output_type": "display_data"
    }
   ],
   "source": [
    "sns.histplot(low_accident_cities, log_scale=True)"
   ]
  },
  {
   "cell_type": "code",
   "execution_count": 31,
   "metadata": {
    "colab": {
     "base_uri": "https://localhost:8080/",
     "height": 301
    },
    "executionInfo": {
     "elapsed": 611,
     "status": "ok",
     "timestamp": 1678507468679,
     "user": {
      "displayName": "Amit Dhande",
      "userId": "10537376303475725898"
     },
     "user_tz": -330
    },
    "id": "ieke2PdOOcY5",
    "outputId": "6e59ac3b-8d00-4051-96a6-5444d83a0a82"
   },
   "outputs": [
    {
     "data": {
      "text/plain": [
       "<AxesSubplot:xlabel='City', ylabel='Count'>"
      ]
     },
     "execution_count": 31,
     "metadata": {},
     "output_type": "execute_result"
    },
    {
     "data": {
      "image/png": "[encoded data removed]",
      "text/plain": [
       "<Figure size 432x288 with 1 Axes>"
      ]
     },
     "metadata": {},
     "output_type": "display_data"
    }
   ],
   "source": [
    "sns.histplot(cities_by_accident, log_scale=True)"
   ]
  },
  {
   "cell_type": "code",
   "execution_count": 32,
   "metadata": {
    "colab": {
     "base_uri": "https://localhost:8080/"
    },
    "executionInfo": {
     "elapsed": 19,
     "status": "ok",
     "timestamp": 1678507468682,
     "user": {
      "displayName": "Amit Dhande",
      "userId": "10537376303475725898"
     },
     "user_tz": -330
    },
    "id": "0OvAPHitOcbz",
    "outputId": "5920ead3-a3a5-4e05-d866-4310d950c81c"
   },
   "outputs": [
    {
     "data": {
      "text/plain": [
       "Carney                          1\n",
       "Waverly Hall                    1\n",
       "Center Sandwich                 1\n",
       "Glen Flora                      1\n",
       "Sulphur Springs                 1\n",
       "                               ..\n",
       "Ridgedale                       1\n",
       "Sekiu                           1\n",
       "Wooldridge                      1\n",
       "Bullock                         1\n",
       "American Fork-Pleasant Grove    1\n",
       "Name: City, Length: 1110, dtype: int64"
      ]
     },
     "execution_count": 32,
     "metadata": {},
     "output_type": "execute_result"
    }
   ],
   "source": [
    "cities_by_accident[cities_by_accident==1]"
   ]
  },
  {
   "cell_type": "markdown",
   "metadata": {
    "id": "ASIJW4rKSB4D"
   },
   "source": [
    "### Start Time"
   ]
  },
  {
   "cell_type": "code",
   "execution_count": 33,
   "metadata": {
    "colab": {
     "base_uri": "https://localhost:8080/"
    },
    "executionInfo": {
     "elapsed": 15,
     "status": "ok",
     "timestamp": 1678507468683,
     "user": {
      "displayName": "Amit Dhande",
      "userId": "10537376303475725898"
     },
     "user_tz": -330
    },
    "id": "bQBLmGGZR-H8",
    "outputId": "1f8ecf24-1326-4319-bcf2-68c0b1c809f0"
   },
   "outputs": [
    {
     "data": {
      "text/plain": [
       "Index(['ID', 'Severity', 'Start_Time', 'End_Time', 'Start_Lat', 'Start_Lng',\n",
       "       'End_Lat', 'End_Lng', 'Distance(mi)', 'Description', 'Number', 'Street',\n",
       "       'Side', 'City', 'County', 'State', 'Zipcode', 'Country', 'Timezone',\n",
       "       'Airport_Code', 'Weather_Timestamp', 'Temperature(F)', 'Wind_Chill(F)',\n",
       "       'Humidity(%)', 'Pressure(in)', 'Visibility(mi)', 'Wind_Direction',\n",
       "       'Wind_Speed(mph)', 'Precipitation(in)', 'Weather_Condition', 'Amenity',\n",
       "       'Bump', 'Crossing', 'Give_Way', 'Junction', 'No_Exit', 'Railway',\n",
       "       'Roundabout', 'Station', 'Stop', 'Traffic_Calming', 'Traffic_Signal',\n",
       "       'Turning_Loop', 'Sunrise_Sunset', 'Civil_Twilight', 'Nautical_Twilight',\n",
       "       'Astronomical_Twilight'],\n",
       "      dtype='object')"
      ]
     },
     "execution_count": 33,
     "metadata": {},
     "output_type": "execute_result"
    }
   ],
   "source": [
    "df.columns"
   ]
  },
  {
   "cell_type": "code",
   "execution_count": 34,
   "metadata": {
    "colab": {
     "base_uri": "https://localhost:8080/"
    },
    "executionInfo": {
     "elapsed": 1837,
     "status": "ok",
     "timestamp": 1678507470510,
     "user": {
      "displayName": "Amit Dhande",
      "userId": "10537376303475725898"
     },
     "user_tz": -330
    },
    "id": "V64P8KYuR-LD",
    "outputId": "129e6a78-c164-4f44-86a0-c49ce65dc9e9"
   },
   "outputs": [
    {
     "data": {
      "text/plain": [
       "0         2016-02-08 00:37:08\n",
       "1         2016-02-08 05:56:20\n",
       "2         2016-02-08 06:15:39\n",
       "3         2016-02-08 06:51:45\n",
       "4         2016-02-08 07:53:43\n",
       "                  ...        \n",
       "2845337   2019-08-23 18:03:25\n",
       "2845338   2019-08-23 19:11:30\n",
       "2845339   2019-08-23 19:00:21\n",
       "2845340   2019-08-23 19:00:21\n",
       "2845341   2019-08-23 18:52:06\n",
       "Name: Start_Time, Length: 2845342, dtype: datetime64[ns]"
      ]
     },
     "execution_count": 34,
     "metadata": {},
     "output_type": "execute_result"
    }
   ],
   "source": [
    "df.Start_Time = pd.to_datetime(df.Start_Time)\n",
    "df.Start_Time"
   ]
  },
  {
   "cell_type": "code",
   "execution_count": 79,
   "metadata": {
    "colab": {
     "base_uri": "https://localhost:8080/",
     "height": 298
    },
    "executionInfo": {
     "elapsed": 2094,
     "status": "ok",
     "timestamp": 1678508158730,
     "user": {
      "displayName": "Amit Dhande",
      "userId": "10537376303475725898"
     },
     "user_tz": -330
    },
    "id": "HHgMtop2R-OH",
    "outputId": "7fe69b29-f1fe-459f-89e0-3ceaeb827669"
   },
   "outputs": [
    {
     "data": {
      "text/plain": [
       "<AxesSubplot:xlabel='Start_Time'>"
      ]
     },
     "execution_count": 79,
     "metadata": {},
     "output_type": "execute_result"
    },
    {
     "data": {
      "image/png": "[encoded data removed]",
      "text/plain": [
       "<Figure size 432x288 with 1 Axes>"
      ]
     },
     "metadata": {},
     "output_type": "display_data"
    }
   ],
   "source": [
    "sns.distplot(df.Start_Time.dt.hour,bins=24,kde=False ,norm_hist=True)"
   ]
  },
  {
   "cell_type": "markdown",
   "metadata": {
    "id": "hizb4EkdzSRb"
   },
   "source": [
    "- A hight percentage of accident happend between 6AM to 10 AM , may be due to work time\n",
    "- next high percentage of accident happend between 3PM to 6PM."
   ]
  },
  {
   "cell_type": "code",
   "execution_count": 36,
   "metadata": {
    "colab": {
     "base_uri": "https://localhost:8080/",
     "height": 298
    },
    "executionInfo": {
     "elapsed": 595,
     "status": "ok",
     "timestamp": 1678507471824,
     "user": {
      "displayName": "Amit Dhande",
      "userId": "10537376303475725898"
     },
     "user_tz": -330
    },
    "id": "mSLPDumkR-UF",
    "outputId": "956d5d02-78aa-4747-a4ec-2bd30c0252b7"
   },
   "outputs": [
    {
     "data": {
      "text/plain": [
       "<AxesSubplot:xlabel='Start_Time'>"
      ]
     },
     "execution_count": 36,
     "metadata": {},
     "output_type": "execute_result"
    },
    {
     "data": {
      "image/png": "[encoded data removed]",
      "text/plain": [
       "<Figure size 432x288 with 1 Axes>"
      ]
     },
     "metadata": {},
     "output_type": "display_data"
    }
   ],
   "source": [
    "sns.distplot(df.Start_Time.dt.dayofweek,bins=7,kde=False ,norm_hist=True)"
   ]
  },
  {
   "cell_type": "markdown",
   "metadata": {
    "id": "9tMoGEcReNK2"
   },
   "source": [
    "is the distribution of accidents by hour the same on weekends as on weekdays"
   ]
  },
  {
   "cell_type": "code",
   "execution_count": 37,
   "metadata": {
    "executionInfo": {
     "elapsed": 9,
     "status": "ok",
     "timestamp": 1678507471825,
     "user": {
      "displayName": "Amit Dhande",
      "userId": "10537376303475725898"
     },
     "user_tz": -330
    },
    "id": "c2Pg8ZBaeMb5"
   },
   "outputs": [],
   "source": [
    "sunday_start_time=df.Start_Time[df.Start_Time.dt.dayofweek==6]"
   ]
  },
  {
   "cell_type": "code",
   "execution_count": 38,
   "metadata": {
    "colab": {
     "base_uri": "https://localhost:8080/",
     "height": 298
    },
    "executionInfo": {
     "elapsed": 882,
     "status": "ok",
     "timestamp": 1678507472699,
     "user": {
      "displayName": "Amit Dhande",
      "userId": "10537376303475725898"
     },
     "user_tz": -330
    },
    "id": "3UrlvkXpeMhh",
    "outputId": "5aadb853-1bd9-4ad7-8dfd-27206e9b36c9"
   },
   "outputs": [
    {
     "data": {
      "text/plain": [
       "<AxesSubplot:xlabel='Start_Time'>"
      ]
     },
     "execution_count": 38,
     "metadata": {},
     "output_type": "execute_result"
    },
    {
     "data": {
      "image/png": "[encoded data removed]",
      "text/plain": [
       "<Figure size 432x288 with 1 Axes>"
      ]
     },
     "metadata": {},
     "output_type": "display_data"
    }
   ],
   "source": [
    "sns.distplot(sunday_start_time.dt.hour,kde=False ,norm_hist=True,bins=24)"
   ]
  },
  {
   "cell_type": "code",
   "execution_count": 39,
   "metadata": {
    "colab": {
     "base_uri": "https://localhost:8080/",
     "height": 298
    },
    "executionInfo": {
     "elapsed": 477,
     "status": "ok",
     "timestamp": 1678507473170,
     "user": {
      "displayName": "Amit Dhande",
      "userId": "10537376303475725898"
     },
     "user_tz": -330
    },
    "id": "1EewULTlAMHO",
    "outputId": "ff15cecc-196b-44e1-8ab7-2fb29d4c1c51"
   },
   "outputs": [
    {
     "data": {
      "text/plain": [
       "<AxesSubplot:xlabel='Start_Time'>"
      ]
     },
     "execution_count": 39,
     "metadata": {},
     "output_type": "execute_result"
    },
    {
     "data": {
      "image/png": "[encoded data removed]",
      "text/plain": [
       "<Figure size 432x288 with 1 Axes>"
      ]
     },
     "metadata": {},
     "output_type": "display_data"
    }
   ],
   "source": [
    "monday_start_time=df.Start_Time[df.Start_Time.dt.dayofweek==0]\n",
    "sns.distplot(monday_start_time.dt.hour,kde=False ,norm_hist=True,bins=24)"
   ]
  },
  {
   "cell_type": "code",
   "execution_count": 40,
   "metadata": {
    "colab": {
     "base_uri": "https://localhost:8080/",
     "height": 298
    },
    "executionInfo": {
     "elapsed": 1302,
     "status": "ok",
     "timestamp": 1678507474467,
     "user": {
      "displayName": "Amit Dhande",
      "userId": "10537376303475725898"
     },
     "user_tz": -330
    },
    "id": "et4vW9sTAMK0",
    "outputId": "457e4b24-a013-4598-d38c-143d30a9dced"
   },
   "outputs": [
    {
     "data": {
      "text/plain": [
       "<AxesSubplot:xlabel='Start_Time'>"
      ]
     },
     "execution_count": 40,
     "metadata": {},
     "output_type": "execute_result"
    },
    {
     "data": {
      "image/png": "[encoded data removed]",
      "text/plain": [
       "<Figure size 432x288 with 1 Axes>"
      ]
     },
     "metadata": {},
     "output_type": "display_data"
    }
   ],
   "source": [
    "tuesday_start_time=df.Start_Time[df.Start_Time.dt.dayofweek==1]\n",
    "sns.distplot(tuesday_start_time.dt.hour,kde=False ,norm_hist=True,bins=24)"
   ]
  },
  {
   "cell_type": "code",
   "execution_count": 41,
   "metadata": {
    "colab": {
     "base_uri": "https://localhost:8080/",
     "height": 298
    },
    "executionInfo": {
     "elapsed": 723,
     "status": "ok",
     "timestamp": 1678507475184,
     "user": {
      "displayName": "Amit Dhande",
      "userId": "10537376303475725898"
     },
     "user_tz": -330
    },
    "id": "xeqwCsCdAMOS",
    "outputId": "5a6f9ec1-6797-4411-cd38-ba729d1528f7"
   },
   "outputs": [
    {
     "data": {
      "text/plain": [
       "<AxesSubplot:xlabel='Start_Time'>"
      ]
     },
     "execution_count": 41,
     "metadata": {},
     "output_type": "execute_result"
    },
    {
     "data": {
      "image/png": "[encoded data removed]",
      "text/plain": [
       "<Figure size 432x288 with 1 Axes>"
      ]
     },
     "metadata": {},
     "output_type": "display_data"
    }
   ],
   "source": [
    "wednesday_start_time=df.Start_Time[df.Start_Time.dt.dayofweek==2]\n",
    "sns.distplot(wednesday_start_time.dt.hour,kde=False ,norm_hist=True,bins=24)"
   ]
  },
  {
   "cell_type": "code",
   "execution_count": 42,
   "metadata": {
    "colab": {
     "base_uri": "https://localhost:8080/",
     "height": 298
    },
    "executionInfo": {
     "elapsed": 480,
     "status": "ok",
     "timestamp": 1678507475657,
     "user": {
      "displayName": "Amit Dhande",
      "userId": "10537376303475725898"
     },
     "user_tz": -330
    },
    "id": "8O6kdKBjAMSf",
    "outputId": "9baa4b43-4fbf-480e-ed3f-eba36a5a70f5"
   },
   "outputs": [
    {
     "data": {
      "text/plain": [
       "<AxesSubplot:xlabel='Start_Time'>"
      ]
     },
     "execution_count": 42,
     "metadata": {},
     "output_type": "execute_result"
    },
    {
     "data": {
      "image/png": "[encoded data removed]",
      "text/plain": [
       "<Figure size 432x288 with 1 Axes>"
      ]
     },
     "metadata": {},
     "output_type": "display_data"
    }
   ],
   "source": [
    "thursday_start_time=df.Start_Time[df.Start_Time.dt.dayofweek==3]\n",
    "sns.distplot(thursday_start_time.dt.hour,kde=False ,norm_hist=True,bins=24)"
   ]
  },
  {
   "cell_type": "code",
   "execution_count": 43,
   "metadata": {
    "colab": {
     "base_uri": "https://localhost:8080/",
     "height": 298
    },
    "executionInfo": {
     "elapsed": 1300,
     "status": "ok",
     "timestamp": 1678507476952,
     "user": {
      "displayName": "Amit Dhande",
      "userId": "10537376303475725898"
     },
     "user_tz": -330
    },
    "id": "aYnfO07mAMWg",
    "outputId": "db3db783-fac4-4028-9c3e-2e9a495f3e6f"
   },
   "outputs": [
    {
     "data": {
      "text/plain": [
       "<AxesSubplot:xlabel='Start_Time'>"
      ]
     },
     "execution_count": 43,
     "metadata": {},
     "output_type": "execute_result"
    },
    {
     "data": {
      "image/png": "[encoded data removed]",
      "text/plain": [
       "<Figure size 432x288 with 1 Axes>"
      ]
     },
     "metadata": {},
     "output_type": "display_data"
    }
   ],
   "source": [
    "friday_start_time=df.Start_Time[df.Start_Time.dt.dayofweek==4]\n",
    "sns.distplot(friday_start_time.dt.hour,kde=False ,norm_hist=True,bins=24)"
   ]
  },
  {
   "cell_type": "code",
   "execution_count": 44,
   "metadata": {
    "colab": {
     "base_uri": "https://localhost:8080/",
     "height": 298
    },
    "executionInfo": {
     "elapsed": 808,
     "status": "ok",
     "timestamp": 1678507477753,
     "user": {
      "displayName": "Amit Dhande",
      "userId": "10537376303475725898"
     },
     "user_tz": -330
    },
    "id": "o4txvoqEBcfS",
    "outputId": "924427ae-d3de-48fb-bdba-879eeb8ae842"
   },
   "outputs": [
    {
     "data": {
      "text/plain": [
       "<AxesSubplot:xlabel='Start_Time'>"
      ]
     },
     "execution_count": 44,
     "metadata": {},
     "output_type": "execute_result"
    },
    {
     "data": {
      "image/png": "[encoded data removed]",
      "text/plain": [
       "<Figure size 432x288 with 1 Axes>"
      ]
     },
     "metadata": {},
     "output_type": "display_data"
    }
   ],
   "source": [
    "saturday_start_time=df.Start_Time[df.Start_Time.dt.dayofweek==5]\n",
    "sns.distplot(saturday_start_time.dt.hour,kde=False ,norm_hist=True,bins=24)"
   ]
  },
  {
   "cell_type": "markdown",
   "metadata": {
    "id": "IQmGB1UYg3kg"
   },
   "source": [
    "on sunday the peak occur is between 10AM to 8PM"
   ]
  },
  {
   "cell_type": "code",
   "execution_count": 45,
   "metadata": {
    "colab": {
     "base_uri": "https://localhost:8080/",
     "height": 298
    },
    "executionInfo": {
     "elapsed": 932,
     "status": "ok",
     "timestamp": 1678507478672,
     "user": {
      "displayName": "Amit Dhande",
      "userId": "10537376303475725898"
     },
     "user_tz": -330
    },
    "id": "gQ_qRRU5geQ5",
    "outputId": "7fb29656-1c28-4bd3-8a83-a9c338d46fe6"
   },
   "outputs": [
    {
     "data": {
      "text/plain": [
       "<AxesSubplot:xlabel='Start_Time'>"
      ]
     },
     "execution_count": 45,
     "metadata": {},
     "output_type": "execute_result"
    },
    {
     "data": {
      "image/png": "[encoded data removed]",
      "text/plain": [
       "<Figure size 432x288 with 1 Axes>"
      ]
     },
     "metadata": {},
     "output_type": "display_data"
    }
   ],
   "source": [
    "sns.distplot(df.Start_Time.dt.month,kde=False ,norm_hist=True,bins=12)"
   ]
  },
  {
   "cell_type": "code",
   "execution_count": 46,
   "metadata": {
    "colab": {
     "base_uri": "https://localhost:8080/",
     "height": 301
    },
    "executionInfo": {
     "elapsed": 843,
     "status": "ok",
     "timestamp": 1678507479504,
     "user": {
      "displayName": "Amit Dhande",
      "userId": "10537376303475725898"
     },
     "user_tz": -330
    },
    "id": "tQCZAzFBgecr",
    "outputId": "c2731c92-b662-40a8-de3c-943797327c57"
   },
   "outputs": [
    {
     "data": {
      "text/plain": [
       "<AxesSubplot:xlabel='Start_Time'>"
      ]
     },
     "execution_count": 46,
     "metadata": {},
     "output_type": "execute_result"
    },
    {
     "data": {
      "image/png": "[encoded data removed]",
      "text/plain": [
       "<Figure size 432x288 with 1 Axes>"
      ]
     },
     "metadata": {},
     "output_type": "display_data"
    }
   ],
   "source": [
    "df_2021=df.Start_Time[df.Start_Time.dt.year==2021]\n",
    "sns.distplot(df_2021.dt.month,kde=False ,norm_hist=True,bins=12)"
   ]
  },
  {
   "cell_type": "code",
   "execution_count": 47,
   "metadata": {
    "colab": {
     "base_uri": "https://localhost:8080/",
     "height": 298
    },
    "executionInfo": {
     "elapsed": 21,
     "status": "ok",
     "timestamp": 1678507479506,
     "user": {
      "displayName": "Amit Dhande",
      "userId": "10537376303475725898"
     },
     "user_tz": -330
    },
    "id": "vYuCT0GYgehW",
    "outputId": "faf4ea68-4e9a-4fd1-a1b8-38116c3d05e4"
   },
   "outputs": [
    {
     "data": {
      "text/plain": [
       "<AxesSubplot:xlabel='Start_Time'>"
      ]
     },
     "execution_count": 47,
     "metadata": {},
     "output_type": "execute_result"
    },
    {
     "data": {
      "image/png": "[encoded data removed]",
      "text/plain": [
       "<Figure size 432x288 with 1 Axes>"
      ]
     },
     "metadata": {},
     "output_type": "display_data"
    }
   ],
   "source": [
    "df_2020=df.Start_Time[df.Start_Time.dt.year==2020]\n",
    "sns.distplot(df_2020.dt.month,kde=False ,norm_hist=True,bins=12)"
   ]
  },
  {
   "cell_type": "code",
   "execution_count": 48,
   "metadata": {
    "colab": {
     "base_uri": "https://localhost:8080/",
     "height": 298
    },
    "executionInfo": {
     "elapsed": 486,
     "status": "ok",
     "timestamp": 1678507479980,
     "user": {
      "displayName": "Amit Dhande",
      "userId": "10537376303475725898"
     },
     "user_tz": -330
    },
    "id": "EZuT74u1kS7w",
    "outputId": "475d4ae1-47bb-4fec-a201-13faf298e30d"
   },
   "outputs": [
    {
     "data": {
      "text/plain": [
       "<AxesSubplot:xlabel='Start_Time'>"
      ]
     },
     "execution_count": 48,
     "metadata": {},
     "output_type": "execute_result"
    },
    {
     "data": {
      "image/png": "[encoded data removed]",
      "text/plain": [
       "<Figure size 432x288 with 1 Axes>"
      ]
     },
     "metadata": {},
     "output_type": "display_data"
    }
   ],
   "source": [
    "df_2019=df.Start_Time[df.Start_Time.dt.year==2019]\n",
    "sns.distplot(df_2019.dt.month,kde=False ,norm_hist=True,bins=12)"
   ]
  },
  {
   "cell_type": "code",
   "execution_count": 49,
   "metadata": {
    "colab": {
     "base_uri": "https://localhost:8080/",
     "height": 298
    },
    "executionInfo": {
     "elapsed": 724,
     "status": "ok",
     "timestamp": 1678507480699,
     "user": {
      "displayName": "Amit Dhande",
      "userId": "10537376303475725898"
     },
     "user_tz": -330
    },
    "id": "sDrM-_B4kTIY",
    "outputId": "1f1883d6-4172-4f6f-a8e7-ef1e28984b41"
   },
   "outputs": [
    {
     "data": {
      "text/plain": [
       "<AxesSubplot:xlabel='Start_Time'>"
      ]
     },
     "execution_count": 49,
     "metadata": {},
     "output_type": "execute_result"
    },
    {
     "data": {
      "image/png": "[encoded data removed]",
      "text/plain": [
       "<Figure size 432x288 with 1 Axes>"
      ]
     },
     "metadata": {},
     "output_type": "display_data"
    }
   ],
   "source": [
    "df_2018=df.Start_Time[df.Start_Time.dt.year==2018]\n",
    "sns.distplot(df_2018.dt.month,kde=False ,norm_hist=True,bins=12)"
   ]
  },
  {
   "cell_type": "code",
   "execution_count": 50,
   "metadata": {
    "colab": {
     "base_uri": "https://localhost:8080/",
     "height": 298
    },
    "executionInfo": {
     "elapsed": 670,
     "status": "ok",
     "timestamp": 1678507481364,
     "user": {
      "displayName": "Amit Dhande",
      "userId": "10537376303475725898"
     },
     "user_tz": -330
    },
    "id": "61epvO9ZkTM4",
    "outputId": "fd8faccc-f8be-4753-8d2a-cb2861f0ce33"
   },
   "outputs": [
    {
     "data": {
      "text/plain": [
       "<AxesSubplot:xlabel='Start_Time'>"
      ]
     },
     "execution_count": 50,
     "metadata": {},
     "output_type": "execute_result"
    },
    {
     "data": {
      "image/png": "[encoded data removed]",
      "text/plain": [
       "<Figure size 432x288 with 1 Axes>"
      ]
     },
     "metadata": {},
     "output_type": "display_data"
    }
   ],
   "source": [
    "df_2017=df.Start_Time[df.Start_Time.dt.year==2017]\n",
    "sns.distplot(df_2017.dt.month,kde=False ,norm_hist=True,bins=12)"
   ]
  },
  {
   "cell_type": "code",
   "execution_count": 51,
   "metadata": {
    "colab": {
     "base_uri": "https://localhost:8080/",
     "height": 298
    },
    "executionInfo": {
     "elapsed": 470,
     "status": "ok",
     "timestamp": 1678507481828,
     "user": {
      "displayName": "Amit Dhande",
      "userId": "10537376303475725898"
     },
     "user_tz": -330
    },
    "id": "SKgzyJiIk6b9",
    "outputId": "baff0326-18c4-42cd-f378-cfec74567710"
   },
   "outputs": [
    {
     "data": {
      "text/plain": [
       "<AxesSubplot:xlabel='Start_Time'>"
      ]
     },
     "execution_count": 51,
     "metadata": {},
     "output_type": "execute_result"
    },
    {
     "data": {
      "image/png": "[encoded data removed]",
      "text/plain": [
       "<Figure size 432x288 with 1 Axes>"
      ]
     },
     "metadata": {},
     "output_type": "display_data"
    }
   ],
   "source": [
    "df_2016=df.Start_Time[df.Start_Time.dt.year==2016]\n",
    "sns.distplot(df_2016.dt.month,kde=False ,norm_hist=True,bins=12)"
   ]
  },
  {
   "cell_type": "markdown",
   "metadata": {
    "id": "-4ij4CXMncB2"
   },
   "source": [
    "### Start Latitude & Longitude"
   ]
  },
  {
   "cell_type": "code",
   "execution_count": 52,
   "metadata": {
    "colab": {
     "base_uri": "https://localhost:8080/"
    },
    "executionInfo": {
     "elapsed": 21,
     "status": "ok",
     "timestamp": 1678507481830,
     "user": {
      "displayName": "Amit Dhande",
      "userId": "10537376303475725898"
     },
     "user_tz": -330
    },
    "id": "q2uNlrlik6oN",
    "outputId": "48cadff8-c6d7-40c5-d837-9454b7745085"
   },
   "outputs": [
    {
     "data": {
      "text/plain": [
       "0          40.108910\n",
       "1          39.865420\n",
       "2          39.102660\n",
       "3          41.062130\n",
       "4          39.172393\n",
       "             ...    \n",
       "2845337    34.002480\n",
       "2845338    32.766960\n",
       "2845339    33.775450\n",
       "2845340    33.992460\n",
       "2845341    34.133930\n",
       "Name: Start_Lat, Length: 2845342, dtype: float64"
      ]
     },
     "execution_count": 52,
     "metadata": {},
     "output_type": "execute_result"
    }
   ],
   "source": [
    "df.Start_Lat"
   ]
  },
  {
   "cell_type": "code",
   "execution_count": 53,
   "metadata": {
    "colab": {
     "base_uri": "https://localhost:8080/"
    },
    "executionInfo": {
     "elapsed": 17,
     "status": "ok",
     "timestamp": 1678507481832,
     "user": {
      "displayName": "Amit Dhande",
      "userId": "10537376303475725898"
     },
     "user_tz": -330
    },
    "id": "YaNWK7ebk6tZ",
    "outputId": "1e6f96ac-4209-438e-c7cc-bce9d3599450"
   },
   "outputs": [
    {
     "data": {
      "text/plain": [
       "0          -83.092860\n",
       "1          -84.062800\n",
       "2          -84.524680\n",
       "3          -81.537840\n",
       "4          -84.492792\n",
       "              ...    \n",
       "2845337   -117.379360\n",
       "2845338   -117.148060\n",
       "2845339   -117.847790\n",
       "2845340   -118.403020\n",
       "2845341   -117.230920\n",
       "Name: Start_Lng, Length: 2845342, dtype: float64"
      ]
     },
     "execution_count": 53,
     "metadata": {},
     "output_type": "execute_result"
    }
   ],
   "source": [
    "df.Start_Lng"
   ]
  },
  {
   "cell_type": "code",
   "execution_count": 54,
   "metadata": {
    "colab": {
     "base_uri": "https://localhost:8080/",
     "height": 300
    },
    "executionInfo": {
     "elapsed": 13817,
     "status": "ok",
     "timestamp": 1678507495638,
     "user": {
      "displayName": "Amit Dhande",
      "userId": "10537376303475725898"
     },
     "user_tz": -330
    },
    "id": "1XmLwUK317Ko",
    "outputId": "96554a56-b626-4775-a10d-550a97f7615e"
   },
   "outputs": [
    {
     "data": {
      "text/plain": [
       "<AxesSubplot:xlabel='Start_Lng', ylabel='Start_Lat'>"
      ]
     },
     "execution_count": 54,
     "metadata": {},
     "output_type": "execute_result"
    },
    {
     "data": {
      "image/png": "[encoded data removed]",
      "text/plain": [
       "<Figure size 432x288 with 1 Axes>"
      ]
     },
     "metadata": {},
     "output_type": "display_data"
    }
   ],
   "source": [
    "import matplotlib.cm as cm\n",
    "import numpy as np\n",
    "sample_df=df.sample(int(0.1 * len(df)))\n",
    "colors = iter(cm.rainbow(np.linspace(0, 1, len(sample_df))))\n",
    "sns.scatterplot(x=sample_df.Start_Lng,y=sample_df.Start_Lat,size=0.001,color=next(colors))"
   ]
  },
  {
   "cell_type": "code",
   "execution_count": 55,
   "metadata": {
    "executionInfo": {
     "elapsed": 43,
     "status": "ok",
     "timestamp": 1678507495640,
     "user": {
      "displayName": "Amit Dhande",
      "userId": "10537376303475725898"
     },
     "user_tz": -330
    },
    "id": "ZTYylVq517Of"
   },
   "outputs": [],
   "source": [
    "import folium"
   ]
  },
  {
   "cell_type": "code",
   "execution_count": 56,
   "metadata": {
    "executionInfo": {
     "elapsed": 43,
     "status": "ok",
     "timestamp": 1678507495641,
     "user": {
      "displayName": "Amit Dhande",
      "userId": "10537376303475725898"
     },
     "user_tz": -330
    },
    "id": "8PiP6_b317Sc"
   },
   "outputs": [],
   "source": [
    "this_map = folium.Map(prefer_canvas=True)"
   ]
  },
  {
   "cell_type": "code",
   "execution_count": 57,
   "metadata": {
    "colab": {
     "base_uri": "https://localhost:8080/"
    },
    "executionInfo": {
     "elapsed": 43,
     "status": "ok",
     "timestamp": 1678507495642,
     "user": {
      "displayName": "Amit Dhande",
      "userId": "10537376303475725898"
     },
     "user_tz": -330
    },
    "id": "gmKxI5op5tdq",
    "outputId": "ae97c1ed-0f58-45a1-c465-bc485d0f72bb"
   },
   "outputs": [
    {
     "data": {
      "text/plain": [
       "(40.10891, -83.09286)"
      ]
     },
     "execution_count": 57,
     "metadata": {},
     "output_type": "execute_result"
    }
   ],
   "source": [
    "lat,lon = df.Start_Lat[0],df.Start_Lng[0]\n",
    "lat,lon"
   ]
  },
  {
   "cell_type": "code",
   "execution_count": 58,
   "metadata": {
    "colab": {
     "base_uri": "https://localhost:8080/"
    },
    "executionInfo": {
     "elapsed": 655,
     "status": "ok",
     "timestamp": 1678507496260,
     "user": {
      "displayName": "Amit Dhande",
      "userId": "10537376303475725898"
     },
     "user_tz": -330
    },
    "id": "62antLBk7KJ8",
    "outputId": "77c24ae2-e107-4f49-dd79-310dd8285f90"
   },
   "outputs": [
    {
     "data": {
      "text/plain": [
       "[(40.10891, -83.09286),\n",
       " (39.86542, -84.0628),\n",
       " (39.10266, -84.52468),\n",
       " (41.06213, -81.53784),\n",
       " (39.172393, -84.49279200000002),\n",
       " (39.06324, -84.03243),\n",
       " (39.77565, -84.18603),\n",
       " (41.37531, -81.82016999999998),\n",
       " (40.702247, -84.075887),\n",
       " (40.10931, -82.96849),\n",
       " (39.19288, -84.47723),\n",
       " (39.13877, -84.53394),\n",
       " (41.4739, -81.704233),\n",
       " (39.582242, -83.677814),\n",
       " (40.151785, -81.312635),\n",
       " (40.151747, -81.312682),\n",
       " (39.97241, -82.84695),\n",
       " (39.9838, -82.85656999999998),\n",
       " (40.02664, -82.9944),\n",
       " (41.679361, -83.573037),\n",
       " (40.99613, -85.26613),\n",
       " (39.0381, -84.59243000000002),\n",
       " (40.03386, -82.99601),\n",
       " (39.85798, -84.28181),\n",
       " (39.15267, -84.5395),\n",
       " (39.30732, -85.95982),\n",
       " (39.77572, -84.04815),\n",
       " (39.97643, -83.12306),\n",
       " (39.58595, -85.82518),\n",
       " (39.3638, -85.51659000000002),\n",
       " (39.45132, -85.62516),\n",
       " (39.75067, -84.14148),\n",
       " (39.2675, -81.49929),\n",
       " (39.86025, -85.96623000000002),\n",
       " (41.95677, -83.67214),\n",
       " (38.27401, -85.74844),\n",
       " (41.95677, -83.67214),\n",
       " (40.52225, -80.06666),\n",
       " (40.487814, -80.009439),\n",
       " (40.156298, -83.018431),\n",
       " (41.47461, -81.71181999999997),\n",
       " (41.0618, -81.54608),\n",
       " (40.45112, -85.15048),\n",
       " (40.35429, -85.14993),\n",
       " (39.75855, -85.13715),\n",
       " (39.74408, -85.13749),\n",
       " (39.965148, -83.020499),\n",
       " (40.72813, -84.78965),\n",
       " (39.85223, -85.25846999999997),\n",
       " (41.46747, -81.75909),\n",
       " (41.83193, -80.10143000000002),\n",
       " (39.744287, -84.204939),\n",
       " (39.71548, -84.22033),\n",
       " (39.7504, -84.20561),\n",
       " (41.72316, -84.96444),\n",
       " (40.04376, -82.99708000000003),\n",
       " (38.1781, -85.71946),\n",
       " (38.18577, -85.80678),\n",
       " (38.27191, -85.80838),\n",
       " (39.923905, -82.87008),\n",
       " (41.035566, -81.569917),\n",
       " (39.9239, -83.68767),\n",
       " (41.851914, -80.175232),\n",
       " (39.93849, -82.84849),\n",
       " (38.96943, -80.1096),\n",
       " (41.66805, -83.57063000000002),\n",
       " (41.48339, -81.66297),\n",
       " (41.50127, -81.4804),\n",
       " (39.789093, -82.989106),\n",
       " (41.67073, -81.24561),\n",
       " (41.70846, -81.17636),\n",
       " (41.44246, -81.78485),\n",
       " (39.77128, -84.1923),\n",
       " (41.50499, -81.47417),\n",
       " (40.109653, -80.2029),\n",
       " (38.38852, -81.7687),\n",
       " (41.03572, -81.57809),\n",
       " (41.47487, -81.72095),\n",
       " (41.62845, -84.80559000000002),\n",
       " (41.62894, -84.80373),\n",
       " (41.16102, -81.78573),\n",
       " (41.628232, -84.808858),\n",
       " (41.62986, -84.76619000000002),\n",
       " (39.74729, -84.21426),\n",
       " (41.42099, -81.69051999999998),\n",
       " (41.42318, -81.84674),\n",
       " (38.79691, -84.48273),\n",
       " (38.80878, -84.49638),\n",
       " (38.30155, -85.85499),\n",
       " (38.33667, -81.65623000000002),\n",
       " (38.33614, -81.65623000000002),\n",
       " (41.0961, -81.58593),\n",
       " (41.12155, -85.18715999999998),\n",
       " (38.829993, -80.667067),\n",
       " (40.05642, -83.03097),\n",
       " (41.37717, -81.5139),\n",
       " (39.17397, -84.49031),\n",
       " (39.75513, -84.16614),\n",
       " (39.17397, -84.49031),\n",
       " (41.12624, -81.65299),\n",
       " (38.33667, -81.65623000000002),\n",
       " (41.10389, -81.5),\n",
       " (39.16417, -84.45275),\n",
       " (40.11184, -83.00883),\n",
       " (38.31922, -85.75301999999998),\n",
       " (39.09881, -84.50801),\n",
       " (41.473859, -81.708409),\n",
       " (41.039988, -81.565332),\n",
       " (41.73565, -84.99082),\n",
       " (39.26566, -84.43965),\n",
       " (41.46981, -81.81104),\n",
       " (41.25666, -81.63157),\n",
       " (40.58919, -80.09885),\n",
       " (41.06356, -81.49078),\n",
       " (41.06218, -81.50595),\n",
       " (39.17736, -84.4873),\n",
       " (38.33956, -81.60991999999997),\n",
       " (41.47889, -81.6934),\n",
       " (40.58919, -80.09885),\n",
       " (41.41119000000001, -81.64414000000002),\n",
       " (39.24907, -84.44561999999998),\n",
       " (39.28775, -84.40073000000002),\n",
       " (41.47379, -81.89631),\n",
       " (41.54941, -81.60676),\n",
       " (39.03347, -84.603),\n",
       " (39.74903, -84.20106),\n",
       " (39.89473, -83.044),\n",
       " (39.19641, -84.47331),\n",
       " (39.22461, -84.45364000000002),\n",
       " (39.15306, -84.44283),\n",
       " (39.97262, -82.98368),\n",
       " (40.535447, -80.03596),\n",
       " (40.529455, -80.03506999999998),\n",
       " (41.49647, -81.67733),\n",
       " (41.0634, -81.49079),\n",
       " (39.74284, -84.20479),\n",
       " (41.46822, -81.9476),\n",
       " (41.92479, -83.36026),\n",
       " (41.184738, -80.432713),\n",
       " (40.27317, -85.5577),\n",
       " (39.98264, -85.14301999999998),\n",
       " (40.27317, -85.5577),\n",
       " (40.42667, -85.54968000000002),\n",
       " (39.97527, -85.14018),\n",
       " (39.09889, -84.52118),\n",
       " (38.88012, -84.62527),\n",
       " (38.79256, -84.60423),\n",
       " (39.74284, -84.20479),\n",
       " (40.484222, -80.13755400000002),\n",
       " (41.20104, -80.06859),\n",
       " (39.05528, -84.39072),\n",
       " (41.623325, -83.692226),\n",
       " (40.53024, -80.00957),\n",
       " (40.06527, -82.99591),\n",
       " (40.43954, -80.00971),\n",
       " (41.422004, -81.730092),\n",
       " (39.3638, -85.51659000000002),\n",
       " (39.82083, -85.7749),\n",
       " (40.0366, -85.72561999999998),\n",
       " (39.855691, -84.29079200000002),\n",
       " (40.049152, -85.682047),\n",
       " (39.83939, -85.55752),\n",
       " (40.13386, -80.00666),\n",
       " (40.43954, -80.00971),\n",
       " (40.13386, -80.00666),\n",
       " (40.13386, -80.00666),\n",
       " (39.97859, -82.9763),\n",
       " (39.95459, -83.04255),\n",
       " (39.68291, -85.97372),\n",
       " (38.49304, -85.77156),\n",
       " (38.33428, -85.82177),\n",
       " (39.99921, -83.02875),\n",
       " (38.53844, -85.77702),\n",
       " (38.1781, -85.71946),\n",
       " (39.87433, -82.99882),\n",
       " (41.39546, -85.32855),\n",
       " (41.39469, -85.28893000000002),\n",
       " (41.90473, -83.36986),\n",
       " (40.77137000000001, -84.62203000000002),\n",
       " (40.80059, -84.61374),\n",
       " (39.87433, -82.99882),\n",
       " (40.78593, -84.61787),\n",
       " (40.80059, -84.61374),\n",
       " (41.67487, -83.57266),\n",
       " (41.47376, -81.86113),\n",
       " (38.33465, -85.75389),\n",
       " (39.14014, -84.53495),\n",
       " (41.80143, -85.34888000000002),\n",
       " (41.35761, -81.81988),\n",
       " (39.34392, -84.39043000000002),\n",
       " (39.816154, -83.18010500000003),\n",
       " (38.824929, -85.47449499999998),\n",
       " (38.82415, -85.63794),\n",
       " (40.593244, -85.150017),\n",
       " (40.600487, -85.150502),\n",
       " (41.19362, -80.2374),\n",
       " (40.55267, -85.14974000000002),\n",
       " (40.56744000000001, -85.14993),\n",
       " (40.14212, -81.55153),\n",
       " (39.94397, -82.41127),\n",
       " (39.96893, -83.11922),\n",
       " (40.6126, -80.09494000000002),\n",
       " (40.11184, -83.00883),\n",
       " (41.06347, -81.50372),\n",
       " (39.972931, -85.965783),\n",
       " (39.95459, -83.04255),\n",
       " (40.11184, -83.00883),\n",
       " (39.97241, -82.84695),\n",
       " (39.9912, -85.9188),\n",
       " (41.34965, -81.51146),\n",
       " (41.11987, -80.69004),\n",
       " (41.11851, -80.69242),\n",
       " (40.05642, -83.03097),\n",
       " (38.117487, -85.760397),\n",
       " (41.44134, -81.65055),\n",
       " (38.61531, -80.76034),\n",
       " (41.124052, -80.677589),\n",
       " (39.95085, -82.94428),\n",
       " (41.06257, -81.52228000000002),\n",
       " (40.11212, -83.03905999999998),\n",
       " (39.887033, -83.043909),\n",
       " (40.04916, -83.03336),\n",
       " (41.12906, -85.1612),\n",
       " (41.17798, -85.10323000000002),\n",
       " (38.08783, -83.90263),\n",
       " (41.63316, -83.54203000000003),\n",
       " (39.149639, -84.539381),\n",
       " (40.9605, -85.3528),\n",
       " (40.96051, -85.34522),\n",
       " (41.08204, -80.64846999999997),\n",
       " (41.61791, -83.54106999999998),\n",
       " (38.41592, -82.3465),\n",
       " (41.67571, -83.69385),\n",
       " (39.08272, -84.52264),\n",
       " (39.280947, -80.278075),\n",
       " (38.36387, -81.73867),\n",
       " (40.0187, -82.90465999999998),\n",
       " (41.53757, -81.64083000000002),\n",
       " (41.16522, -81.47454),\n",
       " (39.52352, -82.02360999999998),\n",
       " (39.517216, -82.025802),\n",
       " (40.322818, -83.071034),\n",
       " (41.73565, -84.99082),\n",
       " (39.14648, -84.45455),\n",
       " (39.82122, -85.76482),\n",
       " (41.11889, -81.65406999999998),\n",
       " (40.121557, -83.151457),\n",
       " (40.11017, -83.15876999999998),\n",
       " (41.57777, -81.54987),\n",
       " (40.121557, -83.151457),\n",
       " (40.11017, -83.15876999999998),\n",
       " (41.04592, -81.69463),\n",
       " (41.42099, -81.69051999999998),\n",
       " (39.27486, -84.346),\n",
       " (39.28266, -84.56742),\n",
       " (39.9467, -82.22232),\n",
       " (39.17397, -84.49031),\n",
       " (39.17736, -84.4873),\n",
       " (39.9467, -82.22232),\n",
       " (39.9467, -82.22232),\n",
       " (41.68518, -83.5678),\n",
       " (41.66572, -83.5652),\n",
       " (39.27125, -84.35176),\n",
       " (41.47395, -81.69931),\n",
       " (39.98505, -80.74006),\n",
       " (39.95813, -80.76219),\n",
       " (41.56544, -81.5835),\n",
       " (38.32587, -83.11389),\n",
       " (38.25869, -85.7622),\n",
       " (38.29322, -85.654625),\n",
       " (39.78609, -83.24606999999997),\n",
       " (41.53968, -81.62795),\n",
       " (39.08927, -84.5227),\n",
       " (38.25922, -85.76632),\n",
       " (41.55264, -81.60032),\n",
       " (39.02187, -84.50492),\n",
       " (41.06755, -81.57421),\n",
       " (40.49223, -80.01029),\n",
       " (41.48836, -81.66471),\n",
       " (39.95085, -82.94428),\n",
       " (41.42063, -81.80859),\n",
       " (41.06755, -81.57421),\n",
       " (40.82949, -81.39732),\n",
       " (41.40091, -81.81724),\n",
       " (41.13355, -85.13584),\n",
       " (38.870386, -84.624429),\n",
       " (41.47974, -81.6667),\n",
       " (40.30095, -80.16651999999998),\n",
       " (39.11543, -84.50003000000002),\n",
       " (41.1419, -81.47694),\n",
       " (39.14917, -84.44711),\n",
       " (39.81979000000001, -84.18908),\n",
       " (39.84509, -84.1899),\n",
       " (41.47461, -81.71181999999997),\n",
       " (39.17304, -84.47589),\n",
       " (39.1021, -84.49754),\n",
       " (41.49873, -81.67260999999998),\n",
       " (39.12627, -84.53509),\n",
       " (41.47394600000001, -81.699011),\n",
       " (39.9745, -83.09654),\n",
       " (39.85911, -84.2808),\n",
       " (39.24943, -84.36541),\n",
       " (38.31179, -85.58773000000002),\n",
       " (39.27486, -84.346),\n",
       " (39.29287, -84.31981),\n",
       " (39.15267, -84.5395),\n",
       " (41.4675, -81.49014),\n",
       " (39.26661, -84.35605),\n",
       " (39.27125, -84.35176),\n",
       " (38.20674, -85.74846),\n",
       " (40.13804, -82.97112),\n",
       " (41.47965, -81.66758),\n",
       " (39.08887, -84.52271),\n",
       " (41.6882, -83.64064),\n",
       " (40.06527, -82.99591),\n",
       " (39.86536, -84.05238),\n",
       " (38.420223, -82.293065),\n",
       " (41.47414000000001, -81.69893),\n",
       " (41.47542, -81.68721),\n",
       " (40.07297, -83.1347),\n",
       " (40.05609000000001, -80.679211),\n",
       " (38.19105, -85.71902),\n",
       " (38.25454000000001, -85.71969),\n",
       " (39.171694, -84.494399),\n",
       " (41.06239, -81.52229),\n",
       " (39.259254, -84.440978),\n",
       " (39.905178, -82.895471),\n",
       " (40.0988, -83.13331),\n",
       " (41.33991, -81.81739),\n",
       " (40.0999, -82.92089),\n",
       " (39.4728, -80.11963),\n",
       " (41.46631, -81.77065999999998),\n",
       " (38.34109, -81.70017),\n",
       " (41.160072, -85.232647),\n",
       " (41.163626, -85.24482900000002),\n",
       " (39.14014, -84.53495),\n",
       " (40.94537, -81.15473),\n",
       " (41.68591, -83.911307),\n",
       " (41.704523, -83.9136),\n",
       " (40.945772, -81.17219399999998),\n",
       " (38.82445, -82.98299),\n",
       " (38.84111, -82.98432),\n",
       " (39.00079, -84.42043000000002),\n",
       " (39.96071, -85.35383),\n",
       " (39.2675, -81.49929),\n",
       " (40.27317, -85.5577),\n",
       " (40.42667, -85.54968000000002),\n",
       " (38.130782, -81.388878),\n",
       " (38.545195, -85.778613),\n",
       " (38.362427, -81.714434),\n",
       " (38.39115, -81.58664),\n",
       " (40.08978, -82.98725999999998),\n",
       " (40.0122, -82.99188000000002),\n",
       " (41.68918, -83.53681999999998),\n",
       " (39.3781, -84.365),\n",
       " (39.11919, -84.53539),\n",
       " (39.05029, -83.77673),\n",
       " (39.04827, -83.77199),\n",
       " (40.0717, -82.90821),\n",
       " (39.09655, -84.48312),\n",
       " (40.43077, -80.02638),\n",
       " (41.443708, -85.19285),\n",
       " (41.438119, -85.15969399999999),\n",
       " (41.46747, -81.75909),\n",
       " (39.044435, -84.465864),\n",
       " (39.22461, -84.45364000000002),\n",
       " (41.104217, -81.499987),\n",
       " (41.1003, -81.4999),\n",
       " (39.1021, -84.49754),\n",
       " (41.46375, -81.69353000000002),\n",
       " (41.52134, -83.45642),\n",
       " (41.52549000000001, -83.46344),\n",
       " (41.43166, -81.68160999999998),\n",
       " (38.22363, -85.50532),\n",
       " (40.85466, -81.41646999999998),\n",
       " (38.22272, -85.50111),\n",
       " (39.12424, -84.53501),\n",
       " (39.09858, -84.51974),\n",
       " (39.63551, -84.19519),\n",
       " (40.39715, -80.10368000000003),\n",
       " (41.56709, -81.57816),\n",
       " (41.18225, -84.94275999999998),\n",
       " (39.10148, -84.52341),\n",
       " (41.55245, -83.60061999999998),\n",
       " (38.52006, -81.35221),\n",
       " (41.3513, -83.62276),\n",
       " (39.25015, -81.30566),\n",
       " (41.345031, -82.285379),\n",
       " (41.351335, -82.26144599999998),\n",
       " (38.38457, -81.804429),\n",
       " (40.41528, -80.01234000000002),\n",
       " (40.03598, -83.12479),\n",
       " (41.03669, -81.50492),\n",
       " (41.68971, -83.53045999999998),\n",
       " (39.587784, -83.723939),\n",
       " (39.626237, -83.73105),\n",
       " (41.06243, -81.49904000000002),\n",
       " (39.97262, -82.98368),\n",
       " (39.93658, -83.00941999999998),\n",
       " (41.208579, -82.807829),\n",
       " (41.4051, -81.8184),\n",
       " (39.29035, -84.39078),\n",
       " (39.90524, -82.89541),\n",
       " (40.04376, -82.99708000000003),\n",
       " (39.98793, -82.98568),\n",
       " (41.874915, -85.409527),\n",
       " (41.890234, -85.409642),\n",
       " (39.9335, -82.78939),\n",
       " (40.04916, -83.03336),\n",
       " (39.99493, -82.93332),\n",
       " (39.83727, -83.09326999999998),\n",
       " (40.98954000000001, -81.49372),\n",
       " (38.53844, -85.77702),\n",
       " (41.10389, -81.5),\n",
       " (38.577894, -85.77896),\n",
       " (41.42099, -81.69051999999998),\n",
       " (38.58054600000001, -85.77866),\n",
       " (39.833935, -84.061832),\n",
       " (38.30344, -85.88893),\n",
       " (39.93654, -83.40048),\n",
       " (39.95612, -83.37499),\n",
       " (39.17766, -84.39780999999998),\n",
       " (40.02155, -83.0354),\n",
       " (39.97518, -85.63374),\n",
       " (39.94576, -85.63454),\n",
       " (40.27744000000001, -85.72518000000002),\n",
       " (39.17304, -84.47589),\n",
       " (41.68648, -83.5669),\n",
       " (41.66267, -85.03312),\n",
       " (41.68976, -83.666),\n",
       " (39.94594, -82.9432),\n",
       " (41.4758, -81.66036),\n",
       " (41.628312, -84.812135),\n",
       " (39.96724, -83.02459),\n",
       " (41.96429000000001, -83.35018000000002),\n",
       " (41.282993, -83.638931),\n",
       " (41.63126, -83.48336),\n",
       " (41.427584, -85.8495),\n",
       " (41.471378, -85.839527),\n",
       " (41.46747, -81.75909),\n",
       " (39.18364, -84.48373000000002),\n",
       " (41.94495, -80.40234),\n",
       " (39.53078, -84.310264),\n",
       " (41.438774, -81.80341999999997),\n",
       " (39.9838, -82.85656999999998),\n",
       " (40.44413400000001, -80.028261),\n",
       " (39.97727, -83.15445),\n",
       " (39.9745, -83.09654),\n",
       " (39.97865, -83.11698),\n",
       " (39.97327, -83.12002),\n",
       " (39.22571, -84.36832),\n",
       " (39.986342, -83.118881),\n",
       " (39.73629, -84.20489),\n",
       " (41.4051, -81.8184),\n",
       " (41.41101, -81.66634),\n",
       " (39.24464, -84.44835),\n",
       " (40.11212, -83.03905999999998),\n",
       " (40.30095, -80.16651999999998),\n",
       " (41.49243, -81.67554),\n",
       " (40.1827, -80.26148),\n",
       " (39.95459, -83.04255),\n",
       " (39.97527, -85.14018),\n",
       " (39.98511, -85.14406),\n",
       " (38.29514, -85.75655),\n",
       " (39.93654, -83.40048),\n",
       " (39.11543, -84.50003000000002),\n",
       " (41.030684, -81.885739),\n",
       " (41.43166, -81.68160999999998),\n",
       " (40.6664, -80.227514),\n",
       " (40.67137, -80.22581),\n",
       " (41.305199, -81.438626),\n",
       " (40.354252, -85.843032),\n",
       " (40.402251, -85.842969),\n",
       " (41.26752000000001, -85.85673),\n",
       " (39.97307, -82.98405),\n",
       " (39.9672, -81.28699999999998),\n",
       " (39.96392, -81.27197),\n",
       " (41.52631, -83.62123000000003),\n",
       " (39.93292, -82.83025),\n",
       " (39.08272, -84.52264),\n",
       " (39.8552, -84.32502),\n",
       " (41.65404, -85.70526),\n",
       " (41.39465, -81.65326),\n",
       " (41.06211, -81.53053),\n",
       " (41.09598, -81.49976),\n",
       " (41.85222, -85.67843),\n",
       " (38.148808, -80.929665),\n",
       " (41.52447, -85.57791),\n",
       " (41.5105, -85.57781),\n",
       " (39.90524, -82.89541),\n",
       " (41.23598, -81.49325999999998),\n",
       " (38.70101, -80.66483000000002),\n",
       " (39.22498, -84.38094),\n",
       " (40.776023, -80.12718100000002),\n",
       " (38.86027, -80.65729),\n",
       " (39.88203, -83.04748000000002),\n",
       " (39.89253400000001, -83.038786),\n",
       " (39.89698, -83.03428000000002),\n",
       " (41.67439, -83.693727),\n",
       " (41.12999, -85.15503000000002),\n",
       " (39.09889, -84.52118),\n",
       " (41.52631, -83.62123000000003),\n",
       " (39.088552, -84.522724),\n",
       " (39.95423, -82.98879000000002),\n",
       " (39.21018, -84.46345),\n",
       " (39.95369, -82.96403000000002),\n",
       " (40.40934, -80.19247),\n",
       " (40.44126, -80.19314),\n",
       " (39.16161, -84.51375),\n",
       " (39.16161, -84.51375),\n",
       " (39.15141, -84.54061),\n",
       " (39.75855, -85.13715),\n",
       " (41.67571, -83.69385),\n",
       " (41.67571, -83.69385),\n",
       " (39.28805, -84.37462),\n",
       " (41.53618, -83.6176),\n",
       " (39.07202, -84.51907),\n",
       " (38.259133, -85.752672),\n",
       " (40.44425, -80.02821),\n",
       " (40.44278, -80.02468),\n",
       " (38.30155, -85.85499),\n",
       " (40.35405, -80.13756),\n",
       " (40.35449000000001, -80.13835999999998),\n",
       " (38.30344, -85.88893),\n",
       " (41.08789, -83.66011),\n",
       " (41.02454, -80.92163000000002),\n",
       " (41.02413, -80.90579),\n",
       " (39.08168, -84.7069),\n",
       " (38.18539000000001, -85.81793),\n",
       " (39.27734, -84.86438000000003),\n",
       " (39.16437, -84.43731),\n",
       " (39.748585, -84.226084),\n",
       " (39.4728, -80.11963),\n",
       " (41.187807, -80.149019),\n",
       " (41.19242, -80.15860500000002),\n",
       " (38.233483, -85.62671800000003),\n",
       " (38.33954, -81.609895),\n",
       " (40.07297, -83.1347),\n",
       " (40.08402, -83.13046),\n",
       " (38.34631, -83.40449),\n",
       " (38.35382, -83.40553),\n",
       " (39.04416, -84.46656),\n",
       " (38.41807, -81.54525),\n",
       " (38.309401, -85.847643),\n",
       " (41.64679, -83.54913),\n",
       " (38.198748, -85.733953),\n",
       " (39.97401, -82.99355),\n",
       " (39.17397, -84.49031),\n",
       " (41.68843, -83.56258000000003),\n",
       " (41.67904, -83.5732),\n",
       " (39.25249, -84.36493),\n",
       " (38.310736, -85.590395),\n",
       " (41.46941, -81.80535),\n",
       " (38.20674, -85.74846),\n",
       " (39.226317, -84.37107900000002),\n",
       " (41.68721, -83.55579),\n",
       " (40.09775, -84.22926),\n",
       " (41.42147, -81.70682),\n",
       " (38.29414600000001, -85.756847),\n",
       " (39.17304, -84.47589),\n",
       " (38.15982, -84.67308),\n",
       " (39.11675, -84.53355),\n",
       " (39.24943, -84.36541),\n",
       " (41.06146, -81.5049),\n",
       " (39.18364, -84.48373000000002),\n",
       " (39.98793, -82.98568),\n",
       " (39.95971, -83.04811),\n",
       " (39.1479, -84.53929000000002),\n",
       " (39.89555, -83.84997),\n",
       " (39.99226, -82.98517),\n",
       " (39.40983, -82.97548),\n",
       " (40.6126, -80.09494000000002),\n",
       " (39.22479000000001, -84.27783000000002),\n",
       " (39.11675, -84.53355),\n",
       " (41.43869, -81.80554000000002),\n",
       " (40.016819, -82.90411),\n",
       " (39.09757000000001, -84.51666),\n",
       " (41.06247000000001, -81.52405),\n",
       " (39.13219, -84.49464),\n",
       " (39.097654, -84.516019),\n",
       " (41.34965, -81.51146),\n",
       " (41.37717, -81.5139),\n",
       " (40.12589000000001, -80.13661),\n",
       " (40.13189000000001, -80.132407),\n",
       " (40.00507, -83.1186),\n",
       " (39.43794000000001, -82.53893000000002),\n",
       " (39.12627, -84.53509),\n",
       " (38.07759, -84.45711999999997),\n",
       " (40.09079000000001, -82.90783),\n",
       " (39.64731, -85.91696999999998),\n",
       " (39.08927, -84.5227),\n",
       " (38.26109, -85.73695),\n",
       " (38.19785, -85.70445),\n",
       " (39.05654000000001, -84.54283000000002),\n",
       " (41.42413, -81.64519),\n",
       " (39.28638, -84.42706),\n",
       " (41.37499, -83.61635),\n",
       " (41.06228, -81.50986999999998),\n",
       " (41.53907, -81.63354),\n",
       " (40.04916, -83.03336),\n",
       " (41.13613, -81.72196),\n",
       " (39.09891, -84.49181999999998),\n",
       " (39.96268, -82.84305),\n",
       " (39.17397, -84.49031),\n",
       " (39.16911, -84.42104),\n",
       " (39.003821, -80.391285),\n",
       " (39.17736, -84.4873),\n",
       " (39.14316, -84.47069),\n",
       " (39.2696, -84.34894),\n",
       " (40.521732, -81.64755),\n",
       " (40.513361, -81.651599),\n",
       " (41.52631, -83.62123000000003),\n",
       " (38.992607, -80.195782),\n",
       " (38.839151, -82.152877),\n",
       " (40.27675, -85.49916),\n",
       " (40.52168, -80.13163),\n",
       " (39.83711, -84.54392),\n",
       " (39.02296, -84.51784),\n",
       " (38.455787, -81.88205),\n",
       " (39.02397, -84.48039),\n",
       " (38.22433, -85.751),\n",
       " (39.05973, -84.42438),\n",
       " (39.27734, -84.86438000000003),\n",
       " (41.47965, -81.66758),\n",
       " (39.02257, -84.48631),\n",
       " (40.44846, -80.00755),\n",
       " (39.09891, -84.28556999999998),\n",
       " (41.06026, -81.55485999999998),\n",
       " (41.802758, -83.684687),\n",
       " (38.0791, -83.94591),\n",
       " (38.01846, -84.15159),\n",
       " (38.30344, -85.88893),\n",
       " (38.84109, -85.81618),\n",
       " (41.14181, -80.72015999999998),\n",
       " (39.14648, -84.45455),\n",
       " (41.04263, -81.50543),\n",
       " (38.21089, -85.82606),\n",
       " (39.75067, -84.14148),\n",
       " (38.28581, -85.50792),\n",
       " (39.15273300000001, -84.541403),\n",
       " (38.23585, -85.658849),\n",
       " (38.20249, -85.68697),\n",
       " (40.53491, -83.10678),\n",
       " (40.52035, -83.10043),\n",
       " (39.12965, -84.49555),\n",
       " (38.22811, -85.7514),\n",
       " (40.41233, -80.07815),\n",
       " (39.7504, -84.20561),\n",
       " (39.08272, -84.52264),\n",
       " (39.781457, -85.839651),\n",
       " (39.781457, -85.839651),\n",
       " (41.06076, -81.45923),\n",
       " (39.688148, -83.88431),\n",
       " (39.693164, -83.882745),\n",
       " (39.9488, -83.02845),\n",
       " (41.11584000000001, -81.61428000000002),\n",
       " (39.797697, -84.189677),\n",
       " (39.20326, -85.95763000000002),\n",
       " (39.24464, -84.44835),\n",
       " (39.73733, -84.25733000000002),\n",
       " (39.969853, -85.972976),\n",
       " (41.11889, -81.65406999999998),\n",
       " (39.13219, -84.49464),\n",
       " (41.458, -83.62201999999998),\n",
       " (40.09268, -83.03726),\n",
       " (40.066965, -83.289888),\n",
       " (40.045608, -83.29660799999998),\n",
       " (39.97307, -82.98405),\n",
       " (39.98248, -85.123922),\n",
       " (39.981095, -85.11027299999998),\n",
       " (40.43021, -80.02554),\n",
       " (40.43219000000001, -80.02781999999998),\n",
       " (39.976567, -83.128639),\n",
       " (41.256658, -85.363439),\n",
       " (41.37499, -83.61635),\n",
       " (41.252653, -85.347328),\n",
       " (39.93658, -83.00941999999998),\n",
       " (39.14014, -84.53495),\n",
       " (40.153014, -82.970316),\n",
       " (39.90524, -82.89541),\n",
       " (39.13219, -84.49464),\n",
       " (40.42581, -80.4294),\n",
       " (41.08789, -83.65977),\n",
       " (39.9488, -83.02845),\n",
       " (41.47585, -81.87980999999998),\n",
       " (39.1079, -84.50284),\n",
       " (38.340803, -81.680728),\n",
       " (40.96473, -85.28862),\n",
       " (38.441, -82.12679),\n",
       " (38.4413, -82.01529000000002),\n",
       " (38.441, -82.12679),\n",
       " (38.18977, -83.48379),\n",
       " (41.194131, -80.201982),\n",
       " (40.09601, -83.13626),\n",
       " (41.23632, -83.65401999999997),\n",
       " (38.1737, -84.81473000000003),\n",
       " (38.19016, -85.7616),\n",
       " (39.25249, -84.36493),\n",
       " (39.137217, -84.04718299999998),\n",
       " (39.141454, -84.016543),\n",
       " (38.344424, -81.613662),\n",
       " (41.93113, -83.35857),\n",
       " (40.89268, -84.61808),\n",
       " (40.46013, -80.19126),\n",
       " (41.119342, -80.698025),\n",
       " (41.117872, -80.693898),\n",
       " (39.15267, -84.5395),\n",
       " (38.27362, -85.80906),\n",
       " (41.458, -83.62201999999998),\n",
       " (39.35655, -84.26419),\n",
       " (38.4062, -81.54054000000002),\n",
       " (41.02525900000001, -81.5042),\n",
       " (38.27362, -85.80906),\n",
       " (38.11969000000001, -85.77235),\n",
       " (38.275406, -85.81314300000003),\n",
       " (38.27508, -85.81517099999998),\n",
       " (41.39769, -81.939),\n",
       " (39.46513, -80.13559000000002),\n",
       " (38.217994, -81.426024),\n",
       " (38.215401, -81.42437199999998),\n",
       " (39.042851, -84.612615),\n",
       " (38.26109, -85.73695),\n",
       " (39.05654000000001, -84.54283000000002),\n",
       " (41.840758, -84.361657),\n",
       " (41.841123, -84.361652),\n",
       " (41.63316, -83.54203000000003),\n",
       " (40.02874, -81.04368000000002),\n",
       " (41.43891, -81.80258),\n",
       " (41.0811, -81.50348000000002),\n",
       " (38.35575, -81.65420999999998),\n",
       " (39.94585, -82.94293),\n",
       " (41.69017, -83.5181),\n",
       " (40.11212, -83.03905999999998),\n",
       " (41.50259000000001, -81.66974),\n",
       " (39.989994, -83.02512),\n",
       " (41.480458, -81.692932),\n",
       " (39.22461, -84.45364000000002),\n",
       " (40.04376, -82.99708000000003),\n",
       " (39.93621, -82.88318000000002),\n",
       " (39.167788, -82.524172),\n",
       " (39.20655, -82.48212),\n",
       " (41.36576, -81.51602),\n",
       " (39.977322, -81.183327),\n",
       " (39.961933, -81.175436),\n",
       " (39.68292, -84.23004),\n",
       " (40.02664, -82.9944),\n",
       " (38.583372, -81.994824),\n",
       " (38.58119600000001, -82.004356),\n",
       " (40.07297, -83.1347),\n",
       " (41.58689, -83.56234),\n",
       " (38.31714, -85.57677),\n",
       " (40.07297, -83.1347),\n",
       " (39.07202, -84.51907),\n",
       " (41.46747, -81.75909),\n",
       " (40.82645, -81.39675),\n",
       " (40.82645, -81.39675),\n",
       " (39.05654000000001, -84.54283000000002),\n",
       " (39.06272, -84.65728),\n",
       " (39.03368, -84.59527),\n",
       " (40.02121, -82.99503),\n",
       " (39.866695, -84.9305),\n",
       " (39.05654000000001, -84.54283000000002),\n",
       " (39.03232, -84.59137),\n",
       " (41.04058, -81.61256999999998),\n",
       " (40.98884, -83.64875),\n",
       " (39.95658, -83.37075),\n",
       " (39.89857, -83.72139),\n",
       " (39.896448, -83.72312099999998),\n",
       " (41.47965, -81.66758),\n",
       " (39.71548, -84.22033),\n",
       " (40.0389, -85.71828000000002),\n",
       " (41.17516, -81.23116999999998),\n",
       " (41.15107, -81.21375),\n",
       " (40.0389, -85.71828000000002),\n",
       " (39.99336, -85.83861999999998),\n",
       " (40.46013, -80.19126),\n",
       " (41.68976, -83.666),\n",
       " (39.97326, -83.00690999999998),\n",
       " (39.48572, -83.94191),\n",
       " (39.83355, -85.99635),\n",
       " (39.79721, -85.97153),\n",
       " (39.98056, -83.11924),\n",
       " (41.458, -83.62243000000002),\n",
       " (39.905352, -82.995352),\n",
       " (39.99921, -83.02875),\n",
       " (40.869049, -81.95845600000001),\n",
       " (41.419021, -81.519515),\n",
       " (39.34392, -84.39043000000002),\n",
       " (39.9454, -82.60271),\n",
       " (38.353957, -81.73513100000002),\n",
       " (38.354505, -81.731585),\n",
       " (41.501623, -81.479519),\n",
       " (39.86477, -83.99871),\n",
       " (38.737813, -85.250959),\n",
       " (40.00507, -83.1186),\n",
       " (39.91978, -82.93149),\n",
       " (39.09757000000001, -84.51666),\n",
       " (41.07995, -81.50389),\n",
       " (41.63316, -83.54203000000003),\n",
       " (39.82529, -83.03175999999998),\n",
       " (39.83209, -82.99884),\n",
       " (39.83208, -83.000447),\n",
       " (38.416631, -84.861968),\n",
       " (40.55549, -80.11634000000002),\n",
       " (39.17736, -84.4873),\n",
       " (41.484589, -81.691778),\n",
       " (41.22734000000001, -81.62705),\n",
       " (39.04695, -84.57498000000002),\n",
       " (39.25595, -84.44287),\n",
       " (39.8888, -82.88181999999998),\n",
       " (39.74729, -84.21426),\n",
       " (39.97415, -83.09486),\n",
       " (39.08272, -84.52264),\n",
       " (39.949808, -83.02289300000002),\n",
       " (39.95141, -83.0137),\n",
       " (38.7056, -80.66107),\n",
       " (39.1479, -84.53929000000002),\n",
       " (41.7573, -83.48075),\n",
       " (39.98946, -85.9299),\n",
       " (39.98894, -83.025012),\n",
       " (41.110996, -80.82384),\n",
       " (41.68685900000001, -83.554005),\n",
       " (41.53907, -81.63354),\n",
       " (39.300562, -84.518869),\n",
       " (41.202543, -85.7011),\n",
       " (39.19288, -84.47723),\n",
       " (40.07297, -83.1347),\n",
       " (39.140991, -84.483618),\n",
       " (41.121599, -80.789503),\n",
       " (41.31438, -81.51286),\n",
       " (39.85922, -84.27762),\n",
       " (40.42005, -80.03531),\n",
       " (39.9589, -82.98257),\n",
       " (39.89087, -83.85382),\n",
       " (39.89862, -83.85353),\n",
       " (40.03938, -83.050567),\n",
       " (41.41218, -81.61371),\n",
       " (38.306159, -80.833765),\n",
       " (40.104, -82.94154),\n",
       " (38.24178, -85.62212),\n",
       " (41.55264, -81.60032),\n",
       " (39.99226, -82.98517),\n",
       " (38.31553, -85.58313000000003),\n",
       " (38.400331, -85.371049),\n",
       " (38.31251, -85.57741999999998),\n",
       " (38.400331, -85.371049),\n",
       " (39.88938, -82.88316),\n",
       " (38.15873, -80.90504),\n",
       " (39.9745, -83.09654),\n",
       " (41.47487, -81.72095),\n",
       " (39.26931, -84.4307),\n",
       " (38.2201, -85.82223),\n",
       " (41.48339, -81.66297),\n",
       " (39.16161, -84.51375),\n",
       " (41.42734, -82.08322),\n",
       " (41.52631, -83.62123000000003),\n",
       " (39.91732, -83.012335),\n",
       " (41.60867, -81.48891),\n",
       " (41.20554, -85.17116),\n",
       " (41.507189, -81.67124),\n",
       " (39.97415, -83.09486),\n",
       " (39.97043, -83.01961999999997),\n",
       " (39.93849, -82.84849),\n",
       " (39.89698, -83.03428000000002),\n",
       " (39.71452, -84.22281),\n",
       " (40.11468, -83.01644),\n",
       " (38.34244, -85.80447),\n",
       " (41.47036, -81.65984),\n",
       " (38.30056, -85.84703),\n",
       " (39.169389, -84.50389),\n",
       " (39.936838, -83.042661),\n",
       " (39.937567, -83.04209200000003),\n",
       " (39.9425, -82.53536),\n",
       " (39.27125, -84.35176),\n",
       " (41.398877, -83.616108),\n",
       " (39.24422, -84.30224),\n",
       " (40.412997, -80.07973299999998),\n",
       " (39.021521, -84.50784300000002),\n",
       " (41.12367, -80.76913),\n",
       " (41.073876, -83.66091999999998),\n",
       " (39.01992, -83.65886),\n",
       " (38.97914, -83.65465),\n",
       " (40.09927, -83.15793000000002),\n",
       " (39.93658, -83.00941999999998),\n",
       " (39.11543, -84.50003000000002),\n",
       " (41.474552, -81.711522),\n",
       " (39.78517, -84.18457),\n",
       " (41.47974, -81.6667),\n",
       " (38.27719, -85.69383),\n",
       " (38.495124, -85.771118),\n",
       " (39.73277, -84.20522),\n",
       " (41.458, -83.62243000000002),\n",
       " (39.045381, -84.462312),\n",
       " (41.526, -81.65974),\n",
       " (40.78725, -81.38592),\n",
       " (38.3657, -85.75495),\n",
       " (39.02575, -84.61272),\n",
       " (40.90923, -81.79765),\n",
       " (40.91649, -81.78869),\n",
       " (39.10051, -80.39199),\n",
       " (40.082643, -82.91367199999998),\n",
       " (41.47162, -81.90626),\n",
       " (40.08155, -82.91859000000002),\n",
       " (40.07976, -82.92689),\n",
       " (38.27511, -85.81238),\n",
       " (39.02908, -84.53565),\n",
       " (39.04455, -84.57798000000003),\n",
       " (39.83026, -81.45434),\n",
       " (39.81436, -81.46898),\n",
       " (38.41336, -82.3483),\n",
       " (38.20674, -85.74846),\n",
       " (38.10937, -85.70123000000002),\n",
       " (40.26758, -82.92745),\n",
       " (38.22285, -85.57436),\n",
       " (40.43827, -80.00527),\n",
       " (39.08272, -84.52264),\n",
       " (40.046599, -85.99359),\n",
       " (41.67904, -83.5732),\n",
       " (40.52225, -80.06666),\n",
       " (41.041763, -81.3932),\n",
       " (39.02541, -85.88784),\n",
       " (39.887572, -84.047499),\n",
       " (39.90803, -84.03969000000002),\n",
       " (39.8181, -81.45925),\n",
       " (39.8181, -81.45925),\n",
       " (39.81447, -81.46769),\n",
       " (41.47307, -80.36586),\n",
       " (41.460561, -80.366376),\n",
       " (39.75022, -84.19668),\n",
       " (39.16161, -84.51375),\n",
       " (39.82329, -84.166569),\n",
       " (39.818751, -84.167637),\n",
       " (39.15267, -84.5395),\n",
       " (40.480209, -85.719799),\n",
       " (39.02676, -84.61421),\n",
       " (40.480209, -85.719799),\n",
       " (40.48013, -85.72942900000002),\n",
       " (38.24863, -85.70467),\n",
       " (39.24907, -84.44561999999998),\n",
       " (39.18364, -84.48373000000002),\n",
       " (41.420898, -81.69322),\n",
       " (39.18976, -84.26285),\n",
       " (40.00921, -83.03149),\n",
       " (41.12369, -80.75595),\n",
       " (41.09705, -81.50012),\n",
       " (41.03011, -81.40292099999998),\n",
       " (39.9533, -83.0032),\n",
       " (39.91404, -83.01729),\n",
       " (39.11811, -84.49975),\n",
       " (39.73277, -84.20522),\n",
       " (41.47379, -81.69592),\n",
       " (41.47395, -81.69931),\n",
       " (39.62334, -81.83577),\n",
       " (39.98233, -82.98449000000002),\n",
       " (40.15106, -80.03243),\n",
       " (41.66332, -83.56385999999998),\n",
       " (39.35245, -84.37507),\n",
       " (41.67178, -83.6939),\n",
       " (38.38018, -82.60993),\n",
       " (39.03347, -84.603),\n",
       " (40.42116, -80.0438),\n",
       " (41.341147, -83.347543),\n",
       " (41.34131, -83.376561),\n",
       " (40.26758, -82.92745),\n",
       " (40.432459, -80.023538),\n",
       " (39.9912, -85.9188),\n",
       " (39.05654000000001, -84.54283000000002),\n",
       " (38.39328, -85.76223),\n",
       " (39.97165800000001, -80.017133),\n",
       " (39.98381, -80.01011),\n",
       " (39.84457, -85.51639399999998),\n",
       " (38.399528, -85.76430500000002),\n",
       " (38.38981, -81.76937),\n",
       " (41.47965, -81.66758),\n",
       " (39.97859, -82.9763),\n",
       " (40.68109000000001, -80.24616999999998),\n",
       " (41.47487, -81.72095),\n",
       " (40.68109000000001, -80.24616999999998),\n",
       " (40.1412, -82.97121),\n",
       " (39.85942, -84.27778),\n",
       " (39.10838, -84.50296999999998),\n",
       " (39.32662, -84.42002),\n",
       " (39.24907, -84.44561999999998),\n",
       " (41.11959, -81.64568),\n",
       " (39.04455, -84.57798000000003),\n",
       " (38.26109, -85.73695),\n",
       " (38.21911, -85.50582),\n",
       " (39.94976, -83.04032),\n",
       " (38.82584, -120.029214),\n",
       " (37.358209, -121.840017),\n",
       " (37.881943, -122.307987),\n",
       " (37.881038, -122.307788),\n",
       " (38.518811, -121.101664),\n",
       " (38.518811, -121.101664),\n",
       " (36.9903, -119.71146),\n",
       " (37.42592, -122.09879),\n",
       " (37.75745, -122.21131),\n",
       " (37.31648, -121.96746),\n",
       " (37.44415, -122.2688),\n",
       " (37.71981, -121.65943),\n",
       " ...]"
      ]
     },
     "execution_count": 58,
     "metadata": {},
     "output_type": "execute_result"
    }
   ],
   "source": [
    "list(zip(list(df.Start_Lat),list(df.Start_Lng)))"
   ]
  },
  {
   "cell_type": "code",
   "execution_count": 59,
   "metadata": {
    "executionInfo": {
     "elapsed": 13,
     "status": "ok",
     "timestamp": 1678507496261,
     "user": {
      "displayName": "Amit Dhande",
      "userId": "10537376303475725898"
     },
     "user_tz": -330
    },
    "id": "OVrB-Oqx7KRq"
   },
   "outputs": [],
   "source": [
    "from folium.plugins import HeatMap"
   ]
  },
  {
   "cell_type": "code",
   "execution_count": 60,
   "metadata": {
    "executionInfo": {
     "elapsed": 12,
     "status": "ok",
     "timestamp": 1678507496261,
     "user": {
      "displayName": "Amit Dhande",
      "userId": "10537376303475725898"
     },
     "user_tz": -330
    },
    "id": "Lsc3IWN-HpQV"
   },
   "outputs": [],
   "source": [
    "sample_df= df.sample(int(0.01 * len(df)))\n",
    "lat_lon_pairs =list(zip(list(sample_df.Start_Lat),list(sample_df.Start_Lng))) "
   ]
  },
  {
   "cell_type": "code",
   "execution_count": 61,
   "metadata": {
    "colab": {
     "base_uri": "https://localhost:8080/",
     "height": 689
    },
    "executionInfo": {
     "elapsed": 13,
     "status": "ok",
     "timestamp": 1678507496263,
     "user": {
      "displayName": "Amit Dhande",
      "userId": "10537376303475725898"
     },
     "user_tz": -330
    },
    "id": "EuyuudvW5Hol",
    "outputId": "f0c233c0-b740-454f-9a09-696f41a81c9f"
   },
   "outputs": [
    {
     "data": {
      "text/html": [
       "<div style=\"width:100%;\"><div style=\"position:relative;width:100%;height:0;padding-bottom:60%;\"><span style=\"color:#565656\">Make this Notebook Trusted to load map: File -> Trust Notebook</span><iframe srcdoc=\"&lt;!DOCTYPE html&gt;\n",
       "&lt;html&gt;\n",
       "&lt;head&gt;\n",
       "    \n",
       "    &lt;meta http-equiv=&quot;content-type&quot; content=&quot;text/html; charset=UTF-8&quot; /&gt;\n",
       "    \n",
       "        &lt;script&gt;\n",
       "            L_NO_TOUCH = false;\n",
       "            L_DISABLE_3D = false;\n",
       "        &lt;/script&gt;\n",
       "    \n",
       "    &lt;style&gt;html, body {width: 100%;height: 100%;margin: 0;padding: 0;}&lt;/style&gt;\n",
       "    &lt;style&gt;#map {position:absolute;top:0;bottom:0;right:0;left:0;}&lt;/style&gt;\n",
       "    &lt;script src=&quot;https://cdn.jsdelivr.net/npm/leaflet@1.6.0/dist/leaflet.js&quot;&gt;&lt;/script&gt;\n",
       "    &lt;script src=&quot;https://code.jquery.com/jquery-1.12.4.min.js&quot;&gt;&lt;/script&gt;\n",
       "    &lt;script src=&quot;https://maxcdn.bootstrapcdn.com/bootstrap/3.2.0/js/bootstrap.min.js&quot;&gt;&lt;/script&gt;\n",
       "    &lt;script src=&quot;https://cdnjs.cloudflare.com/ajax/libs/Leaflet.awesome-markers/2.0.2/leaflet.awesome-markers.js&quot;&gt;&lt;/script&gt;\n",
       "    &lt;link rel=&quot;stylesheet&quot; href=&quot;https://cdn.jsdelivr.net/npm/leaflet@1.6.0/dist/leaflet.css&quot;/&gt;\n",
       "    &lt;link rel=&quot;stylesheet&quot; href=&quot;https://maxcdn.bootstrapcdn.com/bootstrap/3.2.0/css/bootstrap.min.css&quot;/&gt;\n",
       "    &lt;link rel=&quot;stylesheet&quot; href=&quot;https://maxcdn.bootstrapcdn.com/bootstrap/3.2.0/css/bootstrap-theme.min.css&quot;/&gt;\n",
       "    &lt;link rel=&quot;stylesheet&quot; href=&quot;https://maxcdn.bootstrapcdn.com/font-awesome/4.6.3/css/font-awesome.min.css&quot;/&gt;\n",
       "    &lt;link rel=&quot;stylesheet&quot; href=&quot;https://cdnjs.cloudflare.com/ajax/libs/Leaflet.awesome-markers/2.0.2/leaflet.awesome-markers.css&quot;/&gt;\n",
       "    &lt;link rel=&quot;stylesheet&quot; href=&quot;https://cdn.jsdelivr.net/gh/python-visualization/folium/folium/templates/leaflet.awesome.rotate.min.css&quot;/&gt;\n",
       "    \n",
       "            &lt;meta name=&quot;viewport&quot; content=&quot;width=device-width,\n",
       "                initial-scale=1.0, maximum-scale=1.0, user-scalable=no&quot; /&gt;\n",
       "            &lt;style&gt;\n",
       "                #map_4daa3a4509f44f972727f132341dd57f {\n",
       "                    position: relative;\n",
       "                    width: 100.0%;\n",
       "                    height: 100.0%;\n",
       "                    left: 0.0%;\n",
       "                    top: 0.0%;\n",
       "                }\n",
       "            &lt;/style&gt;\n",
       "        \n",
       "    &lt;script src=&quot;https://cdn.jsdelivr.net/gh/python-visualization/folium@master/folium/templates/leaflet_heat.min.js&quot;&gt;&lt;/script&gt;\n",
       "&lt;/head&gt;\n",
       "&lt;body&gt;\n",
       "    \n",
       "    \n",
       "            &lt;div class=&quot;folium-map&quot; id=&quot;map_4daa3a4509f44f972727f132341dd57f&quot; &gt;&lt;/div&gt;\n",
       "        \n",
       "&lt;/body&gt;\n",
       "&lt;script&gt;\n",
       "    \n",
       "    \n",
       "            var map_4daa3a4509f44f972727f132341dd57f = L.map(\n",
       "                &quot;map_4daa3a4509f44f972727f132341dd57f&quot;,\n",
       "                {\n",
       "                    center: [0, 0],\n",
       "                    crs: L.CRS.EPSG3857,\n",
       "                    zoom: 1,\n",
       "                    zoomControl: true,\n",
       "                    preferCanvas: false,\n",
       "                }\n",
       "            );\n",
       "\n",
       "            \n",
       "\n",
       "        \n",
       "    \n",
       "            var tile_layer_c8e36ba24b65cd2ad2dd5476268bca0e = L.tileLayer(\n",
       "                &quot;https://{s}.tile.openstreetmap.org/{z}/{x}/{y}.png&quot;,\n",
       "                {&quot;attribution&quot;: &quot;Data by \\u0026copy; \\u003ca href=\\&quot;http://openstreetmap.org\\&quot;\\u003eOpenStreetMap\\u003c/a\\u003e, under \\u003ca href=\\&quot;http://www.openstreetmap.org/copyright\\&quot;\\u003eODbL\\u003c/a\\u003e.&quot;, &quot;detectRetina&quot;: false, &quot;maxNativeZoom&quot;: 18, &quot;maxZoom&quot;: 18, &quot;minZoom&quot;: 0, &quot;noWrap&quot;: false, &quot;opacity&quot;: 1, &quot;subdomains&quot;: &quot;abc&quot;, &quot;tms&quot;: false}\n",
       "            ).addTo(map_4daa3a4509f44f972727f132341dd57f);\n",
       "        \n",
       "    \n",
       "            var heat_map_5099ab7c007653706959086a7b17c00c = L.heatLayer(\n",
       "                [[33.753481, -118.015153], [37.915582, -122.327126], [30.406248, -97.674495], [33.87548, -117.26543999999998], [33.428515999999995, -112.09932], [34.055612, -117.165342], [33.994508, -117.88671399999998], [29.96642, -90.07137], [33.004809, -80.234406], [34.723869, -83.016322], [40.90858, -74.17585], [38.940809, -77.205732], [28.482248, -81.396664], [45.060121, -123.580233], [37.58829, -77.57248], [27.447751, -82.573305], [42.378891, -83.206597], [34.490019000000004, -82.479423], [25.930202, -80.188344], [36.113873, -86.8099], [27.458623, -82.556925], [25.86293, -80.32267], [33.965489, -118.309494], [33.810041, -118.29025], [33.788359, -117.993938], [37.834723, -122.294706], [38.501935, -90.322309], [35.67088, -78.70638000000002], [42.62189, -71.17685], [37.799427, -112.814922], [30.382662, -81.556219], [45.231346, -94.939782], [40.74499, -112.64178], [40.742882, -73.830539], [45.563456, -94.13646], [34.194404, -117.365825], [38.557036, -121.446347], [34.674416, -92.369158], [25.737922, -80.31981400000002], [32.880302, -96.850566], [46.590446, -112.924107], [36.815754, -119.785525], [38.657536, -121.057107], [37.359288, -77.431375], [40.686702, -111.902708], [42.23447, -83.437353], [39.77537, -104.86073600000002], [38.79405, -77.15101], [28.637764, -81.41506600000002], [44.18037800000001, -122.120851], [28.364788, -80.700182], [34.108066, -118.330836], [30.21083, -81.51371999999998], [34.746691, -92.365691], [46.80363300000001, -92.067988], [42.008546, -71.84546], [37.0332, -76.36363], [39.055452, -94.482412], [39.900221, -104.988178], [35.039228, -120.486907], [40.728536, -74.10337], [34.135991, -117.374807], [45.507844, -122.721845], [33.946811, -118.30025], [30.303543, -89.73121], [33.90215, -118.1048], [28.413478, -81.423153], [41.621952, -72.69233], [34.15542, -118.40082], [34.012511, -118.41851], [39.09088, -77.17518000000003], [37.68307, -122.12673999999998], [39.59641, -76.059669], [40.0679, -76.29871999999997], [38.375132, -81.671211], [33.69575, -117.86392], [30.243483, -82.741116], [34.012244, -118.497194], [38.160197, -121.259993], [39.684471, -75.586913], [30.416647, -91.143201], [25.010744, -80.515575], [32.917483000000004, -96.898301], [33.759821, -117.831182], [34.05763, -118.17216], [38.574718, -121.380989], [27.006357, -80.208488], [39.33181, -80.23074], [40.885841, -73.896632], [29.404305, -98.557048], [34.818087, -92.332094], [44.629481, -123.042409], [34.403443, -79.359425], [34.10917, -117.52893], [33.949791999999995, -118.091827], [34.035848, -117.322536], [34.085394, -78.09568900000002], [28.413918, -81.83100999999998], [40.73752, -73.85096], [42.26322, -71.57216]],\n",
       "                {&quot;blur&quot;: 15, &quot;maxZoom&quot;: 18, &quot;minOpacity&quot;: 0.5, &quot;radius&quot;: 25}\n",
       "            ).addTo(map_4daa3a4509f44f972727f132341dd57f);\n",
       "        \n",
       "&lt;/script&gt;\n",
       "&lt;/html&gt;\" style=\"position:absolute;width:100%;height:100%;left:0;top:0;border:none !important;\" allowfullscreen webkitallowfullscreen mozallowfullscreen></iframe></div></div>"
      ],
      "text/plain": [
       "<folium.folium.Map at 0x7f914fb8dd30>"
      ]
     },
     "execution_count": 61,
     "metadata": {},
     "output_type": "execute_result"
    }
   ],
   "source": [
    "map=folium.Map()\n",
    "HeatMap(lat_lon_pairs[:100]).add_to(map)\n",
    "map"
   ]
  },
  {
   "cell_type": "markdown",
   "metadata": {
    "id": "LPsK7RpcAZUP"
   },
   "source": [
    "### End_Lat & End_Lng"
   ]
  },
  {
   "cell_type": "code",
   "execution_count": 86,
   "metadata": {
    "colab": {
     "base_uri": "https://localhost:8080/"
    },
    "executionInfo": {
     "elapsed": 396,
     "status": "ok",
     "timestamp": 1678509751042,
     "user": {
      "displayName": "Amit Dhande",
      "userId": "10537376303475725898"
     },
     "user_tz": -330
    },
    "id": "ouuGUFMd9g4S",
    "outputId": "a27a6b5d-bdbc-4664-8435-88a59a71529e"
   },
   "outputs": [
    {
     "data": {
      "text/plain": [
       "0          40.112060\n",
       "1          39.865010\n",
       "2          39.102090\n",
       "3          41.062170\n",
       "4          39.170476\n",
       "             ...    \n",
       "2845337    33.998880\n",
       "2845338    32.765550\n",
       "2845339    33.777400\n",
       "2845340    33.983110\n",
       "2845341    34.137360\n",
       "Name: End_Lat, Length: 2845342, dtype: float64"
      ]
     },
     "execution_count": 86,
     "metadata": {},
     "output_type": "execute_result"
    }
   ],
   "source": [
    "df.End_Lat"
   ]
  },
  {
   "cell_type": "code",
   "execution_count": 87,
   "metadata": {
    "colab": {
     "base_uri": "https://localhost:8080/"
    },
    "executionInfo": {
     "elapsed": 627,
     "status": "ok",
     "timestamp": 1678509892685,
     "user": {
      "displayName": "Amit Dhande",
      "userId": "10537376303475725898"
     },
     "user_tz": -330
    },
    "id": "abcHurHH9g8m",
    "outputId": "e4f9d978-9de2-4cda-ab1b-0526afb5e321"
   },
   "outputs": [
    {
     "data": {
      "text/plain": [
       "0          -83.031870\n",
       "1          -84.048730\n",
       "2          -84.523960\n",
       "3          -81.535470\n",
       "4          -84.501798\n",
       "              ...    \n",
       "2845337   -117.370940\n",
       "2845338   -117.153630\n",
       "2845339   -117.857270\n",
       "2845340   -118.395650\n",
       "2845341   -117.239340\n",
       "Name: End_Lng, Length: 2845342, dtype: float64"
      ]
     },
     "execution_count": 87,
     "metadata": {},
     "output_type": "execute_result"
    }
   ],
   "source": [
    "df.End_Lng"
   ]
  },
  {
   "cell_type": "code",
   "execution_count": 88,
   "metadata": {
    "colab": {
     "base_uri": "https://localhost:8080/",
     "height": 301
    },
    "executionInfo": {
     "elapsed": 1714,
     "status": "ok",
     "timestamp": 1678509992669,
     "user": {
      "displayName": "Amit Dhande",
      "userId": "10537376303475725898"
     },
     "user_tz": -330
    },
    "id": "v5FnD_-A_CGD",
    "outputId": "3acf8114-6e93-4f79-8392-e4addca654c5"
   },
   "outputs": [
    {
     "data": {
      "text/plain": [
       "<AxesSubplot:xlabel='End_Lng', ylabel='End_Lat'>"
      ]
     },
     "execution_count": 88,
     "metadata": {},
     "output_type": "execute_result"
    },
    {
     "data": {
      "image/png": "[encoded data removed]",
      "text/plain": [
       "<Figure size 432x288 with 1 Axes>"
      ]
     },
     "metadata": {},
     "output_type": "display_data"
    }
   ],
   "source": [
    "\n",
    "sns.scatterplot(x=sample_df.End_Lng,y=sample_df.End_Lat,size=0.001,color=next(colors))"
   ]
  },
  {
   "cell_type": "code",
   "execution_count": 89,
   "metadata": {
    "colab": {
     "base_uri": "https://localhost:8080/"
    },
    "executionInfo": {
     "elapsed": 2754,
     "status": "ok",
     "timestamp": 1678510066879,
     "user": {
      "displayName": "Amit Dhande",
      "userId": "10537376303475725898"
     },
     "user_tz": -330
    },
    "id": "c8qW9q1s_CJ5",
    "outputId": "7e638dea-5d03-46b6-fb8b-e600a3cf6d3f"
   },
   "outputs": [
    {
     "data": {
      "text/plain": [
       "[(40.11206, -83.03187),\n",
       " (39.86501, -84.04873),\n",
       " (39.10209, -84.52396),\n",
       " (41.06217, -81.53546999999998),\n",
       " (39.170476, -84.501798),\n",
       " (39.06731, -84.05851),\n",
       " (39.77275, -84.18805),\n",
       " (41.36786, -81.82174),\n",
       " (40.69911, -84.084293),\n",
       " (40.11078, -82.984),\n",
       " (39.19615, -84.47335),\n",
       " (39.13977, -84.5343),\n",
       " (41.47388, -81.70559),\n",
       " (39.603013, -83.63731899999998),\n",
       " (40.151747, -81.312682),\n",
       " (40.151785, -81.312635),\n",
       " (39.98529, -82.85667),\n",
       " (39.9725, -82.84746),\n",
       " (40.01228, -82.99218),\n",
       " (41.666124, -83.566335),\n",
       " (40.98982, -85.26986),\n",
       " (39.03475, -84.60007),\n",
       " (40.02246, -82.99515),\n",
       " (39.86441, -84.21554),\n",
       " (39.14745, -84.53923),\n",
       " (39.30457, -85.96284),\n",
       " (39.76485, -84.09274),\n",
       " (39.97609, -83.11068),\n",
       " (39.58444, -85.82301),\n",
       " (39.45279, -85.62799999999999),\n",
       " (39.36277000000001, -85.51655),\n",
       " (39.74883, -84.13401999999998),\n",
       " (39.26867, -81.49909),\n",
       " (39.86025, -85.96623000000002),\n",
       " (41.95939, -83.67235),\n",
       " (38.28558, -85.75518000000002),\n",
       " (41.95939, -83.67235),\n",
       " (40.5283, -80.07188000000002),\n",
       " (40.48614, -80.009008),\n",
       " (40.15332100000001, -83.01820500000002),\n",
       " (41.47023, -81.74188000000002),\n",
       " (41.06193, -81.54149),\n",
       " (40.35429, -85.14993),\n",
       " (40.45112, -85.15048),\n",
       " (39.74408, -85.13749),\n",
       " (39.75855, -85.13715),\n",
       " (39.976605, -83.02107099999998),\n",
       " (40.74559, -84.78962),\n",
       " (39.85227, -85.26281999999998),\n",
       " (41.47442, -81.71181999999997),\n",
       " (41.84149, -80.11099),\n",
       " (39.75052, -84.20541),\n",
       " (39.71767, -84.21632),\n",
       " (39.73167, -84.2058),\n",
       " (41.715052, -84.951306),\n",
       " (40.06376, -82.99679),\n",
       " (38.18104, -85.72116),\n",
       " (38.20648, -85.82785),\n",
       " (38.27191, -85.80838),\n",
       " (39.93844, -82.84829),\n",
       " (41.036015, -81.579895),\n",
       " (39.93271, -83.61197),\n",
       " (41.858231, -80.17644399999998),\n",
       " (39.89923, -82.90135),\n",
       " (39.00263, -80.22646999999998),\n",
       " (41.66553, -83.56532),\n",
       " (41.47692, -81.66075),\n",
       " (41.50311, -81.47745),\n",
       " (39.72395, -82.9867),\n",
       " (41.71039, -81.17253000000002),\n",
       " (41.66819, -81.25265),\n",
       " (41.4453, -81.77379),\n",
       " (39.76697, -84.19893),\n",
       " (41.49859, -81.48380999999998),\n",
       " (40.020034, -80.175188),\n",
       " (38.39031, -81.76928000000002),\n",
       " (41.04078, -81.61203),\n",
       " (41.47442, -81.71181999999997),\n",
       " (41.62873, -84.80369),\n",
       " (41.62866, -84.80561999999998),\n",
       " (41.15666, -81.78645999999998),\n",
       " (41.735609, -84.982632),\n",
       " (41.62866, -84.80561999999998),\n",
       " (39.74876, -84.20146),\n",
       " (41.411, -81.66885),\n",
       " (41.42192, -81.8429),\n",
       " (38.80878, -84.49638),\n",
       " (38.79691, -84.48273),\n",
       " (38.30011, -85.84846),\n",
       " (38.33614, -81.65623000000002),\n",
       " (38.33667, -81.65623000000002),\n",
       " (41.10186, -81.59000999999998),\n",
       " (41.119121, -85.189639),\n",
       " (38.806587, -80.66277600000002),\n",
       " (40.05456, -83.03166),\n",
       " (41.36828, -81.51647),\n",
       " (39.1765, -84.48756999999998),\n",
       " (39.75424, -84.15598),\n",
       " (39.1765, -84.48756999999998),\n",
       " (41.11921, -81.63658000000002),\n",
       " (38.33667, -81.65623000000002),\n",
       " (41.10123, -81.50007),\n",
       " (39.16359, -84.44951999999998),\n",
       " (40.1123, -83.03781),\n",
       " (38.32946, -85.75373),\n",
       " (39.10414, -84.50438),\n",
       " (41.47391, -81.703564),\n",
       " (41.039994, -81.565332),\n",
       " (41.73569000000001, -84.99399),\n",
       " (39.27422, -84.44023),\n",
       " (41.4716, -81.81916),\n",
       " (41.25666, -81.63157),\n",
       " (40.58919, -80.09885),\n",
       " (41.06203, -81.504711),\n",
       " (41.06247000000001, -81.51023),\n",
       " (39.1737, -84.49091999999997),\n",
       " (38.34442, -81.61366),\n",
       " (41.4743, -81.69724000000002),\n",
       " (40.58919, -80.09885),\n",
       " (41.41367, -81.64345),\n",
       " (39.25414, -84.44331),\n",
       " (39.29005, -84.39123000000002),\n",
       " (41.46866, -81.95449),\n",
       " (41.5525, -81.60025),\n",
       " (39.01946, -84.62035),\n",
       " (39.74733, -84.21301),\n",
       " (39.89642, -83.04687),\n",
       " (39.19334, -84.47698000000003),\n",
       " (39.22518, -84.45309),\n",
       " (39.15524, -84.44117),\n",
       " (39.97033, -82.98413000000002),\n",
       " (40.529455, -80.03506999999998),\n",
       " (40.535447, -80.03596),\n",
       " (41.49495, -81.68196),\n",
       " (41.0634, -81.49079),\n",
       " (39.75052, -84.20541),\n",
       " (41.46866, -81.95449),\n",
       " (41.96429000000001, -83.35018000000002),\n",
       " (41.19189, -80.24637),\n",
       " (40.42642, -85.54938),\n",
       " (39.97527, -85.14018),\n",
       " (40.42642, -85.54938),\n",
       " (40.27678, -85.55806),\n",
       " (39.98264, -85.14301999999998),\n",
       " (41.16722, -83.6497),\n",
       " (39.09875, -84.52119),\n",
       " (38.879317, -84.62519),\n",
       " (39.77093, -84.1928),\n",
       " (40.503456, -80.139196),\n",
       " (41.19661, -80.16752),\n",
       " (39.058008, -84.35856),\n",
       " (41.669943, -83.69336899999998),\n",
       " (40.53024, -80.00957),\n",
       " (40.04638, -82.99752),\n",
       " (40.4342, -79.99635),\n",
       " (41.4258, -81.75658),\n",
       " (39.45279, -85.62799999999999),\n",
       " (39.84037, -85.55421),\n",
       " (40.03833, -85.71948),\n",
       " (39.864781, -84.202359),\n",
       " (40.03744, -85.72343000000002),\n",
       " (39.82115, -85.77004000000002),\n",
       " (40.12519, -79.95815),\n",
       " (40.4342, -79.99635),\n",
       " (40.12519, -79.95815),\n",
       " (40.12519, -79.95815),\n",
       " (39.97418, -83.00344),\n",
       " (39.95928, -83.04736),\n",
       " (39.67907, -85.96786),\n",
       " (38.48923, -85.77188000000002),\n",
       " (38.33649000000001, -85.81711999999997),\n",
       " (39.97825, -83.02147),\n",
       " (38.54355, -85.7781),\n",
       " (38.18104, -85.72116),\n",
       " (39.89356, -83.04101),\n",
       " (41.39469, -85.28893000000002),\n",
       " (41.39546, -85.32855),\n",
       " (41.90569, -83.36915),\n",
       " (40.80059, -84.61374),\n",
       " (40.77137000000001, -84.62203000000002),\n",
       " (39.89356, -83.04101),\n",
       " (40.80059, -84.61374),\n",
       " (40.78593, -84.61787),\n",
       " (41.67274000000001, -83.57252),\n",
       " (41.4696, -81.81106),\n",
       " (38.31053, -85.75245),\n",
       " (39.12338, -84.53556999999998),\n",
       " (41.81755, -85.32291),\n",
       " (41.35535, -81.81926999999997),\n",
       " (39.34107, -84.39895),\n",
       " (39.825024, -83.151338),\n",
       " (38.82415, -85.63794),\n",
       " (38.824929, -85.47449499999998),\n",
       " (40.600487, -85.150502),\n",
       " (40.593244, -85.150017),\n",
       " (41.18483, -80.45009),\n",
       " (40.56744000000001, -85.14993),\n",
       " (40.55267, -85.14974000000002),\n",
       " (40.29145, -81.55699),\n",
       " (39.94348, -82.40391),\n",
       " (39.98407, -83.11864),\n",
       " (40.61824, -80.09567),\n",
       " (40.11218, -83.02084),\n",
       " (41.06472, -81.50414),\n",
       " (39.972875, -85.965902),\n",
       " (39.97368, -83.0835),\n",
       " (40.11218, -83.02084),\n",
       " (40.00631, -82.87275),\n",
       " (39.99008, -85.92858000000004),\n",
       " (41.31438, -81.51325),\n",
       " (41.12401, -80.677376),\n",
       " (41.11928, -80.6912),\n",
       " (40.05456, -83.03166),\n",
       " (38.11748, -85.76035300000002),\n",
       " (41.42336, -81.64497),\n",
       " (38.61838, -80.75247),\n",
       " (41.11882, -80.69266),\n",
       " (39.94916, -82.94373),\n",
       " (41.06268, -81.51988),\n",
       " (40.1119, -83.01663),\n",
       " (39.875819, -83.051608),\n",
       " (40.05188, -83.03256999999998),\n",
       " (41.13, -85.15408000000002),\n",
       " (41.18004000000001, -85.1033),\n",
       " (38.12853, -83.74765),\n",
       " (41.63548, -83.54284),\n",
       " (39.15228, -84.5412),\n",
       " (40.96051, -85.34522),\n",
       " (40.9605, -85.3528),\n",
       " (41.08156, -80.64523),\n",
       " (41.6217, -83.54185),\n",
       " (38.411198, -82.349767),\n",
       " (41.67571, -83.69385),\n",
       " (39.05753, -84.54183),\n",
       " (39.280307, -80.28075600000003),\n",
       " (38.36387, -81.73867),\n",
       " (40.0122, -82.90727),\n",
       " (41.53898, -81.63629),\n",
       " (41.16093, -81.46961999999998),\n",
       " (39.517216, -82.025802),\n",
       " (39.52352, -82.02360999999998),\n",
       " (40.325909, -83.071612),\n",
       " (41.75381, -85.43421),\n",
       " (39.14305, -84.48184),\n",
       " (39.82115, -85.77004000000002),\n",
       " (41.12877, -81.65219),\n",
       " (40.11036, -83.15869),\n",
       " (40.121827, -83.15136700000002),\n",
       " (41.57615, -81.55346),\n",
       " (40.11036, -83.15869),\n",
       " (40.121616, -83.151314),\n",
       " (41.04453, -81.69229),\n",
       " (41.40753, -81.63808),\n",
       " (39.26678, -84.35625999999998),\n",
       " (39.28615, -84.56214),\n",
       " (39.94817000000001, -82.21895),\n",
       " (39.1765, -84.48756999999998),\n",
       " (39.1737, -84.49091999999997),\n",
       " (39.94817000000001, -82.21895),\n",
       " (39.94817000000001, -82.21895),\n",
       " (41.68548, -83.5675),\n",
       " (41.66683, -83.56736),\n",
       " (39.26717, -84.34628000000002),\n",
       " (41.47865, -81.6931),\n",
       " (39.95816, -80.76231),\n",
       " (39.98564, -80.73999),\n",
       " (41.57785, -81.54899),\n",
       " (38.32603, -83.12193),\n",
       " (38.25962, -85.76688),\n",
       " (38.293235, -85.654685),\n",
       " (39.75639, -83.30702),\n",
       " (41.53926, -81.63025999999998),\n",
       " (39.08809, -84.52274),\n",
       " (38.25846, -85.7632),\n",
       " (41.55022, -81.60536),\n",
       " (39.02297, -84.51624),\n",
       " (41.06477, -81.57343),\n",
       " (40.49463, -80.01246),\n",
       " (41.49153, -81.67114000000002),\n",
       " (39.93172, -82.92729),\n",
       " (41.42065, -81.81108),\n",
       " (41.06477, -81.57343),\n",
       " (40.82802, -81.39715),\n",
       " (41.41817, -81.81766999999998),\n",
       " (41.14226, -85.13611),\n",
       " (38.870401, -84.624431),\n",
       " (41.47954, -81.65531),\n",
       " (40.29313, -80.16943),\n",
       " (39.14667, -84.45366999999997),\n",
       " (41.14589, -81.47551),\n",
       " (39.14981, -84.44584),\n",
       " (39.81978, -84.18983),\n",
       " (39.83889, -84.18975),\n",
       " (41.47023, -81.74188000000002),\n",
       " (39.17376, -84.47991999999998),\n",
       " (39.10234000000001, -84.49799999999998),\n",
       " (41.49922, -81.67178),\n",
       " (39.12338, -84.53556999999998),\n",
       " (41.47865, -81.6931),\n",
       " (39.97672, -83.12431),\n",
       " (39.85816, -84.27955),\n",
       " (39.25235, -84.36476),\n",
       " (38.31682, -85.57698),\n",
       " (39.24591, -84.36599),\n",
       " (39.29429, -84.36989),\n",
       " (39.13454, -84.53289000000002),\n",
       " (41.46101, -81.49124),\n",
       " (39.29367, -84.31562),\n",
       " (39.26717, -84.34628000000002),\n",
       " (38.20732, -85.75066),\n",
       " (40.26907, -82.92694),\n",
       " (41.47957, -81.66823000000002),\n",
       " (39.08887, -84.52271),\n",
       " (41.6882, -83.64064),\n",
       " (40.04638, -82.99752),\n",
       " (39.86554, -84.06065),\n",
       " (38.418107, -82.28627900000002),\n",
       " (41.47414000000001, -81.699832),\n",
       " (41.47418, -81.69581600000002),\n",
       " (40.10307, -83.12989),\n",
       " (40.053618, -80.676385),\n",
       " (38.19007, -85.73536),\n",
       " (38.26187, -85.73188),\n",
       " (39.1765, -84.48756999999998),\n",
       " (41.0625, -81.51523),\n",
       " (39.27422, -84.44023),\n",
       " (39.89923, -82.90135),\n",
       " (40.09826, -83.13456),\n",
       " (41.33738, -81.81721999999998),\n",
       " (40.10717, -82.95766),\n",
       " (39.47208, -80.12134),\n",
       " (41.46977, -81.74887),\n",
       " (38.34128, -81.70406),\n",
       " (41.163626, -85.24482900000002),\n",
       " (41.160009, -85.232528),\n",
       " (39.12338, -84.53556999999998),\n",
       " (40.945772, -81.17219399999998),\n",
       " (41.704523, -83.9136),\n",
       " (41.68591, -83.911307),\n",
       " (40.94537, -81.15473),\n",
       " (38.84111, -82.98432),\n",
       " (38.82445, -82.98299),\n",
       " (39.003968, -84.42433),\n",
       " (39.97002, -85.35153000000003),\n",
       " (39.26867, -81.49909),\n",
       " (40.42642, -85.54938),\n",
       " (40.27678, -85.55806),\n",
       " (38.131965, -81.39174100000002),\n",
       " (38.530883, -85.774975),\n",
       " (38.358832, -81.717444),\n",
       " (38.39614, -81.59262),\n",
       " (40.05915, -82.99840999999998),\n",
       " (40.02523, -82.9945),\n",
       " (41.68965, -83.52904000000002),\n",
       " (39.35249, -84.37607),\n",
       " (39.114581, -84.532211),\n",
       " (39.04827, -83.77199),\n",
       " (39.05029, -83.77673),\n",
       " (40.05089, -82.90272),\n",
       " (39.09841, -84.49),\n",
       " (40.43077, -80.02638),\n",
       " (41.438119, -85.15969399999999),\n",
       " (41.443708, -85.19285),\n",
       " (41.47442, -81.71181999999997),\n",
       " (39.05964, -84.416682),\n",
       " (39.22518, -84.45309),\n",
       " (41.096131, -81.499969),\n",
       " (41.1215, -81.48673000000002),\n",
       " (39.10234000000001, -84.49799999999998),\n",
       " (41.46786, -81.6927),\n",
       " (41.52492, -83.46009000000002),\n",
       " (41.52383, -83.46191999999998),\n",
       " (41.43592, -81.6825),\n",
       " (38.22295, -85.50419000000002),\n",
       " (40.82802, -81.39715),\n",
       " (38.22293, -85.50793),\n",
       " (39.12632, -84.53449),\n",
       " (39.09754, -84.52216),\n",
       " (39.63103, -84.20713),\n",
       " (40.39715, -80.10368000000003),\n",
       " (41.55022, -81.60536),\n",
       " (41.18225, -84.94275999999998),\n",
       " (39.09841, -84.52241),\n",
       " (41.54706, -83.60676),\n",
       " (38.45536, -81.49748000000002),\n",
       " (41.2363, -83.65434),\n",
       " (39.25135, -81.32426),\n",
       " (41.351335, -82.26144599999998),\n",
       " (41.345031, -82.285379),\n",
       " (38.38457, -81.804429),\n",
       " (40.41057, -80.00560899999998),\n",
       " (39.99881, -83.11846),\n",
       " (41.04245, -81.50519),\n",
       " (41.68901, -83.5409),\n",
       " (39.626237, -83.73105),\n",
       " (39.587784, -83.723939),\n",
       " (41.06203, -81.504711),\n",
       " (39.97033, -82.98413000000002),\n",
       " (39.94182, -83.01106999999998),\n",
       " (41.208579, -82.807829),\n",
       " (41.39914, -81.8168),\n",
       " (39.2875, -84.40252),\n",
       " (39.87203, -82.93335),\n",
       " (40.04873, -82.99743000000002),\n",
       " (39.97033, -82.98413000000002),\n",
       " (41.890234, -85.409642),\n",
       " (41.874915, -85.409527),\n",
       " (39.93467, -82.7846),\n",
       " (40.05188, -83.03256999999998),\n",
       " (40.005868, -82.915318),\n",
       " (39.88193, -83.04711999999998),\n",
       " (40.98436, -81.49002),\n",
       " (38.54355, -85.7781),\n",
       " (41.08153, -81.50362),\n",
       " (38.57822, -85.77896),\n",
       " (41.411, -81.66885),\n",
       " (38.580444, -85.77866),\n",
       " (39.814012, -84.084039),\n",
       " (38.303959000000006, -85.88481999999998),\n",
       " (39.95664, -83.37415),\n",
       " (39.93654, -83.40048),\n",
       " (39.17128, -84.40266),\n",
       " (40.01676, -83.03354),\n",
       " (39.94576, -85.63454),\n",
       " (39.97518, -85.63374),\n",
       " (40.2777, -85.67459000000002),\n",
       " (39.173643, -84.478397),\n",
       " (41.68395, -83.56978000000002),\n",
       " (41.66502, -85.02544),\n",
       " (41.68976, -83.666),\n",
       " (39.94448, -82.94219),\n",
       " (41.48338, -81.66281),\n",
       " (41.735607, -84.982292),\n",
       " (39.96847, -83.04476),\n",
       " (41.96429000000001, -83.35018000000002),\n",
       " (41.283091, -83.638885),\n",
       " (41.63663, -83.49134000000002),\n",
       " (41.471378, -85.839527),\n",
       " (41.427584, -85.8495),\n",
       " (41.47442, -81.71181999999997),\n",
       " (39.18583, -84.48269),\n",
       " (41.94497, -80.40208),\n",
       " (39.54323, -84.29281),\n",
       " (41.438773, -81.803398),\n",
       " (39.92986, -82.85977),\n",
       " (40.44374000000001, -80.02855),\n",
       " (39.976594, -83.129738),\n",
       " (39.97672, -83.12431),\n",
       " (39.97482, -83.12103),\n",
       " (39.97075, -83.11950999999998),\n",
       " (39.22375, -84.36332),\n",
       " (39.97073, -83.11941),\n",
       " (39.73167, -84.2058),\n",
       " (41.39914, -81.8168),\n",
       " (41.41371, -81.67271),\n",
       " (39.22518, -84.45309),\n",
       " (40.1119, -83.01663),\n",
       " (40.29313, -80.16943),\n",
       " (41.49243, -81.67554),\n",
       " (40.1836, -80.25914),\n",
       " (39.97368, -83.0835),\n",
       " (39.98511, -85.14406),\n",
       " (39.97527, -85.14018),\n",
       " (38.29905, -85.7535),\n",
       " (39.94143, -83.39224),\n",
       " (39.12965, -84.49555),\n",
       " (41.03075, -81.892714),\n",
       " (41.43592, -81.6825),\n",
       " (40.67137, -80.22581),\n",
       " (40.6664, -80.227514),\n",
       " (41.254786, -81.369883),\n",
       " (40.402251, -85.842969),\n",
       " (40.354252, -85.843032),\n",
       " (41.26705, -85.85486),\n",
       " (39.97844, -82.97351),\n",
       " (39.96392, -81.27197),\n",
       " (39.9672, -81.28699999999998),\n",
       " (41.53542, -83.61733000000002),\n",
       " (39.93297000000001, -82.83105),\n",
       " (39.07186, -84.51935999999998),\n",
       " (39.8552, -84.32836),\n",
       " (41.65458, -85.58601),\n",
       " (41.39413, -81.65326),\n",
       " (41.06239, -81.52229),\n",
       " (41.09731, -81.49995),\n",
       " (41.86726, -85.67069000000002),\n",
       " (38.151068, -80.92662),\n",
       " (41.5105, -85.57781),\n",
       " (41.52447, -85.57791),\n",
       " (39.89923, -82.90135),\n",
       " (41.198856, -81.481347),\n",
       " (38.772052, -80.675246),\n",
       " (39.22533, -84.37828),\n",
       " (40.777806, -80.125952),\n",
       " (38.913672, -80.58208),\n",
       " (39.83707, -83.09407),\n",
       " (39.87483, -83.05228000000002),\n",
       " (39.844826, -83.08717),\n",
       " (41.676364, -83.693898),\n",
       " (41.12929000000001, -85.16244),\n",
       " (39.10293, -84.52453),\n",
       " (41.53542, -83.61733000000002),\n",
       " (39.09875, -84.52119),\n",
       " (39.95423, -82.98879000000002),\n",
       " (39.20497, -84.46976),\n",
       " (39.955229, -82.98485500000002),\n",
       " (40.44126, -80.19314),\n",
       " (40.40934, -80.19247),\n",
       " (39.1765, -84.48756999999998),\n",
       " (39.1765, -84.48756999999998),\n",
       " (39.15256, -84.53893000000002),\n",
       " (39.77395, -85.14621),\n",
       " (41.67571, -83.69385),\n",
       " (41.67571, -83.69385),\n",
       " (39.28297, -84.36747),\n",
       " (41.45406, -83.62244),\n",
       " (39.07599, -84.51941),\n",
       " (38.268034, -85.750619),\n",
       " (40.444502, -80.02860600000002),\n",
       " (40.44304, -80.02526),\n",
       " (38.30011, -85.84846),\n",
       " (40.35449000000001, -80.13835999999998),\n",
       " (40.35405, -80.13756),\n",
       " (38.30011, -85.84846),\n",
       " (41.08513, -83.66004000000002),\n",
       " (41.02413, -80.90579),\n",
       " (41.02454, -80.92163000000002),\n",
       " (39.0885, -84.7939),\n",
       " (38.18542, -85.80893),\n",
       " (39.27632, -84.86596999999998),\n",
       " (39.16335, -84.42969000000002),\n",
       " (39.748584, -84.226078),\n",
       " (39.47208, -80.12134),\n",
       " (41.192833, -80.159467),\n",
       " (41.187807, -80.149019),\n",
       " (38.241722, -85.621928),\n",
       " (38.34374, -81.613217),\n",
       " (40.10307, -83.12989),\n",
       " (40.08403, -83.13039),\n",
       " (38.35382, -83.40553),\n",
       " (38.34631, -83.40449),\n",
       " (39.04726, -84.45498),\n",
       " (38.41443, -81.55113),\n",
       " (38.304786, -85.850364),\n",
       " (41.64344000000001, -83.54924),\n",
       " (38.207196, -85.750405),\n",
       " (39.97844, -82.97351),\n",
       " (39.18583, -84.48269),\n",
       " (41.68792, -83.56427),\n",
       " (41.66553, -83.56532),\n",
       " (39.22388, -84.36733000000002),\n",
       " (38.292205, -85.639708),\n",
       " (41.46679, -81.76572),\n",
       " (38.20732, -85.75066),\n",
       " (39.226316, -84.37109699999998),\n",
       " (41.6876, -83.54904),\n",
       " (40.15485, -84.22095999999998),\n",
       " (41.42234000000001, -81.73869),\n",
       " (38.297211, -85.754368),\n",
       " (39.17376, -84.47991999999998),\n",
       " (38.17393, -84.81367),\n",
       " (39.11923, -84.53517),\n",
       " (39.25235, -84.36476),\n",
       " (41.06174, -81.50089),\n",
       " (39.18583, -84.48269),\n",
       " (39.9871, -82.98557),\n",
       " (39.95092, -83.01485),\n",
       " (39.16362, -84.50805),\n",
       " (39.89552, -83.85418),\n",
       " (39.99384000000001, -82.98501999999998),\n",
       " (39.50841, -82.97357),\n",
       " (40.61824, -80.09567),\n",
       " (39.24518, -84.30315999999998),\n",
       " (39.11923, -84.53517),\n",
       " (41.43861, -81.79903),\n",
       " (40.016824, -82.904112),\n",
       " (39.10414, -84.50438),\n",
       " (41.06228, -81.52877),\n",
       " (39.12841, -84.49647),\n",
       " (39.097772, -84.515196),\n",
       " (41.31438, -81.51325),\n",
       " (41.353183, -81.51244100000002),\n",
       " (40.13189000000001, -80.132407),\n",
       " (40.12589000000001, -80.13661),\n",
       " (39.97073, -83.11941),\n",
       " (39.44135, -82.56107),\n",
       " (39.12338, -84.53556999999998),\n",
       " (38.10084000000001, -84.48764),\n",
       " (40.08627, -82.90724),\n",
       " (39.58444, -85.82301),\n",
       " (39.08809, -84.52274),\n",
       " (38.25875, -85.74555),\n",
       " (38.19365, -85.71099),\n",
       " (39.06035, -84.53317),\n",
       " (41.42336, -81.64497),\n",
       " (39.28543, -84.42344),\n",
       " (41.34758, -83.62365),\n",
       " (41.06169000000001, -81.506259),\n",
       " (41.53929, -81.62879000000002),\n",
       " (40.05188, -83.03256999999998),\n",
       " (41.13613, -81.72196),\n",
       " (39.08972, -84.47561999999998),\n",
       " (39.95465, -82.8444),\n",
       " (39.1765, -84.48756999999998),\n",
       " (39.16738, -84.42356),\n",
       " (39.00063, -80.38373),\n",
       " (39.1737, -84.49091999999997),\n",
       " (39.14325, -84.47165),\n",
       " (39.28881, -84.37566),\n",
       " (40.513361, -81.651599),\n",
       " (40.521732, -81.64755),\n",
       " (41.53542, -83.61733000000002),\n",
       " (38.998635, -80.21019799999998),\n",
       " (38.83826, -82.163974),\n",
       " (40.27716, -85.43713000000002),\n",
       " (40.51968, -80.13239),\n",
       " (39.83722, -84.53551999999998),\n",
       " (39.02326, -84.48139),\n",
       " (38.454276, -81.866824),\n",
       " (39.02297, -84.51624),\n",
       " (38.22811, -85.7514),\n",
       " (39.05985, -84.41724),\n",
       " (39.27632, -84.86596999999998),\n",
       " (41.47957, -81.66823000000002),\n",
       " (39.02326, -84.48139),\n",
       " (40.44856, -80.00708),\n",
       " (39.10419, -84.28204000000002),\n",
       " (41.06004, -81.55676),\n",
       " (41.771477, -83.69533),\n",
       " (38.01818, -84.1533),\n",
       " (38.07887, -83.94584),\n",
       " (38.30011, -85.84846),\n",
       " (38.95882, -85.84331),\n",
       " (41.14181, -80.72015999999998),\n",
       " (39.12841, -84.49647),\n",
       " (41.0379, -81.5051),\n",
       " (38.20942, -85.82739000000002),\n",
       " (39.74883, -84.13401999999998),\n",
       " (38.28612, -85.51094),\n",
       " (39.15273, -84.54140100000002),\n",
       " (38.235846, -85.658835),\n",
       " (38.2014, -85.69273000000003),\n",
       " (40.52035, -83.10043),\n",
       " (40.53491, -83.10678),\n",
       " (39.12965, -84.49555),\n",
       " (38.24374, -85.75246),\n",
       " (40.42109, -80.04389),\n",
       " (39.74204, -84.20492),\n",
       " (39.07186, -84.51935999999998),\n",
       " (39.781457, -85.839651),\n",
       " (39.781457, -85.839651),\n",
       " (41.06341, -81.4506),\n",
       " (39.693164, -83.882745),\n",
       " (39.688148, -83.88431),\n",
       " (39.953417, -83.041638),\n",
       " (41.10985, -81.60615),\n",
       " (39.797711, -84.18968100000002),\n",
       " (39.19777, -85.95871),\n",
       " (39.23596, -84.45087),\n",
       " (39.73835, -84.25588),\n",
       " (39.969828, -85.973112),\n",
       " (41.12877, -81.65219),\n",
       " (39.12841, -84.49647),\n",
       " (41.46192, -83.62201),\n",
       " (40.06052, -83.03096),\n",
       " (40.045608, -83.29660799999998),\n",
       " (40.066965, -83.289888),\n",
       " (39.98078, -82.95044),\n",
       " (39.981095, -85.11027299999998),\n",
       " (39.98248, -85.123922),\n",
       " (40.42924, -80.02441999999998),\n",
       " (40.43088, -80.02655),\n",
       " (39.976433, -83.123183),\n",
       " (41.252653, -85.347328),\n",
       " (41.34758, -83.62365),\n",
       " (41.256658, -85.363439),\n",
       " (39.94182, -83.01106999999998),\n",
       " (39.12338, -84.53556999999998),\n",
       " (40.1402, -82.97126),\n",
       " (39.89923, -82.90135),\n",
       " (39.12841, -84.49647),\n",
       " (40.41885, -80.34666999999997),\n",
       " (41.14107, -83.65875),\n",
       " (39.94969, -83.03882),\n",
       " (41.47585, -81.87980999999998),\n",
       " (39.11128, -84.50095999999998),\n",
       " (38.340337, -81.68436700000002),\n",
       " (40.95712, -85.2944),\n",
       " (38.4414, -82.01459),\n",
       " (38.44081, -82.12548000000002),\n",
       " (38.4414, -82.01459),\n",
       " (38.3317, -83.20607),\n",
       " (41.19446, -80.197162),\n",
       " (40.10887, -83.08686),\n",
       " (41.35635, -83.62114),\n",
       " (38.15982, -84.67779),\n",
       " (38.19016, -85.7616),\n",
       " (39.24591, -84.36599),\n",
       " (39.141454, -84.016543),\n",
       " (39.137217, -84.04718299999998),\n",
       " (38.35275, -81.62554),\n",
       " (41.92263, -83.36129),\n",
       " (40.89417, -84.62447),\n",
       " (40.46013, -80.19126),\n",
       " (41.119108, -80.697254),\n",
       " (41.121551, -80.704452),\n",
       " (39.14745, -84.53923),\n",
       " (38.27112, -85.80861999999998),\n",
       " (41.53542, -83.61733000000002),\n",
       " (39.384572, -84.215148),\n",
       " (38.4427, -81.48039),\n",
       " (41.02507, -81.50741),\n",
       " (38.27112, -85.80861999999998),\n",
       " (38.12022, -85.78089),\n",
       " (38.276899, -85.820368),\n",
       " (38.278587, -85.822274),\n",
       " (41.39706, -81.94198),\n",
       " (39.46784, -80.13192),\n",
       " (38.220664, -81.428336),\n",
       " (38.221177, -81.42954),\n",
       " (39.042853, -84.612617),\n",
       " (38.25962, -85.76688),\n",
       " (39.07599, -84.51941),\n",
       " (41.841123, -84.361652),\n",
       " (41.840758, -84.361657),\n",
       " (41.63548, -83.54284),\n",
       " (40.02874, -81.04368000000002),\n",
       " (41.43891, -81.80490999999998),\n",
       " (41.08452, -81.5029),\n",
       " (38.35473, -81.64931),\n",
       " (39.95342, -82.95512),\n",
       " (41.70436, -83.50166999999998),\n",
       " (40.11206, -83.03187),\n",
       " (41.50627, -81.67075),\n",
       " (39.99031, -83.02513),\n",
       " (41.483475, -81.692181),\n",
       " (39.20968, -84.46306),\n",
       " (40.06376, -82.99679),\n",
       " (39.937, -82.87316),\n",
       " (39.20655, -82.48212),\n",
       " (39.167788, -82.524172),\n",
       " (41.3991, -81.50805),\n",
       " (39.961933, -81.175436),\n",
       " (39.977322, -81.183327),\n",
       " (39.67698, -84.23229),\n",
       " (40.01228, -82.99218),\n",
       " (38.58119600000001, -82.004356),\n",
       " (38.583372, -81.994824),\n",
       " (40.10307, -83.12989),\n",
       " (41.58484, -83.56458),\n",
       " (38.29141, -85.64988000000002),\n",
       " (40.10307, -83.12989),\n",
       " (39.07599, -84.51941),\n",
       " (41.47068, -81.73583),\n",
       " (40.8293, -81.39706),\n",
       " (40.8293, -81.39706),\n",
       " (39.06035, -84.53317),\n",
       " (39.06272, -84.65743),\n",
       " (39.03371, -84.60359),\n",
       " (40.03205, -82.995),\n",
       " (39.8714, -84.89546999999997),\n",
       " (39.06035, -84.53317),\n",
       " (39.03791, -84.60596),\n",
       " (41.03755, -81.58442),\n",
       " (40.99023, -83.64958),\n",
       " (39.94249, -83.50368),\n",
       " (39.89475, -83.7256),\n",
       " (39.896448, -83.72312099999998),\n",
       " (41.47957, -81.66823000000002),\n",
       " (39.71767, -84.21632),\n",
       " (40.03744, -85.72343000000002),\n",
       " (41.15107, -81.21375),\n",
       " (41.17516, -81.23116999999998),\n",
       " (40.03744, -85.72343000000002),\n",
       " (39.99372, -85.8467),\n",
       " (40.46013, -80.19126),\n",
       " (41.68976, -83.666),\n",
       " (39.96738, -83.02441999999998),\n",
       " (39.52084, -83.84075),\n",
       " (39.83355, -85.99635),\n",
       " (39.79721, -85.97153),\n",
       " (39.97501, -83.11650999999998),\n",
       " (41.45406, -83.62244),\n",
       " (39.894461, -82.99546600000002),\n",
       " (39.97825, -83.02147),\n",
       " (40.880561, -81.965583),\n",
       " (41.424722, -81.531013),\n",
       " (39.34107, -84.39895),\n",
       " (39.94226, -82.53539),\n",
       " (38.354505, -81.731585),\n",
       " (38.353957, -81.73513100000002),\n",
       " (41.501923, -81.479074),\n",
       " (39.86628, -83.99031),\n",
       " (38.69455, -85.1604),\n",
       " (39.99881, -83.11846),\n",
       " (39.91978, -82.93149),\n",
       " (39.10414, -84.50438),\n",
       " (41.06266, -81.50474),\n",
       " (41.63548, -83.54284),\n",
       " (39.83208, -83.000447),\n",
       " (39.83214, -82.99838000000003),\n",
       " (39.82529, -83.03175999999998),\n",
       " (37.915564, -84.861798),\n",
       " (40.54999, -80.11972),\n",
       " (39.16181, -84.51402),\n",
       " (41.487043, -81.690637),\n",
       " (41.25666, -81.63157),\n",
       " (39.04577000000001, -84.5741),\n",
       " (39.20968, -84.46306),\n",
       " (39.89059, -82.88453),\n",
       " (39.74876, -84.20146),\n",
       " (39.97421, -83.09558),\n",
       " (39.07186, -84.51935999999998),\n",
       " (39.950594, -83.01572900000002),\n",
       " (39.95292, -82.99928100000002),\n",
       " (38.70138, -80.66486),\n",
       " (39.15314, -84.53904),\n",
       " (41.76185, -83.4806),\n",
       " (39.99094, -85.92014),\n",
       " (39.987258, -83.02388),\n",
       " (41.12366, -80.7642),\n",
       " (41.688256, -83.54644300000002),\n",
       " (41.53929, -81.62879000000002),\n",
       " (39.29747, -84.53181),\n",
       " (41.204286, -85.704719),\n",
       " (39.19615, -84.47335),\n",
       " (40.07916, -83.13641),\n",
       " (39.14347100000001, -84.47404),\n",
       " (41.123329, -80.782678),\n",
       " (41.34967, -81.51105),\n",
       " (39.86428400000001, -84.228309),\n",
       " (40.42061, -80.03929000000002),\n",
       " (39.9589, -82.98257),\n",
       " (39.915551, -83.853318),\n",
       " (39.89542, -83.85795999999998),\n",
       " (40.033231, -83.050979),\n",
       " (41.40887, -81.6551),\n",
       " (38.316435, -80.83362),\n",
       " (40.10717, -82.95766),\n",
       " (38.22677, -85.63964),\n",
       " (41.55022, -81.60536),\n",
       " (39.99384000000001, -82.98501999999998),\n",
       " (38.31688, -85.58794),\n",
       " (38.455335, -85.297894),\n",
       " (38.31485, -85.581631),\n",
       " (38.455335, -85.297894),\n",
       " (39.85809, -82.82798000000003),\n",
       " (38.154807, -80.915906),\n",
       " (39.97672, -83.12431),\n",
       " (41.47388, -81.70559),\n",
       " (39.26956, -84.43068000000002),\n",
       " (38.22582, -85.82176),\n",
       " (41.45656, -81.65731),\n",
       " (39.1765, -84.48756999999998),\n",
       " (41.40476, -82.11784),\n",
       " (41.53542, -83.61733000000002),\n",
       " (39.91632, -83.00161999999997),\n",
       " (41.60816, -81.48999),\n",
       " (41.17962, -85.16617),\n",
       " (41.5047, -81.6704),\n",
       " (39.97346, -83.08339000000002),\n",
       " (39.96738, -83.02441999999998),\n",
       " (39.89923, -82.90135),\n",
       " (39.8889, -83.04231999999998),\n",
       " (39.67698, -84.23229),\n",
       " (40.1219, -83.01602),\n",
       " (38.3438, -85.79863),\n",
       " (41.45656, -81.65731),\n",
       " (38.30214, -85.85455),\n",
       " (39.163252, -84.50874),\n",
       " (39.937567, -83.04209200000003),\n",
       " (39.936838, -83.042661),\n",
       " (39.94573, -82.60381),\n",
       " (39.26717, -84.34628000000002),\n",
       " (41.37085, -83.61688000000002),\n",
       " (39.24883300000001, -84.306671),\n",
       " (40.414179, -80.082321),\n",
       " (39.02264, -84.495124),\n",
       " (41.12366, -80.7642),\n",
       " (41.076757, -83.659926),\n",
       " (38.97914, -83.65465),\n",
       " (39.01992, -83.65886),\n",
       " (40.09927, -83.15793000000002),\n",
       " (39.94182, -83.01106999999998),\n",
       " (39.11622, -84.49982),\n",
       " (41.475299, -81.717128),\n",
       " (39.7894, -84.18387),\n",
       " (41.47961, -81.65204),\n",
       " (38.27261, -85.70104),\n",
       " (38.536943, -85.776595),\n",
       " (39.7356, -84.20472),\n",
       " (41.45406, -83.62244),\n",
       " (39.060308, -84.419567),\n",
       " (41.53151, -81.64945999999998),\n",
       " (40.7829, -81.38286),\n",
       " (38.39985, -85.76409),\n",
       " (39.02809, -84.61049),\n",
       " (40.91649, -81.78869),\n",
       " (40.90923, -81.79765),\n",
       " (39.16107, -80.35416),\n",
       " (40.07989, -82.92673),\n",
       " (41.47269, -81.85831999999998),\n",
       " (40.07989, -82.92673),\n",
       " (40.0816, -82.91763),\n",
       " (38.26781, -85.78095),\n",
       " (39.02945, -84.53952),\n",
       " (39.04919, -84.57133),\n",
       " (39.81436, -81.46898),\n",
       " (39.83026, -81.45434),\n",
       " (38.41324, -82.34541999999998),\n",
       " (38.20732, -85.75066),\n",
       " (38.11926, -85.70164),\n",
       " (40.2638, -82.92784),\n",
       " (38.23806, -85.62819),\n",
       " (40.43827, -80.00527),\n",
       " (39.05753, -84.54183),\n",
       " (40.051291, -85.991618),\n",
       " (41.67374, -83.5737),\n",
       " (40.59, -80.09765),\n",
       " (41.04409, -81.39317),\n",
       " (39.0399, -85.90469),\n",
       " (39.90803, -84.03969000000002),\n",
       " (39.887614, -84.047498),\n",
       " (39.8181, -81.45925),\n",
       " (39.81447, -81.46769),\n",
       " (39.8181, -81.45925),\n",
       " (41.460561, -80.366376),\n",
       " (41.47307, -80.36586),\n",
       " (39.75264, -84.18388),\n",
       " (39.16362, -84.50805),\n",
       " (39.818751, -84.167637),\n",
       " (39.82329, -84.166569),\n",
       " (39.14745, -84.53923),\n",
       " (40.48013, -85.72942900000002),\n",
       " (39.02515, -84.61157),\n",
       " (40.48013, -85.72942900000002),\n",
       " (40.480209, -85.719799),\n",
       " (38.24564, -85.69842),\n",
       " (39.25414, -84.44331),\n",
       " (39.18583, -84.48269),\n",
       " (41.421052, -81.68446899999998),\n",
       " (39.18173, -84.26549),\n",
       " (40.00634, -83.03097),\n",
       " (41.12631, -80.74732),\n",
       " (41.09671, -81.50008000000003),\n",
       " (41.029142, -81.393938),\n",
       " (39.9535, -82.99391),\n",
       " (39.91109, -83.02022),\n",
       " (39.11502, -84.50079000000002),\n",
       " (39.7356, -84.20472),\n",
       " (41.47213, -81.69373),\n",
       " (41.47393, -81.698157),\n",
       " (39.63735, -81.83691),\n",
       " (39.98547, -82.98512),\n",
       " (40.12519, -79.95815),\n",
       " (41.66332, -83.56385999999998),\n",
       " (39.35625, -84.37156999999998),\n",
       " (41.67102, -83.69383),\n",
       " (38.38021, -82.60709),\n",
       " (39.01946, -84.62035),\n",
       " (40.42055, -80.04923000000002),\n",
       " (41.34131, -83.376561),\n",
       " (41.341147, -83.347543),\n",
       " (40.2638, -82.92784),\n",
       " (40.43036, -80.0275),\n",
       " (39.95087, -86.01238000000002),\n",
       " (39.06035, -84.53317),\n",
       " (38.4925, -85.77131999999997),\n",
       " (39.98381, -80.01011),\n",
       " (39.97165800000001, -80.017133),\n",
       " (39.846892, -85.500638),\n",
       " (38.387935, -85.76096),\n",
       " (38.38594000000001, -81.76625),\n",
       " (41.47957, -81.66823000000002),\n",
       " (39.97912, -82.98871),\n",
       " (40.68109000000001, -80.24616999999998),\n",
       " (41.47442, -81.71181999999997),\n",
       " (40.68109000000001, -80.24616999999998),\n",
       " (40.1402, -82.97126),\n",
       " (39.85942, -84.27778),\n",
       " (39.10389, -84.50154),\n",
       " (39.28516, -84.4418),\n",
       " (39.27422, -84.44023),\n",
       " (41.14038, -81.64849),\n",
       " (39.04919, -84.57133),\n",
       " (38.25875, -85.74555),\n",
       " (38.22363, -85.50539),\n",
       " (39.94564, -83.06231),\n",
       " (38.827194, -120.030632),\n",
       " (37.361596, -121.842044),\n",
       " (37.885882, -122.308878),\n",
       " (37.88345800000001, -122.308366),\n",
       " (38.518811, -121.101664),\n",
       " (38.518811, -121.101664),\n",
       " (36.99046, -119.71138),\n",
       " (37.43042, -122.10352),\n",
       " (37.75085, -122.20549),\n",
       " (37.3181, -121.9781),\n",
       " (37.44403, -122.2593),\n",
       " (37.71814000000001, -121.66535),\n",
       " ...]"
      ]
     },
     "execution_count": 89,
     "metadata": {},
     "output_type": "execute_result"
    }
   ],
   "source": [
    "list(zip(list(df.End_Lat),list(df.End_Lng)))"
   ]
  },
  {
   "cell_type": "code",
   "execution_count": 90,
   "metadata": {
    "executionInfo": {
     "elapsed": 371,
     "status": "ok",
     "timestamp": 1678510156256,
     "user": {
      "displayName": "Amit Dhande",
      "userId": "10537376303475725898"
     },
     "user_tz": -330
    },
    "id": "E6lBhtHp_CN-"
   },
   "outputs": [],
   "source": [
    "\n",
    "lat_lon_end_pairs =list(zip(list(sample_df.End_Lat),list(sample_df.End_Lng))) "
   ]
  },
  {
   "cell_type": "code",
   "execution_count": 91,
   "metadata": {
    "colab": {
     "base_uri": "https://localhost:8080/",
     "height": 689
    },
    "executionInfo": {
     "elapsed": 727,
     "status": "ok",
     "timestamp": 1678510192694,
     "user": {
      "displayName": "Amit Dhande",
      "userId": "10537376303475725898"
     },
     "user_tz": -330
    },
    "id": "3h5ojfhG_CSx",
    "outputId": "4f1580b3-d003-4c73-8e70-3e43da7fdb07"
   },
   "outputs": [
    {
     "data": {
      "text/html": [
       "<div style=\"width:100%;\"><div style=\"position:relative;width:100%;height:0;padding-bottom:60%;\"><span style=\"color:#565656\">Make this Notebook Trusted to load map: File -> Trust Notebook</span><iframe srcdoc=\"&lt;!DOCTYPE html&gt;\n",
       "&lt;html&gt;\n",
       "&lt;head&gt;\n",
       "    \n",
       "    &lt;meta http-equiv=&quot;content-type&quot; content=&quot;text/html; charset=UTF-8&quot; /&gt;\n",
       "    \n",
       "        &lt;script&gt;\n",
       "            L_NO_TOUCH = false;\n",
       "            L_DISABLE_3D = false;\n",
       "        &lt;/script&gt;\n",
       "    \n",
       "    &lt;style&gt;html, body {width: 100%;height: 100%;margin: 0;padding: 0;}&lt;/style&gt;\n",
       "    &lt;style&gt;#map {position:absolute;top:0;bottom:0;right:0;left:0;}&lt;/style&gt;\n",
       "    &lt;script src=&quot;https://cdn.jsdelivr.net/npm/leaflet@1.6.0/dist/leaflet.js&quot;&gt;&lt;/script&gt;\n",
       "    &lt;script src=&quot;https://code.jquery.com/jquery-1.12.4.min.js&quot;&gt;&lt;/script&gt;\n",
       "    &lt;script src=&quot;https://maxcdn.bootstrapcdn.com/bootstrap/3.2.0/js/bootstrap.min.js&quot;&gt;&lt;/script&gt;\n",
       "    &lt;script src=&quot;https://cdnjs.cloudflare.com/ajax/libs/Leaflet.awesome-markers/2.0.2/leaflet.awesome-markers.js&quot;&gt;&lt;/script&gt;\n",
       "    &lt;link rel=&quot;stylesheet&quot; href=&quot;https://cdn.jsdelivr.net/npm/leaflet@1.6.0/dist/leaflet.css&quot;/&gt;\n",
       "    &lt;link rel=&quot;stylesheet&quot; href=&quot;https://maxcdn.bootstrapcdn.com/bootstrap/3.2.0/css/bootstrap.min.css&quot;/&gt;\n",
       "    &lt;link rel=&quot;stylesheet&quot; href=&quot;https://maxcdn.bootstrapcdn.com/bootstrap/3.2.0/css/bootstrap-theme.min.css&quot;/&gt;\n",
       "    &lt;link rel=&quot;stylesheet&quot; href=&quot;https://maxcdn.bootstrapcdn.com/font-awesome/4.6.3/css/font-awesome.min.css&quot;/&gt;\n",
       "    &lt;link rel=&quot;stylesheet&quot; href=&quot;https://cdnjs.cloudflare.com/ajax/libs/Leaflet.awesome-markers/2.0.2/leaflet.awesome-markers.css&quot;/&gt;\n",
       "    &lt;link rel=&quot;stylesheet&quot; href=&quot;https://cdn.jsdelivr.net/gh/python-visualization/folium/folium/templates/leaflet.awesome.rotate.min.css&quot;/&gt;\n",
       "    \n",
       "            &lt;meta name=&quot;viewport&quot; content=&quot;width=device-width,\n",
       "                initial-scale=1.0, maximum-scale=1.0, user-scalable=no&quot; /&gt;\n",
       "            &lt;style&gt;\n",
       "                #map_4daa3a4509f44f972727f132341dd57f {\n",
       "                    position: relative;\n",
       "                    width: 100.0%;\n",
       "                    height: 100.0%;\n",
       "                    left: 0.0%;\n",
       "                    top: 0.0%;\n",
       "                }\n",
       "            &lt;/style&gt;\n",
       "        \n",
       "    &lt;script src=&quot;https://cdn.jsdelivr.net/gh/python-visualization/folium@master/folium/templates/leaflet_heat.min.js&quot;&gt;&lt;/script&gt;\n",
       "&lt;/head&gt;\n",
       "&lt;body&gt;\n",
       "    \n",
       "    \n",
       "            &lt;div class=&quot;folium-map&quot; id=&quot;map_4daa3a4509f44f972727f132341dd57f&quot; &gt;&lt;/div&gt;\n",
       "        \n",
       "&lt;/body&gt;\n",
       "&lt;script&gt;\n",
       "    \n",
       "    \n",
       "            var map_4daa3a4509f44f972727f132341dd57f = L.map(\n",
       "                &quot;map_4daa3a4509f44f972727f132341dd57f&quot;,\n",
       "                {\n",
       "                    center: [0, 0],\n",
       "                    crs: L.CRS.EPSG3857,\n",
       "                    zoom: 1,\n",
       "                    zoomControl: true,\n",
       "                    preferCanvas: false,\n",
       "                }\n",
       "            );\n",
       "\n",
       "            \n",
       "\n",
       "        \n",
       "    \n",
       "            var tile_layer_c8e36ba24b65cd2ad2dd5476268bca0e = L.tileLayer(\n",
       "                &quot;https://{s}.tile.openstreetmap.org/{z}/{x}/{y}.png&quot;,\n",
       "                {&quot;attribution&quot;: &quot;Data by \\u0026copy; \\u003ca href=\\&quot;http://openstreetmap.org\\&quot;\\u003eOpenStreetMap\\u003c/a\\u003e, under \\u003ca href=\\&quot;http://www.openstreetmap.org/copyright\\&quot;\\u003eODbL\\u003c/a\\u003e.&quot;, &quot;detectRetina&quot;: false, &quot;maxNativeZoom&quot;: 18, &quot;maxZoom&quot;: 18, &quot;minZoom&quot;: 0, &quot;noWrap&quot;: false, &quot;opacity&quot;: 1, &quot;subdomains&quot;: &quot;abc&quot;, &quot;tms&quot;: false}\n",
       "            ).addTo(map_4daa3a4509f44f972727f132341dd57f);\n",
       "        \n",
       "    \n",
       "            var heat_map_5099ab7c007653706959086a7b17c00c = L.heatLayer(\n",
       "                [[33.753481, -118.015153], [37.915582, -122.327126], [30.406248, -97.674495], [33.87548, -117.26543999999998], [33.428515999999995, -112.09932], [34.055612, -117.165342], [33.994508, -117.88671399999998], [29.96642, -90.07137], [33.004809, -80.234406], [34.723869, -83.016322], [40.90858, -74.17585], [38.940809, -77.205732], [28.482248, -81.396664], [45.060121, -123.580233], [37.58829, -77.57248], [27.447751, -82.573305], [42.378891, -83.206597], [34.490019000000004, -82.479423], [25.930202, -80.188344], [36.113873, -86.8099], [27.458623, -82.556925], [25.86293, -80.32267], [33.965489, -118.309494], [33.810041, -118.29025], [33.788359, -117.993938], [37.834723, -122.294706], [38.501935, -90.322309], [35.67088, -78.70638000000002], [42.62189, -71.17685], [37.799427, -112.814922], [30.382662, -81.556219], [45.231346, -94.939782], [40.74499, -112.64178], [40.742882, -73.830539], [45.563456, -94.13646], [34.194404, -117.365825], [38.557036, -121.446347], [34.674416, -92.369158], [25.737922, -80.31981400000002], [32.880302, -96.850566], [46.590446, -112.924107], [36.815754, -119.785525], [38.657536, -121.057107], [37.359288, -77.431375], [40.686702, -111.902708], [42.23447, -83.437353], [39.77537, -104.86073600000002], [38.79405, -77.15101], [28.637764, -81.41506600000002], [44.18037800000001, -122.120851], [28.364788, -80.700182], [34.108066, -118.330836], [30.21083, -81.51371999999998], [34.746691, -92.365691], [46.80363300000001, -92.067988], [42.008546, -71.84546], [37.0332, -76.36363], [39.055452, -94.482412], [39.900221, -104.988178], [35.039228, -120.486907], [40.728536, -74.10337], [34.135991, -117.374807], [45.507844, -122.721845], [33.946811, -118.30025], [30.303543, -89.73121], [33.90215, -118.1048], [28.413478, -81.423153], [41.621952, -72.69233], [34.15542, -118.40082], [34.012511, -118.41851], [39.09088, -77.17518000000003], [37.68307, -122.12673999999998], [39.59641, -76.059669], [40.0679, -76.29871999999997], [38.375132, -81.671211], [33.69575, -117.86392], [30.243483, -82.741116], [34.012244, -118.497194], [38.160197, -121.259993], [39.684471, -75.586913], [30.416647, -91.143201], [25.010744, -80.515575], [32.917483000000004, -96.898301], [33.759821, -117.831182], [34.05763, -118.17216], [38.574718, -121.380989], [27.006357, -80.208488], [39.33181, -80.23074], [40.885841, -73.896632], [29.404305, -98.557048], [34.818087, -92.332094], [44.629481, -123.042409], [34.403443, -79.359425], [34.10917, -117.52893], [33.949791999999995, -118.091827], [34.035848, -117.322536], [34.085394, -78.09568900000002], [28.413918, -81.83100999999998], [40.73752, -73.85096], [42.26322, -71.57216]],\n",
       "                {&quot;blur&quot;: 15, &quot;maxZoom&quot;: 18, &quot;minOpacity&quot;: 0.5, &quot;radius&quot;: 25}\n",
       "            ).addTo(map_4daa3a4509f44f972727f132341dd57f);\n",
       "        \n",
       "    \n",
       "            var heat_map_c975c47118a9a7601aad7f02c41cbf52 = L.heatLayer(\n",
       "                [[33.754382, -118.01625], [37.908542, -122.321086], [30.408038, -97.674731], [33.87519, -117.26532], [33.428671, -112.09771], [34.054521, -117.163752], [33.995949, -117.888362], [29.96485, -90.0728], [33.012498, -80.238011], [34.721981, -83.013992], [40.9071, -74.16726], [38.899385, -77.215121], [28.484279, -81.397518], [45.061576, -123.572199], [37.58829, -77.57248], [27.447747, -82.575406], [42.385231, -83.15781700000002], [34.49337, -82.485646], [25.928536, -80.18777], [36.113486, -86.810948], [27.458122, -82.556929], [25.873754, -80.323079], [33.965477, -118.311183], [33.810041, -118.29025], [33.788927, -117.992834], [37.880859, -122.307785], [38.48904, -90.284069], [35.672731, -78.71780600000002], [42.62501, -71.17779], [37.835273, -112.817875], [30.373337, -81.552284], [45.231636, -94.939694], [40.74499, -112.64178], [40.753689, -73.74421600000002], [45.562883, -94.135863], [34.212964, -117.389627], [38.555415, -121.44142], [34.667186, -92.388892], [25.732854, -80.31828399999998], [32.880305, -96.84952], [46.582509, -112.902299], [36.812873, -119.785477], [38.657536, -121.057107], [37.359777, -77.43429300000003], [40.686687, -111.902433], [42.229952, -83.42808000000002], [39.77501, -104.85658], [38.79118, -77.168858], [28.637841, -81.41507], [44.175438, -122.144826], [28.365532, -80.700186], [34.109123, -118.332614], [30.22167, -81.51385], [34.745047, -92.334341], [46.795371, -92.086934], [42.010706, -71.844808], [37.031871, -76.375908], [39.051772, -94.474457], [39.897492, -104.987711], [35.039228, -120.486907], [40.728716, -74.1041], [34.135961, -117.378167], [45.514872, -122.691519], [33.946811, -118.30025], [30.297353, -89.74509], [33.91422, -118.11015], [28.409452, -81.424774], [41.635224, -72.68415999999998], [34.15436, -118.39305], [34.025298, -118.428681], [39.08235, -77.17218000000003], [37.6885, -122.13464], [39.59366, -76.06604899999998], [40.0679, -76.29871899999998], [38.375676, -81.67059300000003], [33.70071, -117.85931], [30.261363, -82.751216], [34.012464, -118.490774], [38.160198, -121.26018], [39.683875, -75.587417], [30.422734, -91.139544], [25.011559, -80.514747], [32.939168, -96.902532], [33.759821, -117.831182], [34.05775, -118.17252], [38.573498, -121.38313], [26.964676, -80.172138], [39.32313, -80.23918], [40.886233, -73.89609300000002], [29.404677000000003, -98.557011], [34.822457, -92.341484], [44.62947800000001, -123.042467], [34.403367, -79.356527], [34.10343, -117.53583], [33.966828, -118.083429], [34.044968, -117.311146], [34.088811, -78.09421400000002], [28.420094, -81.831624], [40.73822, -73.84869], [42.26555, -71.56689]],\n",
       "                {&quot;blur&quot;: 15, &quot;maxZoom&quot;: 18, &quot;minOpacity&quot;: 0.5, &quot;radius&quot;: 25}\n",
       "            ).addTo(map_4daa3a4509f44f972727f132341dd57f);\n",
       "        \n",
       "&lt;/script&gt;\n",
       "&lt;/html&gt;\" style=\"position:absolute;width:100%;height:100%;left:0;top:0;border:none !important;\" allowfullscreen webkitallowfullscreen mozallowfullscreen></iframe></div></div>"
      ],
      "text/plain": [
       "<folium.folium.Map at 0x7f914fb8dd30>"
      ]
     },
     "execution_count": 91,
     "metadata": {},
     "output_type": "execute_result"
    }
   ],
   "source": [
    "\n",
    "HeatMap(lat_lon_end_pairs[:100]).add_to(map)\n",
    "map"
   ]
  },
  {
   "cell_type": "markdown",
   "metadata": {
    "id": "xS99y4mMzi8M"
   },
   "source": [
    "### State"
   ]
  },
  {
   "cell_type": "code",
   "execution_count": 62,
   "metadata": {
    "colab": {
     "base_uri": "https://localhost:8080/"
    },
    "executionInfo": {
     "elapsed": 44,
     "status": "ok",
     "timestamp": 1678507496735,
     "user": {
      "displayName": "Amit Dhande",
      "userId": "10537376303475725898"
     },
     "user_tz": -330
    },
    "id": "-DBhitHmxtRB",
    "outputId": "a5e02afc-cc52-4bbc-8dfc-6a88a85018ce"
   },
   "outputs": [
    {
     "data": {
      "text/plain": [
       "Index(['ID', 'Severity', 'Start_Time', 'End_Time', 'Start_Lat', 'Start_Lng',\n",
       "       'End_Lat', 'End_Lng', 'Distance(mi)', 'Description', 'Number', 'Street',\n",
       "       'Side', 'City', 'County', 'State', 'Zipcode', 'Country', 'Timezone',\n",
       "       'Airport_Code', 'Weather_Timestamp', 'Temperature(F)', 'Wind_Chill(F)',\n",
       "       'Humidity(%)', 'Pressure(in)', 'Visibility(mi)', 'Wind_Direction',\n",
       "       'Wind_Speed(mph)', 'Precipitation(in)', 'Weather_Condition', 'Amenity',\n",
       "       'Bump', 'Crossing', 'Give_Way', 'Junction', 'No_Exit', 'Railway',\n",
       "       'Roundabout', 'Station', 'Stop', 'Traffic_Calming', 'Traffic_Signal',\n",
       "       'Turning_Loop', 'Sunrise_Sunset', 'Civil_Twilight', 'Nautical_Twilight',\n",
       "       'Astronomical_Twilight'],\n",
       "      dtype='object')"
      ]
     },
     "execution_count": 62,
     "metadata": {},
     "output_type": "execute_result"
    }
   ],
   "source": [
    "df.columns"
   ]
  },
  {
   "cell_type": "code",
   "execution_count": 63,
   "metadata": {
    "colab": {
     "base_uri": "https://localhost:8080/"
    },
    "executionInfo": {
     "elapsed": 42,
     "status": "ok",
     "timestamp": 1678507496736,
     "user": {
      "displayName": "Amit Dhande",
      "userId": "10537376303475725898"
     },
     "user_tz": -330
    },
    "id": "brrqqGprxtlI",
    "outputId": "b051c58a-bf83-4800-949e-a33e63a9bc02"
   },
   "outputs": [
    {
     "data": {
      "text/plain": [
       "0          OH\n",
       "1          OH\n",
       "2          OH\n",
       "3          OH\n",
       "4          OH\n",
       "           ..\n",
       "2845337    CA\n",
       "2845338    CA\n",
       "2845339    CA\n",
       "2845340    CA\n",
       "2845341    CA\n",
       "Name: State, Length: 2845342, dtype: object"
      ]
     },
     "execution_count": 63,
     "metadata": {},
     "output_type": "execute_result"
    }
   ],
   "source": [
    "df.State"
   ]
  },
  {
   "cell_type": "code",
   "execution_count": 64,
   "metadata": {
    "colab": {
     "base_uri": "https://localhost:8080/"
    },
    "executionInfo": {
     "elapsed": 34,
     "status": "ok",
     "timestamp": 1678507496737,
     "user": {
      "displayName": "Amit Dhande",
      "userId": "10537376303475725898"
     },
     "user_tz": -330
    },
    "id": "GuW3zpAUxtof",
    "outputId": "7822098b-6388-4ba9-92f2-227a2eb417e6"
   },
   "outputs": [
    {
     "data": {
      "text/plain": [
       "CA    795868\n",
       "FL    401388\n",
       "TX    149037\n",
       "OR    126341\n",
       "VA    113535\n",
       "NY    108049\n",
       "PA     99975\n",
       "MN     97185\n",
       "NC     91362\n",
       "SC     89216\n",
       "MD     65085\n",
       "AZ     56504\n",
       "NJ     52902\n",
       "TN     52613\n",
       "UT     49193\n",
       "LA     47232\n",
       "IL     47105\n",
       "MI     43843\n",
       "GA     40086\n",
       "WA     32554\n",
       "CT     29762\n",
       "MO     29633\n",
       "CO     25340\n",
       "OH     24409\n",
       "IN     20850\n",
       "AL     19322\n",
       "MT     15964\n",
       "AR     10935\n",
       "IA      9607\n",
       "DC      9133\n",
       "KS      9033\n",
       "OK      8806\n",
       "ID      8544\n",
       "WI      7896\n",
       "WV      7632\n",
       "KY      6638\n",
       "MA      6392\n",
       "NV      6197\n",
       "MS      5320\n",
       "DE      4842\n",
       "RI      4451\n",
       "NH      3866\n",
       "NE      3320\n",
       "NM      2370\n",
       "ND      2258\n",
       "ME      2193\n",
       "WY       990\n",
       "VT       365\n",
       "SD       201\n",
       "Name: State, dtype: int64"
      ]
     },
     "execution_count": 64,
     "metadata": {},
     "output_type": "execute_result"
    }
   ],
   "source": [
    "states_by_accident = df.State.value_counts()\n",
    "states_by_accident"
   ]
  },
  {
   "cell_type": "code",
   "execution_count": 65,
   "metadata": {
    "colab": {
     "base_uri": "https://localhost:8080/"
    },
    "executionInfo": {
     "elapsed": 28,
     "status": "ok",
     "timestamp": 1678507496738,
     "user": {
      "displayName": "Amit Dhande",
      "userId": "10537376303475725898"
     },
     "user_tz": -330
    },
    "id": "XJWFE42hxtt7",
    "outputId": "48a460ee-7ffc-46d4-e3d2-b9c3a84baafc"
   },
   "outputs": [
    {
     "data": {
      "text/plain": [
       "CA    795868\n",
       "FL    401388\n",
       "TX    149037\n",
       "OR    126341\n",
       "VA    113535\n",
       "Name: State, dtype: int64"
      ]
     },
     "execution_count": 65,
     "metadata": {},
     "output_type": "execute_result"
    }
   ],
   "source": [
    "states_by_accident.head()"
   ]
  },
  {
   "cell_type": "code",
   "execution_count": 66,
   "metadata": {
    "colab": {
     "base_uri": "https://localhost:8080/",
     "height": 342
    },
    "executionInfo": {
     "elapsed": 1294,
     "status": "ok",
     "timestamp": 1678507498012,
     "user": {
      "displayName": "Amit Dhande",
      "userId": "10537376303475725898"
     },
     "user_tz": -330
    },
    "id": "82RFvalq3qOo",
    "outputId": "8ac9f798-951e-46c9-bb43-ddf636727bdb"
   },
   "outputs": [
    {
     "data": {
      "text/plain": [
       "<AxesSubplot:>"
      ]
     },
     "execution_count": 66,
     "metadata": {},
     "output_type": "execute_result"
    },
    {
     "data": {
      "image/png": "[encoded data removed]",
      "text/plain": [
       "<Figure size 720x360 with 1 Axes>"
      ]
     },
     "metadata": {},
     "output_type": "display_data"
    }
   ],
   "source": [
    "plt.figure(figsize=(10,5))\n",
    "states_by_accident.head().plot(kind=\"bar\")"
   ]
  },
  {
   "cell_type": "markdown",
   "metadata": {
    "id": "wAp4duzPBAt7"
   },
   "source": [
    "### Amenity"
   ]
  },
  {
   "cell_type": "code",
   "execution_count": 94,
   "metadata": {
    "colab": {
     "base_uri": "https://localhost:8080/"
    },
    "executionInfo": {
     "elapsed": 694,
     "status": "ok",
     "timestamp": 1678510501764,
     "user": {
      "displayName": "Amit Dhande",
      "userId": "10537376303475725898"
     },
     "user_tz": -330
    },
    "id": "2q8L36SABBV0",
    "outputId": "d5bcae33-739e-4b03-bb55-1148bbac1b69"
   },
   "outputs": [
    {
     "data": {
      "text/plain": [
       "False"
      ]
     },
     "execution_count": 94,
     "metadata": {},
     "output_type": "execute_result"
    }
   ],
   "source": [
    "list(df.Amenity)== True"
   ]
  },
  {
   "cell_type": "markdown",
   "metadata": {
    "id": "smvRm61LB4Ch"
   },
   "source": [
    "### Weather_Condition"
   ]
  },
  {
   "cell_type": "code",
   "execution_count": 122,
   "metadata": {
    "colab": {
     "base_uri": "https://localhost:8080/"
    },
    "executionInfo": {
     "elapsed": 385,
     "status": "ok",
     "timestamp": 1678512504290,
     "user": {
      "displayName": "Amit Dhande",
      "userId": "10537376303475725898"
     },
     "user_tz": -330
    },
    "id": "L6E5fJtxBBtt",
    "outputId": "d11fff2f-2c20-4d5d-b9cd-f76189a34523"
   },
   "outputs": [
    {
     "data": {
      "text/plain": [
       "Fair                            1107194\n",
       "Mostly Cloudy                    363959\n",
       "Cloudy                           348767\n",
       "Partly Cloudy                    249939\n",
       "Clear                            173823\n",
       "Light Rain                       128403\n",
       "Overcast                          84882\n",
       "Scattered Clouds                  45132\n",
       "Light Snow                        43752\n",
       "Fog                               41226\n",
       "Haze                              36354\n",
       "Rain                              31044\n",
       "Fair / Windy                      15195\n",
       "Heavy Rain                        11824\n",
       "Smoke                              7200\n",
       "Light Drizzle                      7041\n",
       "Thunder in the Vicinity            6944\n",
       "Cloudy / Windy                     6839\n",
       "T-Storm                            6546\n",
       "Mostly Cloudy / Windy              6297\n",
       "Thunder                            6018\n",
       "Snow                               5289\n",
       "Light Rain with Thunder            5287\n",
       "Partly Cloudy / Windy              3876\n",
       "Wintry Mix                         3843\n",
       "Heavy T-Storm                      3598\n",
       "Light Rain / Windy                 3412\n",
       "Light Snow / Windy                 2153\n",
       "Drizzle                            1705\n",
       "Heavy Snow                         1441\n",
       "Rain / Windy                       1093\n",
       "Light Thunderstorms and Rain       1089\n",
       "N/A Precipitation                  1079\n",
       "Patches of Fog                     1046\n",
       "Mist                               1011\n",
       "Thunderstorm                        985\n",
       "Shallow Fog                         952\n",
       "Light Freezing Rain                 900\n",
       "Heavy Rain / Windy                  725\n",
       "Showers in the Vicinity             650\n",
       "Haze / Windy                        563\n",
       "Heavy Thunderstorms and Rain        510\n",
       "Thunderstorms and Rain              506\n",
       "Snow / Windy                        401\n",
       "Light Freezing Fog                  385\n",
       "Heavy T-Storm / Windy               382\n",
       "Light Freezing Drizzle              369\n",
       "Fog / Windy                         270\n",
       "T-Storm / Windy                     260\n",
       "Thunder / Windy                     224\n",
       "Name: Weather_Condition, dtype: int64"
      ]
     },
     "execution_count": 122,
     "metadata": {},
     "output_type": "execute_result"
    }
   ],
   "source": [
    "accident_by_weather_condition=df.Weather_Condition.value_counts()\n",
    "accident_by_weather_condition.head(50)"
   ]
  },
  {
   "cell_type": "code",
   "execution_count": 132,
   "metadata": {
    "colab": {
     "base_uri": "https://localhost:8080/",
     "height": 593
    },
    "executionInfo": {
     "elapsed": 1826,
     "status": "ok",
     "timestamp": 1678516832900,
     "user": {
      "displayName": "Amit Dhande",
      "userId": "10537376303475725898"
     },
     "user_tz": -330
    },
    "id": "SzmAmfpRJvJg",
    "outputId": "aa93e95e-0306-4103-8c2b-aef671c34ef1"
   },
   "outputs": [
    {
     "data": {
      "text/plain": [
       "<AxesSubplot:ylabel='Weather_Condition'>"
      ]
     },
     "execution_count": 132,
     "metadata": {},
     "output_type": "execute_result"
    },
    {
     "data": {
      "image/png": "[encoded data removed]",
      "text/plain": [
       "<Figure size 720x720 with 1 Axes>"
      ]
     },
     "metadata": {},
     "output_type": "display_data"
    }
   ],
   "source": [
    "accident_by_weather_condition.head(10).plot(kind=\"pie\",autopct='%1.1f%%',figsize=(10, 10))"
   ]
  },
  {
   "cell_type": "markdown",
   "metadata": {
    "id": "xbsSm8rCPToj"
   },
   "source": [
    "## Ask & answer questions\n",
    "1. Are there more accidents in which weather condition?\n",
    "  - Fair\n",
    "2. which 5 states have the highest number of accidents? \n",
    "  -  CA    795868\n",
    "  - FL    401388\n",
    "  - TX    149037\n",
    "  - OR    126341\n",
    "  - VA    113535\n",
    "3. Among the top 100 cities in number of accidents, which states do they belong most frequently .\n",
    "  - Answered\n",
    "4. what time of the day are accidents most frequent in ?\n",
    "  -  mostly office time i.e. 6AM to 10AM and 3PM to 9PM\n",
    "5. which day of week have most accidents?\n",
    "  - workdays\n",
    "6. which months have the most accidents ?\n",
    "  - its varry but most accidents ocuurs in december .\n",
    "7. what is the trend of accidnets year over year(decresing/incresing)?\n",
    "  - overall its constant for every year\n"
   ]
  },
  {
   "cell_type": "markdown",
   "metadata": {
    "id": "8a0E3NJn6YRO"
   },
   "source": [
    "## Summary and Conclusion\n",
    "Insights:\n",
    "- No data from New York\n",
    "- Less than 4% of cities have more than 1000 accident yearly\n",
    "- over 1110 cities have reported just 1 accident (need to check)\n",
    "- accident rate decreases exponentially\n",
    "- no Amenity present nearby any accident"
   ]
  },
  {
   "cell_type": "code",
   "execution_count": 133,
   "metadata": {
    "executionInfo": {
     "elapsed": 4,
     "status": "ok",
     "timestamp": 1678517147639,
     "user": {
      "displayName": "Amit Dhande",
      "userId": "10537376303475725898"
     },
     "user_tz": -330
    },
    "id": "DRnuJKCGaKb9"
   },
   "outputs": [],
   "source": [
    "import jovian"
   ]
  },
  {
   "cell_type": "code",
   "execution_count": null,
   "metadata": {
    "colab": {
     "base_uri": "https://localhost:8080/"
    },
    "id": "MQVO5ZWCaKnP",
    "outputId": "b0ef4855-87c5-441d-ba74-390ef95ea906"
   },
   "outputs": [
    {
     "name": "stdout",
     "output_type": "stream",
     "text": [
      "[jovian] Detected Colab notebook...\u001b[0m\n",
      "[jovian] Please enter your API key ( from https://jovian.com/ ):\u001b[0m\n",
      "API KEY:"
     ]
    }
   ],
   "source": [
    "jovian.commit()"
   ]
  }
 ],
 "metadata": {
  "colab": {
   "provenance": []
  },
  "language_info": {
   "codemirror_mode": {
    "name": "ipython",
    "version": 3
   },
   "file_extension": ".py",
   "mimetype": "text/x-python",
   "name": "python",
   "nbconvert_exporter": "python",
   "pygments_lexer": "ipython3",
   "version": "3.7.6"
  }
 },
 "nbformat": 4,
 "nbformat_minor": 0
}